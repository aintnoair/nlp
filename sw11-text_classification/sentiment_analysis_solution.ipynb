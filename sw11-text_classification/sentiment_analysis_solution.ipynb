{
 "cells": [
  {
   "cell_type": "markdown",
   "id": "d6440509",
   "metadata": {},
   "source": [
    "# Sentiment Analysis\n",
    "\n",
    "In this exercise, we're going to perform sentiment analysis on tweets."
   ]
  },
  {
   "cell_type": "code",
   "execution_count": 1,
   "id": "5e30b1da",
   "metadata": {},
   "outputs": [],
   "source": [
    "import torch"
   ]
  },
  {
   "cell_type": "markdown",
   "id": "1f5391fc",
   "metadata": {},
   "source": [
    "## Data\n",
    "\n",
    "We're going to use a truncated version of the [Sentiment140 dataset](https://www.kaggle.com/datasets/kazanova/sentiment140). The full dataset contains 1.6M tweets with a sentiment (polarity) label. Each line of the CSV file contains the following 6 fields:\n",
    "1. target: the polarity of the tweet (0 = negative, 2 = neutral, 4 = positive)\n",
    "2. ids: The id of the tweet (2087)\n",
    "3. date: the date of the tweet (Sat May 16 23:58:44 UTC 2009)\n",
    "4. flag: The query (lyx). If there is no query, then this value is NO_QUERY.\n",
    "5. user: the user that tweeted (robotickilldozr)\n",
    "6. text: the text of the tweet (Lyx is cool)\n",
    "\n",
    "We load the truncated CSV file `tweets.2000.processed.noemoticon.csv` instead. It contains 2000 tweets (1 tweet per line), 1000 each for label 0 and 4."
   ]
  },
  {
   "cell_type": "code",
   "execution_count": 2,
   "id": "8a9522d7",
   "metadata": {},
   "outputs": [
    {
     "name": "stdout",
     "output_type": "stream",
     "text": [
      "Label: 0\n",
      "User: _TheSpecialOne_\n",
      "Text: @switchfoot http://twitpic.com/2y1zl - Awww, that's a bummer.  You shoulda got David Carr of Third Day to do it. ;D\n",
      "Label is of type <class 'str'>, convert to int like this: 0\n"
     ]
    }
   ],
   "source": [
    "import csv\n",
    "fieldnames = ['label', 'id', 'date', 'query', 'user', 'text']\n",
    "with open('tweets.2000.processed.noemoticon.csv', 'r', encoding='ISO-8859-1') as csvfile:\n",
    "    reader = csv.DictReader(csvfile, fieldnames=fieldnames)\n",
    "    for row in reader:\n",
    "        print(f\"Label: {row['label']}\")\n",
    "        print(f\"User: {row['user']}\")\n",
    "        print(f\"Text: {row['text']}\")\n",
    "        break\n",
    "print(f\"Label is of type {type(row['label'])}, convert to int like this: {int(row['label'])}\")"
   ]
  },
  {
   "cell_type": "markdown",
   "id": "bcd7f9ca",
   "metadata": {},
   "source": [
    "## Model\n",
    "\n",
    "We're going to use a popular sentiment analysis model from the CardiffNLP group, which we download from HuggingFace: `cardiffnlp/twitter-roberta-base-sentiment`. As you can see from the name, it is based on a pretrained RoBERTa model and was finetuned on tweets for sentiment analysis. Check out the [model description](https://huggingface.co/cardiffnlp/twitter-roberta-base-sentiment?text=I+like+turtles.) for examples of how to use it."
   ]
  },
  {
   "cell_type": "code",
   "execution_count": 3,
   "id": "98408de0",
   "metadata": {},
   "outputs": [],
   "source": [
    "from transformers import AutoTokenizer, AutoModelForSequenceClassification\n",
    "\n",
    "tokenizer = AutoTokenizer.from_pretrained('cardiffnlp/twitter-roberta-base-sentiment')\n",
    "model = AutoModelForSequenceClassification.from_pretrained('cardiffnlp/twitter-roberta-base-sentiment')\n",
    "model.eval()\n",
    "pass  # suppress output"
   ]
  },
  {
   "cell_type": "markdown",
   "id": "41838cc4",
   "metadata": {},
   "source": [
    "From the model description, we see that we have to preprocess tweets first to bring them into the format expected by the model. Let's implement the `preprocess` method as it is described in their example."
   ]
  },
  {
   "cell_type": "code",
   "execution_count": 4,
   "id": "0cfc3422",
   "metadata": {},
   "outputs": [],
   "source": [
    "# Preprocess text (username and link placeholders)\n",
    "def preprocess(text):\n",
    "    new_text = []\n",
    "    for t in text.split(\" \"):\n",
    "        t = '@user' if t.startswith('@') and len(t) > 1 else t\n",
    "        t = 'http' if t.startswith('http') else t\n",
    "        new_text.append(t)\n",
    "    return \" \".join(new_text)"
   ]
  },
  {
   "cell_type": "markdown",
   "id": "d61a37c8",
   "metadata": {},
   "source": [
    "Let's classify the first tweet in our dataset. Give the probabilities of the sentiment classification model for each of the 3 classes it outputs: negative, neutral and positive sentiment."
   ]
  },
  {
   "cell_type": "code",
   "execution_count": 5,
   "id": "11bcd274",
   "metadata": {},
   "outputs": [
    {
     "name": "stdout",
     "output_type": "stream",
     "text": [
      "Tweet: @switchfoot http://twitpic.com/2y1zl - Awww, that's a bummer.  You shoulda got David Carr of Third Day to do it. ;D\n",
      "Preprocessed text: @user http - Awww, that's a bummer.  You shoulda got David Carr of Third Day to do it. ;D\n",
      "Probability of negative sentiment: 63.41%\n",
      "Probability of neutral sentiment: 31.54%\n",
      "Probability of positive sentiment: 5.05%\n"
     ]
    }
   ],
   "source": [
    "with open('tweets.2000.processed.noemoticon.csv', 'r', encoding='ISO-8859-1') as csvfile:\n",
    "    reader = csv.DictReader(csvfile, fieldnames=fieldnames)\n",
    "    for row in reader:\n",
    "        tweet = row['text']\n",
    "        break\n",
    "\n",
    "text = preprocess(tweet)\n",
    "encoded_input = tokenizer(text, return_tensors='pt')\n",
    "with torch.no_grad():\n",
    "    output = model(**encoded_input)\n",
    "probabilities = torch.softmax(output.logits[0], dim=-1)\n",
    "print(f\"Tweet: {tweet}\")\n",
    "print(f\"Preprocessed text: {text}\")\n",
    "print(f\"Probability of negative sentiment: {probabilities[0]:.2%}\")\n",
    "print(f\"Probability of neutral sentiment: {probabilities[1]:.2%}\")\n",
    "print(f\"Probability of positive sentiment: {probabilities[2]:.2%}\")"
   ]
  },
  {
   "cell_type": "markdown",
   "id": "c30b2c02",
   "metadata": {},
   "source": [
    "Now classify all the tweets and evaluate how well the model does in terms of classification accuracy."
   ]
  },
  {
   "cell_type": "code",
   "execution_count": 6,
   "id": "128bf79d",
   "metadata": {},
   "outputs": [],
   "source": [
    "def classify(tweet):\n",
    "    \"\"\" Returns probabilities for each of the 3 classes: negative, neutral, positive. \"\"\"\n",
    "    text = preprocess(tweet)\n",
    "    encoded_input = tokenizer(text, return_tensors='pt')\n",
    "    with torch.no_grad():\n",
    "        output = model(**encoded_input)\n",
    "    probabilities = torch.softmax(output.logits[0], dim=-1)\n",
    "    return probabilities"
   ]
  },
  {
   "cell_type": "code",
   "execution_count": 7,
   "id": "f1569d97",
   "metadata": {},
   "outputs": [],
   "source": [
    "def score(label, predictions):\n",
    "    \"\"\" Returns 1 if the label has the highest probability. \"\"\"\n",
    "    # dataset's labels are 0 for negative and 4 for positive --> convert to 0 and 2\n",
    "    true_label = label / 2\n",
    "    predicted_label = predictions.argmax().item()\n",
    "    return 1 if true_label == predicted_label else 0"
   ]
  },
  {
   "cell_type": "code",
   "execution_count": 8,
   "id": "431a7550",
   "metadata": {},
   "outputs": [
    {
     "name": "stderr",
     "output_type": "stream",
     "text": [
      "2000it [01:36, 20.69it/s]"
     ]
    },
    {
     "name": "stdout",
     "output_type": "stream",
     "text": [
      "Accuracy: 58.40% (1168/2000)\n"
     ]
    },
    {
     "name": "stderr",
     "output_type": "stream",
     "text": [
      "\n"
     ]
    }
   ],
   "source": [
    "import tqdm\n",
    "\n",
    "correct = 0\n",
    "total = 0\n",
    "with open('tweets.2000.processed.noemoticon.csv', 'r', encoding='ISO-8859-1') as csvfile:\n",
    "    reader = csv.DictReader(csvfile, fieldnames=fieldnames)\n",
    "    for row in tqdm.tqdm(reader):\n",
    "        label = int(row['label'])\n",
    "        tweet = row['text']\n",
    "        predictions = classify(tweet)\n",
    "        correct += score(label, predictions)\n",
    "        total += 1\n",
    "\n",
    "print(f\"Accuracy: {correct/total:.2%} ({correct}/{total})\")"
   ]
  }
 ],
 "metadata": {
  "kernelspec": {
   "display_name": "Python 3 (ipykernel)",
   "language": "python",
   "name": "python3"
  },
  "language_info": {
   "codemirror_mode": {
    "name": "ipython",
    "version": 3
   },
   "file_extension": ".py",
   "mimetype": "text/x-python",
   "name": "python",
   "nbconvert_exporter": "python",
   "pygments_lexer": "ipython3",
   "version": "3.12.5"
  }
 },
 "nbformat": 4,
 "nbformat_minor": 5
}
