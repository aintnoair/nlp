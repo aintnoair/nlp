{
 "cells": [
  {
   "cell_type": "markdown",
   "id": "d6440509",
   "metadata": {},
   "source": [
    "# Sentiment Analysis\n",
    "\n",
    "In this exercise, we're going to perform sentiment analysis on tweets."
   ]
  },
  {
   "cell_type": "code",
   "execution_count": null,
   "id": "5e30b1da",
   "metadata": {},
   "outputs": [],
   "source": [
    "import torch"
   ]
  },
  {
   "cell_type": "markdown",
   "id": "1f5391fc",
   "metadata": {},
   "source": [
    "## Data\n",
    "\n",
    "We're going to use a truncated version of the [Sentiment140 dataset](https://www.kaggle.com/datasets/kazanova/sentiment140). The full dataset contains 1.6M tweets with a sentiment (polarity) label. Each line of the CSV file contains the following 6 fields:\n",
    "1. target: the polarity of the tweet (0 = negative, 2 = neutral, 4 = positive)\n",
    "2. ids: The id of the tweet (2087)\n",
    "3. date: the date of the tweet (Sat May 16 23:58:44 UTC 2009)\n",
    "4. flag: The query (lyx). If there is no query, then this value is NO_QUERY.\n",
    "5. user: the user that tweeted (robotickilldozr)\n",
    "6. text: the text of the tweet (Lyx is cool)\n",
    "\n",
    "We load the truncated CSV file `tweets.2000.processed.noemoticon.csv` instead. It contains 2000 tweets (1 tweet per line), 1000 each for label 0 and 4."
   ]
  },
  {
   "cell_type": "code",
   "execution_count": null,
   "id": "8a9522d7",
   "metadata": {},
   "outputs": [],
   "source": [
    "import csv\n",
    "fieldnames = ['label', 'id', 'date', 'query', 'user', 'text']\n",
    "with open('tweets.2000.processed.noemoticon.csv', 'r', encoding='ISO-8859-1') as csvfile:\n",
    "    reader = csv.DictReader(csvfile, fieldnames=fieldnames)\n",
    "    for row in reader:\n",
    "        print(f\"Label: {row['label']}\")\n",
    "        print(f\"User: {row['user']}\")\n",
    "        print(f\"Text: {row['text']}\")\n",
    "        break\n",
    "print(f\"Label is of type {type(row['label'])}, convert to int like this: {int(row['label'])}\")"
   ]
  },
  {
   "cell_type": "markdown",
   "id": "bcd7f9ca",
   "metadata": {},
   "source": [
    "## Model\n",
    "\n",
    "We're going to use a popular sentiment analysis model from the CardiffNLP group, which we download from HuggingFace: `cardiffnlp/twitter-roberta-base-sentiment`. As you can see from the name, it is based on a pretrained RoBERTa model and was finetuned on tweets for sentiment analysis. Check out the [model description](https://huggingface.co/cardiffnlp/twitter-roberta-base-sentiment?text=I+like+turtles.) for examples of how to use it."
   ]
  },
  {
   "cell_type": "code",
   "execution_count": null,
   "id": "98408de0",
   "metadata": {},
   "outputs": [],
   "source": [
    "from transformers import AutoTokenizer, AutoModelForSequenceClassification\n",
    "\n",
    "tokenizer = AutoTokenizer.from_pretrained('cardiffnlp/twitter-roberta-base-sentiment')\n",
    "model = AutoModelForSequenceClassification.from_pretrained('cardiffnlp/twitter-roberta-base-sentiment')\n",
    "model.eval()"
   ]
  },
  {
   "cell_type": "markdown",
   "id": "41838cc4",
   "metadata": {},
   "source": [
    "From the model description, we see that we have to preprocess tweets first to bring them into the format expected by the model. Let's implement the `preprocess` method as it is described in their example."
   ]
  },
  {
   "cell_type": "code",
   "execution_count": null,
   "id": "0cfc3422",
   "metadata": {},
   "outputs": [],
   "source": [
    "# Preprocess text (username and link placeholders)\n",
    "def preprocess(text):\n",
    "    new_text = []\n",
    "    for t in text.split(\" \"):\n",
    "        t = '@user' if t.startswith('@') and len(t) > 1 else t\n",
    "        t = 'http' if t.startswith('http') else t\n",
    "        new_text.append(t)\n",
    "    return \" \".join(new_text)"
   ]
  },
  {
   "cell_type": "markdown",
   "id": "d61a37c8",
   "metadata": {},
   "source": [
    "Let's classify the first tweet in our dataset. Give the probabilities of the sentiment classification model for each of the 3 classes it outputs: negative, neutral and positive sentiment."
   ]
  },
  {
   "cell_type": "code",
   "execution_count": null,
   "id": "11bcd274",
   "metadata": {},
   "outputs": [],
   "source": []
  },
  {
   "cell_type": "markdown",
   "id": "c30b2c02",
   "metadata": {},
   "source": [
    "Now classify all the tweets and evaluate how well the model does in terms of classification accuracy."
   ]
  },
  {
   "cell_type": "code",
   "execution_count": null,
   "id": "128bf79d",
   "metadata": {},
   "outputs": [],
   "source": []
  }
 ],
 "metadata": {
  "kernelspec": {
   "display_name": "Python 3 (ipykernel)",
   "language": "python",
   "name": "python3"
  },
  "language_info": {
   "codemirror_mode": {
    "name": "ipython",
    "version": 3
   },
   "file_extension": ".py",
   "mimetype": "text/x-python",
   "name": "python",
   "nbconvert_exporter": "python",
   "pygments_lexer": "ipython3",
   "version": "3.12.5"
  }
 },
 "nbformat": 4,
 "nbformat_minor": 5
}
