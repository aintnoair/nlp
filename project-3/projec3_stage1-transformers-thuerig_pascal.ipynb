{
 "cells": [
  {
   "cell_type": "markdown",
   "metadata": {},
   "source": [
    "# Transformers for BoolQ reading comprehension\n",
    "*All changes and additions compared to Stage 1 are marked in <span style=\"color: orange;\">orange</span>*"
   ]
  },
  {
   "cell_type": "markdown",
   "metadata": {},
   "source": [
    "## Sources\n",
    "\n",
    "My sources for this project are linked in the respecting sections of the notebook. I used AI tools such as ChatGPT to correct my writing and grammar in stage 1 of this project and plan on using it for debugging during stage 2."
   ]
  },
  {
   "cell_type": "markdown",
   "source": [
    "## <span style=\"color: orange;\">TLDR - Executive summary</span>\n",
    "### **Topic:**\n",
    "Develop and train a Transformer-based model end to end for binary question answering on the BoolQ dataset from Huggin Face.\n",
    "\n",
    "### **Data:**\n",
    "The dataset is for reading comprehension and question answering tasks. It consists of questions, passages and the corresponding yes/no answers, with seperate training and test splits. Splitting the last 1000 entries of the training split to use as a validation split in this project.\n",
    "\n",
    "### **Methods:**\n",
    "The project involves preprocessing the data using the AutoTokenizer with the pre-trained \"bert-base-cased\" model. Then transforming the token IDs to word embeddings using the nn.Embedding layer. Using projection layer in between we reach the transformerEncoder with six layers followed by the mean pooling layer for dimensionality reduction into the 2-layer classifier from which we finally receive the binary output.\n",
    "\n",
    "### **Model:**\n",
    "The model is based on a PyTorch implementation of a Transformer Encoder, structured as follows:\n",
    "- Embedding Layer: nn.Embedding layer to map tokens to embeddings.\n",
    "- Positional Embedding Layer: Adds positional information to embeddings.\n",
    "- Linear Projection Layer: Projects from embedding dimension to transformer hidden dimension.\n",
    "- Transformer Encoder: A 6-layer transformer encoder block.\n",
    "- Pooling Layer: Mean pooling for dimensionality reduction.\n",
    "- Classifier: A 2-layer classifier with ReLU non-linearity.\n",
    "- Loss Function: Cross-Entropy Loss.\n",
    "\n",
    "### **Experiments:**\n",
    "Link to WandB: [Weights and Biases]() <br>\n",
    "17 manual experiments were conducted, exploring combinations of transformer (from 128 to 1024) and classifier hidden dimensions (from 64 to 512) as well as embedding dimensions (from 128 to 512) as well as further adjustments mentioned in more detail in the model section of the notebook.\n",
    "\n",
    "### **Results:**\n",
    "Key findings:\n",
    "- Adding 100 warmup steps at a batch size of 64 improved performance compared to no warmup.\n",
    "- A dropout rate of 0.2 was introduced to reduce overfitting on the training set.\n",
    "- After facing some issues with optuna for automatic hyperparameter tuning, manual tuning resulted in a model barely outperforming the majority baseline test accuracy of 62.17% with a test accuracy of **63.70%**.\n",
    "\n"
   ],
   "metadata": {
    "collapsed": false
   }
  },
  {
   "cell_type": "markdown",
   "metadata": {},
   "source": [
    "## Setup\n",
    "\n",
    "**Importing Python Packages**\n",
    "Making sure the notebook is reproducible and runs without error, I will install the necessary libraries in a pip cell below.\n",
    "\n",
    "**Data Loading and Split**\n",
    "The data consists of the questions, a passage and the answer. In total there are 12'697 entries in the dataset. Splitting them according to the lecture slides into train (8427), validation (1000) and test (3270).\n",
    "\n",
    "**Seeding for Reproducibility**\n",
    "Setting the random Seed to 42 for reproducibility."
   ]
  },
  {
   "cell_type": "code",
   "metadata": {
    "vscode": {
     "languageId": "plaintext"
    },
    "ExecuteTime": {
     "end_time": "2024-11-11T20:18:31.436168Z",
     "start_time": "2024-11-11T20:18:28.900885Z"
    }
   },
   "source": [
    "# TODO: make the pip install for used libraries and packages !!!\n",
    "%pip install -q wandb datasets torch transformers pytorch_lightning torchmetrics matplotlib seaborn scikit-learn "
   ],
   "outputs": [
    {
     "name": "stdout",
     "output_type": "stream",
     "text": [
      "Note: you may need to restart the kernel to use updated packages.\n"
     ]
    }
   ],
   "execution_count": 3
  },
  {
   "metadata": {
    "collapsed": false,
    "ExecuteTime": {
     "end_time": "2024-11-11T20:18:34.170413Z",
     "start_time": "2024-11-11T20:18:34.165499Z"
    }
   },
   "cell_type": "code",
   "source": [
    "import wandb\n",
    "\n",
    "from datasets import load_dataset\n",
    "\n",
    "import torch\n",
    "import torch.nn as nn\n",
    "\n",
    "from torch.optim.lr_scheduler import LambdaLR\n",
    "from torch.utils.data import DataLoader\n",
    "from transformers import AutoTokenizer\n",
    "\n",
    "from pathlib import Path\n",
    "import pytorch_lightning as pl\n",
    "from pytorch_lightning.callbacks import ModelCheckpoint, EarlyStopping\n",
    "from pytorch_lightning.loggers import WandbLogger\n",
    "from torchmetrics.classification import BinaryAccuracy, BinaryConfusionMatrix\n",
    "import matplotlib.pyplot as plt\n",
    "import seaborn as sns\n",
    "from sklearn.metrics import confusion_matrix\n",
    "\n"
   ],
   "outputs": [],
   "execution_count": 4
  },
  {
   "cell_type": "code",
   "source": [
    "DEVICE = torch.device(\"cuda\" if torch.cuda.is_available() else \"cpu\")\n",
    "print(DEVICE)"
   ],
   "metadata": {
    "collapsed": false,
    "ExecuteTime": {
     "end_time": "2024-11-11T20:18:35.571377Z",
     "start_time": "2024-11-11T20:18:35.536878Z"
    }
   },
   "outputs": [
    {
     "name": "stdout",
     "output_type": "stream",
     "text": [
      "cuda\n"
     ]
    }
   ],
   "execution_count": 5
  },
  {
   "cell_type": "code",
   "source": [
    "pl.seed_everything(42, workers=True)"
   ],
   "metadata": {
    "collapsed": false,
    "ExecuteTime": {
     "end_time": "2024-11-11T20:18:36.804915Z",
     "start_time": "2024-11-11T20:18:36.791054Z"
    }
   },
   "outputs": [
    {
     "name": "stderr",
     "output_type": "stream",
     "text": [
      "Seed set to 42\n"
     ]
    },
    {
     "data": {
      "text/plain": [
       "42"
      ]
     },
     "execution_count": 6,
     "metadata": {},
     "output_type": "execute_result"
    }
   ],
   "execution_count": 6
  },
  {
   "metadata": {
    "ExecuteTime": {
     "end_time": "2024-11-11T20:18:37.601109Z",
     "start_time": "2024-11-11T20:18:37.597358Z"
    }
   },
   "cell_type": "code",
   "source": "BATCH_SIZE = 64",
   "outputs": [],
   "execution_count": 7
  },
  {
   "cell_type": "code",
   "source": [
    "# Loading the dataset based on lecture slides\n",
    "train_data = load_dataset('google/boolq', split='train[:-1000]')\n",
    "validation_data = load_dataset('google/boolq', split='train[-1000:]')\n",
    "test_data = load_dataset('google/boolq', split='validation')"
   ],
   "metadata": {
    "collapsed": false,
    "ExecuteTime": {
     "end_time": "2024-11-11T20:18:45.004870Z",
     "start_time": "2024-11-11T20:18:37.958097Z"
    }
   },
   "outputs": [],
   "execution_count": 8
  },
  {
   "cell_type": "code",
   "source": [
    "test_question = train_data[5]['question']\n",
    "test_passage = train_data[5]['passage']\n",
    "print(train_data[5])\n",
    "print(f\"Number of training samples: {len(train_data)}\")\n",
    "print(f\"Number of validation samples: {len(validation_data)}\")\n",
    "print(f\"Number of validation samples: {len(test_data)}\")\n",
    "\n",
    "train_yes_count = sum(1 for label in train_data['answer'] if label == 1)\n",
    "train_no_count = sum(1 for label in train_data['answer'] if label == 0)\n",
    "train_total = train_yes_count + train_no_count\n",
    "\n",
    "validation_yes_count = sum(1 for label in validation_data['answer'] if label == 1)\n",
    "validation_no_count = sum(1 for label in validation_data['answer'] if label == 0)\n",
    "validation_total = validation_yes_count + validation_no_count\n",
    "\n",
    "test_yes_count = sum(1 for label in test_data['answer'] if label == 1)\n",
    "test_no_count = sum(1 for label in test_data['answer'] if label == 0)\n",
    "test_total = test_yes_count + test_no_count\n",
    "\n",
    "print(f\"Train set (yes/no) Ratio: {round(train_yes_count / train_no_count, 2)}, Percent Yes: {round(train_yes_count / train_total * 100, 2)}%\")\n",
    "\n",
    "print(f\"Validation set (yes/no) Ratio: {round(validation_yes_count / validation_no_count, 2)}, Percent Yes: {round(validation_yes_count / validation_total * 100, 2)}%\")\n",
    "\n",
    "print(f\"Test set (yes/no) Ratio: {round(test_yes_count / test_no_count, 2)}, Percent Yes: {round(test_yes_count / test_total * 100, 2)}%\")"
   ],
   "metadata": {
    "collapsed": false,
    "ExecuteTime": {
     "end_time": "2024-11-11T20:18:45.027954Z",
     "start_time": "2024-11-11T20:18:45.007867Z"
    }
   },
   "outputs": [
    {
     "name": "stdout",
     "output_type": "stream",
     "text": [
      "{'question': 'can you use oyster card at epsom station', 'answer': False, 'passage': \"Epsom railway station serves the town of Epsom in Surrey. It is located off Waterloo Road and is less than two minutes' walk from the High Street. It is not in the London Oyster card zone unlike Epsom Downs or Tattenham Corner stations. The station building was replaced in 2012/2013 with a new building with apartments above the station (see end of article).\"}\n",
      "Number of training samples: 8427\n",
      "Number of validation samples: 1000\n",
      "Number of validation samples: 3270\n",
      "Train set (yes/no) Ratio: 1.68, Percent Yes: 62.64%\n",
      "Validation set (yes/no) Ratio: 1.47, Percent Yes: 59.5%\n",
      "Test set (yes/no) Ratio: 1.64, Percent Yes: 62.17%\n"
     ]
    }
   ],
   "execution_count": 9
  },
  {
   "cell_type": "markdown",
   "metadata": {},
   "source": [
    "## Preprocessing\n",
    "### Tokenizer\n",
    "In past projects I always did some sort of manual preprocessing of the data. In this project I deliberately refrain from any manual preprocessing and will let the built-in features of the AutoTokenizer with the from_pretrained(\"bert-base-cased\") model handle the following steps for me:\n",
    "- Whitespace and Special Character removal (e.g. emojis or phonetic pronunciations)\n",
    "- Case Sensitivity\n",
    "- Padding and Truncation (pad automatically, truncate to max: 512 tokens - amount of pretrained position embeddings)\n",
    "\n",
    "I only now found out about this from the Hugging Face Transformer [Preprocessing Data Documentation](https://huggingface.co/transformers/v3.0.2/preprocessing.html).\n",
    "\n",
    "### Lowercase / Case Sensitivity\n",
    "From my feedback I will now keep case sensitivity instead of lower-casing all text. Example of case sensitivity: the word \"US\" would become \"us\" and could thus change the meaning of a sentence drastically. <br>\n",
    "*Source*: Feedback from Project 2 (LSTM)\n",
    "\n",
    "### Padding / Truncation\n",
    "I rely on the built-in padding and truncation functions of the AutoTokenizer from Hugging Face to manage sequence lengths efficiently:\n",
    "- Questions are limited to a maximum of 21 tokens, based on the length of the longest question in the dataset.\n",
    "- Passages are padded to a maximum of 488 tokens, ensuring that when the question (21 tokens), start token, end token, and separator token are included, the total length remains within the 512-token limit supported by the Transformer’s positional embeddings.\n",
    "\n",
    "### Stemming / Lemmatization / Stopword removal\n",
    "From a past lecture I took away that stemming or lemmatization is not the right choice for a reading comprehension task. It removes valuable meaning\n",
    "No stemming or lemmatization will be done in my preprocessing as to keep the most amount of information possible in my sequences. Stopwords will also not be removed for the same reason.\n",
    "\n",
    "### Embedding Layer\n",
    "In this project, the embedding layer is implemented using PyTorch's nn.Embedding class. The embeddings are trained end-to-end alongside the rest of the model, allowing them to adapt to the specific nuances of the BoolQ dataset.\n",
    "- **Vocabulary Size**: Determined by the tokenizer\n",
    "- **Embedding Dimension**: Set to 300 as this is widely used by large pretrained embedding models like fastText or word2vec.\n",
    "- **Training**: Initialized randomly and updated during training through backpropagation.\n",
    "\n",
    "### Absolute Position Embeddings\n",
    "Since the nn.TransformerEncoder does not by default have positional embeddings I will be implementing them through absolute position embeddings. Choosing the embeddings over the encoding because it is more widely used in practice.\n",
    "Adding the learned absolute positional embeddings to the word embeddings before feeding the input into the transformer model. The position embeddings are initialized randomly and are trained with the model through backpropagation.\n",
    "*Source*: Lecutre on positional encodings\n",
    "\n",
    "### Input / Output / Label format\n",
    "Each data point in the dataset is made up of a questions, passage and the respective binary label. The preprocessing steps transform these into the following formats for my model inputs:\n",
    "- Embedding Layer:\n",
    "    - *input*: Tensor of (batch_size, sequence_length) containing token IDs.\n",
    "    - *output*: Tensor for (batch_size, sequence_length, embedding_dim) with each token ID mapped to a dense vector of size embedding_dim.\n",
    "\n",
    "- 6-Layer Transformer Encoder:\n",
    "    - *input*: The embeddings with shape (batch_size, sequence_length, embedding_dim).\n",
    "    - *output*: A Tensor of shape (batch_size, sequence_length, embedding_dim).\n",
    "\n",
    "- Pooling Layer:\n",
    "    - *input*: The output of the last transformer layer, with shape (batch_size, sequence_length, embedding_dim)\n",
    "    - *output*: A Tensor of shape (batch_size, embedding_dim), representing the aggregated sequence information.\n",
    "\n",
    "- 2-Layer Classifier:\n",
    "    - *input*: The pooled output, with shape (batch_size, embedding_dim)\n",
    "    - *output*: A tensor of shape (batch_size, hidden_dim) for the first layer and shape (batch_size, num_classes) for the final layer.\n",
    "\n",
    "- Label format:\n",
    "    - The labels will be encoded as boolean values, enabling the model to predict either 0 or 1 (False/True)."
   ]
  },
  {
   "cell_type": "code",
   "metadata": {
    "vscode": {
     "languageId": "plaintext"
    },
    "ExecuteTime": {
     "end_time": "2024-11-11T20:18:46.143073Z",
     "start_time": "2024-11-11T20:18:45.045025Z"
    }
   },
   "source": [
    "# initialize tokenizer with bert-base-cased model\n",
    "\n",
    "tokenizer = AutoTokenizer.from_pretrained(\"bert-base-cased\")\n",
    "VOCAB_SIZE = tokenizer.vocab_size\n",
    "\n",
    "\n",
    "def get_max_question_len(dataset):\n",
    "    max_len = 0\n",
    "    for item in dataset:\n",
    "        question = item['question']\n",
    "        tokenized_question = tokenizer.encode(question)\n",
    "        max_len = max(max_len, len(tokenized_question))\n",
    "    return max_len\n",
    "\n",
    "max_question_len = get_max_question_len(train_data)\n",
    "print(max_question_len) # max len of BPE tokenized question (including the CLS and SEP tokens) \n"
   ],
   "outputs": [
    {
     "name": "stdout",
     "output_type": "stream",
     "text": [
      "29\n"
     ]
    }
   ],
   "execution_count": 10
  },
  {
   "cell_type": "code",
   "source": [
    "def tokenize_batch(batch):\n",
    "    questions = batch['question']\n",
    "    passages = batch['passage']\n",
    "    \n",
    "    encodings = tokenizer(\n",
    "        questions,\n",
    "        passages,\n",
    "        max_length=512,  # Combined max length within Transformer limit\n",
    "        padding=True,\n",
    "        truncation=True,\n",
    "        return_tensors=\"pt\"\n",
    "    )\n",
    "    \n",
    "    return {'input_ids': encodings['input_ids'], 'labels': torch.tensor(batch['answer'])}  # output of input_ids and labels"
   ],
   "metadata": {
    "collapsed": false,
    "ExecuteTime": {
     "end_time": "2024-11-11T20:18:46.159074Z",
     "start_time": "2024-11-11T20:18:46.155073Z"
    }
   },
   "outputs": [],
   "execution_count": 11
  },
  {
   "cell_type": "code",
   "source": [
    "# Tokenize the datasets\n",
    "train_data = train_data.map(tokenize_batch, batched=True).with_format(\"torch\", device=DEVICE)\n",
    "validation_data = validation_data.map(tokenize_batch, batched=True).with_format(\"torch\", device=DEVICE)\n",
    "test_data = test_data.map(tokenize_batch, batched=True).with_format(\"torch\", device=DEVICE)"
   ],
   "metadata": {
    "collapsed": false,
    "ExecuteTime": {
     "end_time": "2024-11-11T20:18:46.195299Z",
     "start_time": "2024-11-11T20:18:46.170380Z"
    }
   },
   "outputs": [],
   "execution_count": 12
  },
  {
   "cell_type": "code",
   "source": [
    "# Define collate function for dynamic padding in DataLoader\n",
    "def collate_fn(batch):\n",
    "    input_ids = [torch.tensor(item['input_ids']) for item in batch]\n",
    "    labels = torch.tensor([item['labels'] for item in batch])\n",
    "    \n",
    "    # Pad to the longest sequence in the batch\n",
    "    input_ids = nn.utils.rnn.pad_sequence(input_ids, batch_first=True)\n",
    "    return {'input_ids': input_ids, 'labels': labels}"
   ],
   "metadata": {
    "collapsed": false,
    "ExecuteTime": {
     "end_time": "2024-11-11T20:18:46.209070Z",
     "start_time": "2024-11-11T20:18:46.205066Z"
    }
   },
   "outputs": [],
   "execution_count": 13
  },
  {
   "cell_type": "code",
   "source": [],
   "metadata": {
    "collapsed": false,
    "ExecuteTime": {
     "end_time": "2024-11-11T20:18:46.221258Z",
     "start_time": "2024-11-11T20:18:46.218856Z"
    }
   },
   "outputs": [],
   "execution_count": null
  },
  {
   "cell_type": "markdown",
   "metadata": {},
   "source": [
    "## Model\n",
    "### Architecture\n",
    "- **Input Layer**:\n",
    "    - The input to my model is the nn.Embedding layer that will be trained on the dataset with the network.\n",
    "    - Each input sequence consists of a concatenated question and passage with a [SEP] token between them, marking the boundary. The separator token allows the model to distinguish between the two segments.\n",
    "    - The resulting shape of the input tensor after embedding is (batch_size, sequence_length, embedding_dim).\n",
    "    - <span style=\"color: orange;\">Adding a projection layer to reach the expected input dimension of the transformer model of: (batch_size, sequence_length, transformer_hidden_dim) This proved easier to implement than adjusting the first transformer layer.</span>\n",
    "- **6-Layer Transformer Encoder**:\n",
    "    - Using the PyTorch implementation of the Transformer Encoder. The input to this model will be the output of the embedding layer with shape (batch_size, sequence_length, <span style=\"color: orange;\">transformer_hidden_dim</span>). Using six layers to learn contextual representations of the concatenated questino-passage sequence.\n",
    "- **Pooling Layer**:\n",
    "    - Apply *mean pooling* across the sequence length to reducing the output from (batch_size, sequence_length, embedding_dim) to (batch_size, embedding_dim). This provides a fixed-size single vector that summarizes the entire sequence for the classifier which provides the advantage of efficient memory use in training with varying sequence lengths and a fixed-sized input for my classifier.\n",
    "- **2-Layer Classifier with ReLU**\n",
    "    - I will implement a two-layer classifier network as defined in the project assignment. The first layer will take the output from the pooling layer of size (batch_size, embedding_dim) as its input and provide an output shape of (batch_size, hidden_dim). Using a ReLU for non-linearity. The second layer has output dimensions of (batch_size, num_classes) with num_classes=2. The output layer will use a softmax as the activation function as it is preferable over a sigmoid function for binary classification.\n",
    "\n",
    "### Loss and Optimizer\n",
    "For this binary classification task I'm using Binary Cross-Entropy Loss. BCE is widely used in binary classification problems, as it provides a probabilistic interpretation of the model's outputs, making it convenient for distinguishing between two classes. <br>\n",
    "*Source*: [Binary Cross-Entropy/Log Loss for Binary Classification](https://www.geeksforgeeks.org/binary-cross-entropy-log-loss-for-binary-classification/)\n",
    "\n",
    "For my optimizer I choose the Adam Optimizer for its adaptive learning rates and efficient handling of sparse gradients. It is well suited for deep learning tasks, provides fast convergence and has worked well in prior projects. <br>\n",
    "*Source*: [Introduction to the Adam Optimizer](https://machinelearningmastery.com/adam-optimization-algorithm-for-deep-learning/)\n",
    "\n",
    "### Experiments\n",
    "*Batch Size*: I will start with a batch_size of 16 and increase it to the maximum my hardware can handle then leaving it fixed as it is not a hyperparameter. <span style=\"color: orange;\">Finally settling on a batch size of 64</span>\n",
    "\n",
    "To tune my models' hyperparameters I will be experimenting with the following ranges:\n",
    "- Learning Rate: [1e-2, 1e-3, 1e-4, 1e-5, 1e-6]\n",
    "- Embedding Dimension: [128, 256, 300]\n",
    "- Hidden Dimension for Classifier: [64, 128, 256]\n",
    "- <span style=\"color: orange;\">Hidden Dimension for Transformer: [128, 1024]</span>\n",
    "- Number of Attention Heads: [4, 8, 12, 16]\n",
    "- Dropout Rate: [0.1, 0.2, 0.3]\n",
    "- Weight Decay: [1e-4, 1e-5, 1e-6]\n",
    "- <span style=\"color: orange;\">Warmup Steps: [0, 500]</span>\n",
    "\n",
    "### Training\n",
    "I do not expect any run to take longer than 25 epochs. Thus limiting the maximum number of epochs to 25 and implement the early stopping criteria like in past projects. <br>\n",
    "<span style=\"color: orange;\"> After some experimenting, I extended the maximum number of epochs to 60 because the model was struggling to learn anything before epoch 25.</span>\n",
    "\n",
    "### Checkpointing and Early Stopping\n",
    "**Checkpointing**: I will implement checkpointing to save the model with the best validation accuracy. Criteria for this will be the maximum validation accuracy.\n",
    "\n",
    "**Early Stopping**: Early stopping the run if the validation loss does not decrease within 15 epochs.\n",
    "\n",
    "### Planned Correctness Tests\n",
    "- Testing input shape to ensure the model receives a valid input format\n",
    "- Testing output shape to verify the model produces the expected output shape\n",
    "- Visually check the loss is decreasing while training\n",
    "- Visually check the output for overfitting\n",
    "- Visually check predictions using a confusion matrix\n",
    "- Ensure reproducibility by setting the random seed.\n"
   ]
  },
  {
   "cell_type": "code",
   "source": [
    "# DataLoaders\n",
    "train_loader = DataLoader(train_data, batch_size=BATCH_SIZE, shuffle=True, collate_fn=collate_fn)\n",
    "validation_loader = DataLoader(validation_data, batch_size=BATCH_SIZE, shuffle=False, collate_fn=collate_fn)\n",
    "test_loader = DataLoader(test_data, batch_size=BATCH_SIZE, shuffle=False, collate_fn=collate_fn)"
   ],
   "metadata": {
    "collapsed": false,
    "ExecuteTime": {
     "end_time": "2024-11-11T20:19:03.570239Z",
     "start_time": "2024-11-11T20:19:03.566172Z"
    }
   },
   "outputs": [],
   "execution_count": 15
  },
  {
   "cell_type": "code",
   "metadata": {
    "vscode": {
     "languageId": "plaintext"
    },
    "ExecuteTime": {
     "end_time": "2024-11-11T20:19:04.276294Z",
     "start_time": "2024-11-11T20:19:04.260474Z"
    }
   },
   "source": [
    "class TransformerClassifier(pl.LightningModule):\n",
    "    def __init__(\n",
    "            self,\n",
    "            vocab_size,\n",
    "            embedding_dim,\n",
    "            num_heads,\n",
    "            transformer_hidden_dim,\n",
    "            classifier_hidden_dim,\n",
    "            dropout_rate=0.0,\n",
    "            learning_rate=1e-4,\n",
    "            warmup_steps=0,\n",
    "            weight_decay=0.0,\n",
    "            num_layers=6,\n",
    "            num_classes=2,\n",
    "    ):\n",
    "        super().__init__()\n",
    "        \n",
    "        # Store hyperparameters\n",
    "        self.save_hyperparameters()\n",
    "        \n",
    "        # Embedding Layer\n",
    "        self.embedding = nn.Embedding(vocab_size, embedding_dim)\n",
    "        \n",
    "        # Positional Embedding layer\n",
    "        self.position_embedding = nn.Embedding(512, embedding_dim)\n",
    "        \n",
    "        # Linear layer to project from embedding_dim to transformer_hidden_dim (input dim of Transformer)\n",
    "        self.input_projection = nn.Linear(embedding_dim, transformer_hidden_dim)\n",
    "        \n",
    "        # Transformer encoder with transformer_hidden_dim as input dimension\n",
    "        encoder_layer = nn.TransformerEncoderLayer(\n",
    "            d_model=transformer_hidden_dim,\n",
    "            nhead=num_heads,\n",
    "            dim_feedforward=transformer_hidden_dim * 2,\n",
    "            dropout=dropout_rate,\n",
    "            activation=\"relu\"\n",
    "        )\n",
    "        self.transformer_encoder = nn.TransformerEncoder(encoder_layer, num_layers=num_layers)\n",
    "        \n",
    "        # Pooling layer (mean pooling)\n",
    "        self.pooling = nn.AdaptiveAvgPool1d(1)\n",
    "        \n",
    "        # Classifier: 2-layer MLP with dropout\n",
    "        self.classifier = nn.Sequential(\n",
    "            nn.Linear(transformer_hidden_dim, classifier_hidden_dim),\n",
    "            nn.ReLU(),\n",
    "            nn.Dropout(dropout_rate),\n",
    "            nn.Linear(classifier_hidden_dim, num_classes)\n",
    "        )\n",
    "        \n",
    "        # Loss function\n",
    "        self.loss_fn = nn.CrossEntropyLoss()\n",
    "\n",
    "        # Accuracy metric\n",
    "        self.train_accuracy = BinaryAccuracy()\n",
    "        self.val_accuracy = BinaryAccuracy()\n",
    "        self.test_accuracy = BinaryAccuracy()\n",
    "        self.test_confusion_matrix = BinaryConfusionMatrix()\n",
    "        \n",
    "        # Storage for predictions and labels\n",
    "        self.test_preds = []\n",
    "        self.test_labels = []\n",
    "\n",
    "    def forward(self, input_ids):\n",
    "        embedded = self.embedding(input_ids)\n",
    "        positions = torch.arange(input_ids.size(1), device=input_ids.device).unsqueeze(0)\n",
    "        pos_embeddings = self.position_embedding(positions)\n",
    "        embedded = embedded + pos_embeddings\n",
    "        \n",
    "        projected = self.input_projection(embedded)\n",
    "        projected = projected.permute(1, 0, 2)\n",
    "        encoded = self.transformer_encoder(projected)\n",
    "        encoded = encoded.permute(1, 0, 2)\n",
    "        \n",
    "        pooled = self.pooling(encoded.transpose(1, 2)).squeeze(-1)\n",
    "        \n",
    "        logits = self.classifier(pooled)\n",
    "        return logits\n",
    "\n",
    "    def training_step(self, batch, batch_idx):\n",
    "        input_ids = batch['input_ids'].to(self.device)\n",
    "        labels = batch['labels'].long().to(self.device)\n",
    "        \n",
    "        outputs = self(input_ids)\n",
    "        loss = self.loss_fn(outputs, labels)\n",
    "        preds = torch.argmax(outputs, dim=1)\n",
    "        \n",
    "        # Log accuracy and loss\n",
    "        acc = self.train_accuracy(preds, labels)\n",
    "        self.log('train_loss', loss)\n",
    "        self.log('train_accuracy', acc, prog_bar=True)\n",
    "        \n",
    "        return loss\n",
    "\n",
    "    def validation_step(self, batch, batch_idx):\n",
    "        input_ids = batch['input_ids'].to(self.device)\n",
    "        labels = batch['labels'].long().to(self.device)\n",
    "        \n",
    "        outputs = self(input_ids)\n",
    "        loss = self.loss_fn(outputs, labels)\n",
    "        preds = torch.argmax(outputs, dim=1)\n",
    "        \n",
    "        # Log accuracy and loss\n",
    "        acc = self.val_accuracy(preds, labels)\n",
    "        self.log('val_loss', loss, prog_bar=True)\n",
    "        self.log('val_accuracy', acc, prog_bar=True)\n",
    "        \n",
    "        return loss\n",
    "\n",
    "    def test_step(self, batch, batch_idx):\n",
    "        input_ids = batch['input_ids'].to(self.device)\n",
    "        labels = batch['labels'].long().to(self.device)\n",
    "        \n",
    "        # Get predictions\n",
    "        outputs = self(input_ids)\n",
    "        loss = self.loss_fn(outputs, labels)\n",
    "        preds = torch.argmax(outputs, dim=1)\n",
    "        \n",
    "        # Update accuracy and save predictions and labels for confusion matrix\n",
    "        accuracy = self.test_accuracy(preds, labels)\n",
    "        self.test_preds.extend(preds.cpu().numpy())\n",
    "        self.test_labels.extend(labels.cpu().numpy())\n",
    "        \n",
    "        # Log test loss and accuracy\n",
    "        self.log(\"test_loss\", loss, prog_bar=True)\n",
    "        self.log(\"test_accuracy\", accuracy, prog_bar=True)\n",
    "        \n",
    "        return {\"test_loss\": loss, \"test_accuracy\": accuracy}\n",
    "\n",
    "    def on_test_epoch_end(self):\n",
    "        # Calculate and plot the confusion matrix\n",
    "        cm = confusion_matrix(self.test_labels, self.test_preds)\n",
    "        self.plot_confusion_matrix(cm)\n",
    "        \n",
    "        # Clear stored predictions and labels after logging\n",
    "        self.test_preds.clear()\n",
    "        self.test_labels.clear()\n",
    "\n",
    "    def plot_confusion_matrix(self, cm):\n",
    "        fig, ax = plt.subplots(figsize=(6, 6))\n",
    "        sns.heatmap(cm, annot=True, fmt=\"d\", cmap=\"Blues\", cbar=False, ax=ax)\n",
    "        ax.set_xlabel(\"Predicted labels\")\n",
    "        ax.set_ylabel(\"True labels\")\n",
    "        ax.set_title(\"Confusion Matrix\")\n",
    "        \n",
    "        # Log the plot to WandB\n",
    "        wandb.log({\"confusion_matrix\": wandb.Image(fig)})\n",
    "        plt.close(fig)\n",
    "\n",
    "    def configure_optimizers(self):\n",
    "        optimizer = torch.optim.AdamW(\n",
    "            self.parameters(),\n",
    "            lr=self.hparams.learning_rate,\n",
    "            weight_decay=self.hparams.weight_decay\n",
    "        )\n",
    "\n",
    "        def lr_lambda(current_step):\n",
    "            if current_step < self.hparams.warmup_steps:\n",
    "                lr = float(current_step) / float(max(1, self.hparams.warmup_steps))\n",
    "                return lr\n",
    "            return 1.0\n",
    "\n",
    "        scheduler = {\n",
    "            'scheduler': LambdaLR(optimizer, lr_lambda=lr_lambda),\n",
    "            'interval': 'step',\n",
    "            'name': 'learning_rate'\n",
    "        }\n",
    "        \n",
    "        return [optimizer], [scheduler]"
   ],
   "outputs": [],
   "execution_count": 16
  },
  {
   "cell_type": "code",
   "source": [
    "BATCH_S = 32\n",
    "SEQ_LEN = 512\n",
    "DIM = 300\n",
    "\n",
    "\n",
    "model = TransformerClassifier(\n",
    "    vocab_size=VOCAB_SIZE,\n",
    "    embedding_dim=DIM,\n",
    "    num_heads=8,\n",
    "    transformer_hidden_dim=256,\n",
    "    classifier_hidden_dim=64,\n",
    ").to(DEVICE)\n",
    "\n",
    "x = torch.randint(0, VOCAB_SIZE, (BATCH_SIZE, SEQ_LEN)).to(DEVICE)\n",
    "\n",
    "# Run the forward pass and check the output shape\n",
    "assert model.forward(x).shape == torch.Size([BATCH_SIZE, 2])"
   ],
   "metadata": {
    "collapsed": false,
    "ExecuteTime": {
     "end_time": "2024-11-11T20:19:05.820620Z",
     "start_time": "2024-11-11T20:19:05.359184Z"
    }
   },
   "outputs": [
    {
     "name": "stderr",
     "output_type": "stream",
     "text": [
      "C:\\Users\\Pascal\\miniconda3\\envs\\nlp\\Lib\\site-packages\\torch\\nn\\modules\\transformer.py:379: UserWarning: enable_nested_tensor is True, but self.use_nested_tensor is False because encoder_layer.self_attn.batch_first was not True(use batch_first for better inference performance)\n",
      "  warnings.warn(\n"
     ]
    }
   ],
   "execution_count": 17
  },
  {
   "cell_type": "code",
   "source": [
    "def test_input_shapes(dataloader, model, batch_size):\n",
    "    for batch in dataloader:\n",
    "        input_ids = batch['input_ids']  # Shape: (batch_size, sequence_length)\n",
    "        \n",
    "        # Check the batch size\n",
    "        assert input_ids.shape[0] == batch_size, f\"Expected batch size {batch_size}, got {input_ids.shape[0]}\"\n",
    "        \n",
    "        # Pass the input through the model\n",
    "        logits = model(input_ids)\n",
    "        \n",
    "        # Check that logits have the expected shape (batch_size, num_classes)\n",
    "        assert logits.shape[0] == batch_size, f\"Expected logits batch size {batch_size}, got {logits.shape[0]}\"\n",
    "        assert logits.shape[1] == model.classifier[-1].out_features, f\"Expected {model.classifier[-1].out_features} output classes, got {logits.shape[1]}\"\n",
    "        \n",
    "        print(f\"Batch passed with input_ids shape {input_ids.shape} and logits shape {logits.shape}\")\n",
    "        break  # Test the first batch only to verify shapes\n",
    "\n",
    "# Assuming `model` is an instance of TransformerClassifier\n",
    "test_input_shapes(train_loader, model, BATCH_SIZE)\n",
    "test_input_shapes(validation_loader, model, BATCH_SIZE)\n",
    "test_input_shapes(test_loader, model, BATCH_SIZE)"
   ],
   "metadata": {
    "collapsed": false,
    "ExecuteTime": {
     "end_time": "2024-11-11T20:19:06.790043Z",
     "start_time": "2024-11-11T20:19:06.690009Z"
    }
   },
   "outputs": [
    {
     "name": "stdout",
     "output_type": "stream",
     "text": [
      "Batch passed with input_ids shape torch.Size([64, 512]) and logits shape torch.Size([64, 2])\n",
      "Batch passed with input_ids shape torch.Size([64, 512]) and logits shape torch.Size([64, 2])\n",
      "Batch passed with input_ids shape torch.Size([64, 512]) and logits shape torch.Size([64, 2])\n"
     ]
    },
    {
     "name": "stderr",
     "output_type": "stream",
     "text": [
      "C:\\Users\\Pascal\\AppData\\Local\\Temp\\ipykernel_23712\\1889658370.py:3: UserWarning: To copy construct from a tensor, it is recommended to use sourceTensor.clone().detach() or sourceTensor.clone().detach().requires_grad_(True), rather than torch.tensor(sourceTensor).\n",
      "  input_ids = [torch.tensor(item['input_ids']) for item in batch]\n"
     ]
    }
   ],
   "execution_count": 18
  },
  {
   "cell_type": "code",
   "source": [
    "# Configuration of my best performing model\n",
    "CONFIG = {\n",
    "    \"embedding_dim\": 256,\n",
    "    \"num_heads\": 8,\n",
    "    \"transformer_hidden_dim\": 512,\n",
    "    \"classifier_hidden_dim\": 128,\n",
    "    \"dropout_rate\": 0.2,\n",
    "    \"learning_rate\": 1e-4,\n",
    "    \"warmup_steps\": 100,\n",
    "    \"weight_decay\": 1e-4,\n",
    "\n",
    "    \"patience\": 60,\n",
    "    \"epochs\": 60,\n",
    "    \n",
    "    \"num_classes\": 2,\n",
    "    \"vocab_size\": VOCAB_SIZE,\n",
    "    \"num_layers\": 6\n",
    "}\n",
    "\n",
    "# Initialize model with config\n",
    "TransformerModel = TransformerClassifier(\n",
    "    vocab_size=CONFIG[\"vocab_size\"],\n",
    "    embedding_dim=CONFIG[\"embedding_dim\"],\n",
    "    num_heads=CONFIG[\"num_heads\"],\n",
    "    transformer_hidden_dim=CONFIG[\"transformer_hidden_dim\"],\n",
    "    classifier_hidden_dim=CONFIG[\"classifier_hidden_dim\"],\n",
    "    num_layers=CONFIG[\"num_layers\"],\n",
    "    num_classes=CONFIG[\"num_classes\"],\n",
    "    dropout_rate=CONFIG[\"dropout_rate\"],\n",
    "    learning_rate=CONFIG[\"learning_rate\"],\n",
    "    warmup_steps=CONFIG[\"warmup_steps\"],\n",
    "    weight_decay=CONFIG[\"weight_decay\"],\n",
    ")\n",
    "\n",
    "run_name = (\n",
    "    f\"emb_dim_{CONFIG['embedding_dim']}-\"\n",
    "    f\"n_heads_{CONFIG['num_heads']}-\"\n",
    "    f\"trans_h_dim_{CONFIG['transformer_hidden_dim']}-\"\n",
    "    f\"class_h_dim_{CONFIG['classifier_hidden_dim']}-\"\n",
    "    f\"dropout_{CONFIG['dropout_rate']}-\"\n",
    "    f\"lr_{CONFIG['learning_rate']}-\"\n",
    "    f\"warmup_{CONFIG['warmup_steps']}-\"\n",
    "    f\"w_decay_{CONFIG['weight_decay']}\"\n",
    ")\n",
    "\n",
    "print(\"Run Name:\", run_name)\n",
    "\n",
    "wandb_logger = WandbLogger(\n",
    "    project='nlp_p3_transformer',\n",
    "    name=run_name,\n",
    "    group=\"manual_runs\"\n",
    ")\n",
    "\n",
    "for key, value in CONFIG.items():\n",
    "    wandb_logger.experiment.config[key] = str(value)\n",
    "\n",
    "wandb_logger.log_hyperparams(TransformerModel.hparams)\n",
    "\n",
    "# Model Checkpoint callback\n",
    "checkpoint_callback = ModelCheckpoint(\n",
    "    monitor=\"val_accuracy\",            # Monitor validation accuracy\n",
    "    dirpath=\"checkpoints/\",\n",
    "    filename=run_name,\n",
    "    save_top_k=1,\n",
    "    mode=\"max\",                        # Save model with the highest validation accuracy\n",
    "    verbose=True,\n",
    ")\n",
    "\n",
    "# Early Stopping callback\n",
    "early_stopping_callback = EarlyStopping(\n",
    "    monitor=\"val_accuracy\",            # Monitor validation accuracy for early stopping\n",
    "    patience=CONFIG['patience'],\n",
    "    mode=\"max\",\n",
    "    verbose=True\n",
    ")\n",
    "\n",
    "# Initialize the Trainer with these callbacks\n",
    "trainer = pl.Trainer(\n",
    "    max_epochs=CONFIG['epochs'],\n",
    "    callbacks=[checkpoint_callback, early_stopping_callback],\n",
    "    logger=wandb_logger,\n",
    ")\n",
    "\n",
    "# Start training\n",
    "trainer.fit(TransformerModel, train_loader, validation_loader)\n",
    "\n",
    "# Finish the wandb run\n",
    "wandb.finish()\n"
   ],
   "metadata": {
    "collapsed": false,
    "ExecuteTime": {
     "end_time": "2024-11-11T20:54:09.567399Z",
     "start_time": "2024-11-11T20:19:09.671874Z"
    }
   },
   "outputs": [
    {
     "name": "stdout",
     "output_type": "stream",
     "text": [
      "Run Name: emb_dim_256-n_heads_8-trans_h_dim_512-class_h_dim_128-dropout_0.2-lr_0.0001-warmup_100-w_decay_0.0001\n"
     ]
    },
    {
     "name": "stderr",
     "output_type": "stream",
     "text": [
      "wandb: Using wandb-core as the SDK backend.  Please refer to https://wandb.me/wandb-core for more information.\n",
      "wandb: Currently logged in as: aintnoair. Use `wandb login --relogin` to force relogin\n"
     ]
    },
    {
     "data": {
      "text/plain": [
       "<IPython.core.display.HTML object>"
      ],
      "text/html": [
       "Tracking run with wandb version 0.18.6"
      ]
     },
     "metadata": {},
     "output_type": "display_data"
    },
    {
     "data": {
      "text/plain": [
       "<IPython.core.display.HTML object>"
      ],
      "text/html": [
       "Run data is saved locally in <code>.\\wandb\\run-20241111_211910-feb023ms</code>"
      ]
     },
     "metadata": {},
     "output_type": "display_data"
    },
    {
     "data": {
      "text/plain": [
       "<IPython.core.display.HTML object>"
      ],
      "text/html": [
       "Syncing run <strong><a href='https://wandb.ai/aintnoair/nlp_p3_transformer/runs/feb023ms' target=\"_blank\">emb_dim_256-n_heads_8-trans_h_dim_512-class_h_dim_128-dropout_0.2-lr_0.0001-warmup_100-w_decay_0.0001</a></strong> to <a href='https://wandb.ai/aintnoair/nlp_p3_transformer' target=\"_blank\">Weights & Biases</a> (<a href='https://wandb.me/developer-guide' target=\"_blank\">docs</a>)<br/>"
      ]
     },
     "metadata": {},
     "output_type": "display_data"
    },
    {
     "data": {
      "text/plain": [
       "<IPython.core.display.HTML object>"
      ],
      "text/html": [
       " View project at <a href='https://wandb.ai/aintnoair/nlp_p3_transformer' target=\"_blank\">https://wandb.ai/aintnoair/nlp_p3_transformer</a>"
      ]
     },
     "metadata": {},
     "output_type": "display_data"
    },
    {
     "data": {
      "text/plain": [
       "<IPython.core.display.HTML object>"
      ],
      "text/html": [
       " View run at <a href='https://wandb.ai/aintnoair/nlp_p3_transformer/runs/feb023ms' target=\"_blank\">https://wandb.ai/aintnoair/nlp_p3_transformer/runs/feb023ms</a>"
      ]
     },
     "metadata": {},
     "output_type": "display_data"
    },
    {
     "name": "stderr",
     "output_type": "stream",
     "text": [
      "GPU available: True (cuda), used: True\n",
      "TPU available: False, using: 0 TPU cores\n",
      "HPU available: False, using: 0 HPUs\n",
      "You are using a CUDA device ('NVIDIA GeForce RTX 4080') that has Tensor Cores. To properly utilize them, you should set `torch.set_float32_matmul_precision('medium' | 'high')` which will trade-off precision for performance. For more details, read https://pytorch.org/docs/stable/generated/torch.set_float32_matmul_precision.html#torch.set_float32_matmul_precision\n",
      "C:\\Users\\Pascal\\miniconda3\\envs\\nlp\\Lib\\site-packages\\pytorch_lightning\\callbacks\\model_checkpoint.py:654: Checkpoint directory C:\\Users\\Pascal\\Documents\\nlp\\project-3\\checkpoints exists and is not empty.\n",
      "LOCAL_RANK: 0 - CUDA_VISIBLE_DEVICES: [0]\n",
      "\n",
      "   | Name                  | Type                  | Params | Mode \n",
      "-------------------------------------------------------------------------\n",
      "0  | embedding             | Embedding             | 7.4 M  | train\n",
      "1  | position_embedding    | Embedding             | 131 K  | train\n",
      "2  | input_projection      | Linear                | 131 K  | train\n",
      "3  | transformer_encoder   | TransformerEncoder    | 12.6 M | train\n",
      "4  | pooling               | AdaptiveAvgPool1d     | 0      | train\n",
      "5  | classifier            | Sequential            | 65.9 K | train\n",
      "6  | loss_fn               | CrossEntropyLoss      | 0      | train\n",
      "7  | train_accuracy        | BinaryAccuracy        | 0      | train\n",
      "8  | val_accuracy          | BinaryAccuracy        | 0      | train\n",
      "9  | test_accuracy         | BinaryAccuracy        | 0      | train\n",
      "10 | test_confusion_matrix | BinaryConfusionMatrix | 0      | train\n",
      "-------------------------------------------------------------------------\n",
      "20.4 M    Trainable params\n",
      "0         Non-trainable params\n",
      "20.4 M    Total params\n",
      "81.473    Total estimated model params size (MB)\n",
      "76        Modules in train mode\n",
      "0         Modules in eval mode\n"
     ]
    },
    {
     "name": "stdout",
     "output_type": "stream",
     "text": [
      "Sanity Checking: |          | 0/? [00:00<?, ?it/s]"
     ]
    },
    {
     "name": "stderr",
     "output_type": "stream",
     "text": [
      "C:\\Users\\Pascal\\miniconda3\\envs\\nlp\\Lib\\site-packages\\pytorch_lightning\\trainer\\connectors\\data_connector.py:424: The 'val_dataloader' does not have many workers which may be a bottleneck. Consider increasing the value of the `num_workers` argument` to `num_workers=31` in the `DataLoader` to improve performance.\n",
      "C:\\Users\\Pascal\\AppData\\Local\\Temp\\ipykernel_23712\\1889658370.py:3: UserWarning: To copy construct from a tensor, it is recommended to use sourceTensor.clone().detach() or sourceTensor.clone().detach().requires_grad_(True), rather than torch.tensor(sourceTensor).\n",
      "  input_ids = [torch.tensor(item['input_ids']) for item in batch]\n"
     ]
    },
    {
     "name": "stdout",
     "output_type": "stream",
     "text": [
      "                                                                           \r"
     ]
    },
    {
     "name": "stderr",
     "output_type": "stream",
     "text": [
      "C:\\Users\\Pascal\\miniconda3\\envs\\nlp\\Lib\\site-packages\\pytorch_lightning\\trainer\\connectors\\data_connector.py:424: The 'train_dataloader' does not have many workers which may be a bottleneck. Consider increasing the value of the `num_workers` argument` to `num_workers=31` in the `DataLoader` to improve performance.\n"
     ]
    },
    {
     "name": "stdout",
     "output_type": "stream",
     "text": [
      "Epoch 0: 100%|██████████| 132/132 [00:33<00:00,  3.88it/s, v_num=23ms, train_accuracy=0.744]\n",
      "Validation: |          | 0/? [00:00<?, ?it/s]\n",
      "Validation:   0%|          | 0/16 [00:00<?, ?it/s]\n",
      "Validation DataLoader 0:   0%|          | 0/16 [00:00<?, ?it/s]\n",
      "Validation DataLoader 0:   6%|▋         | 1/16 [00:00<00:01, 14.49it/s]\n",
      "Validation DataLoader 0:  12%|█▎        | 2/16 [00:00<00:01, 13.63it/s]\n",
      "Validation DataLoader 0:  19%|█▉        | 3/16 [00:00<00:00, 13.54it/s]\n",
      "Validation DataLoader 0:  25%|██▌       | 4/16 [00:00<00:00, 13.43it/s]\n",
      "Validation DataLoader 0:  31%|███▏      | 5/16 [00:00<00:00, 13.45it/s]\n",
      "Validation DataLoader 0:  38%|███▊      | 6/16 [00:00<00:00, 13.42it/s]\n",
      "Validation DataLoader 0:  44%|████▍     | 7/16 [00:00<00:00, 13.42it/s]\n",
      "Validation DataLoader 0:  50%|█████     | 8/16 [00:00<00:00, 13.42it/s]\n",
      "Validation DataLoader 0:  56%|█████▋    | 9/16 [00:00<00:00, 13.43it/s]\n",
      "Validation DataLoader 0:  62%|██████▎   | 10/16 [00:00<00:00, 13.45it/s]\n",
      "Validation DataLoader 0:  69%|██████▉   | 11/16 [00:00<00:00, 13.46it/s]\n",
      "Validation DataLoader 0:  75%|███████▌  | 12/16 [00:00<00:00, 13.46it/s]\n",
      "Validation DataLoader 0:  81%|████████▏ | 13/16 [00:00<00:00, 13.47it/s]\n",
      "Validation DataLoader 0:  88%|████████▊ | 14/16 [00:01<00:00, 13.46it/s]\n",
      "Validation DataLoader 0:  94%|█████████▍| 15/16 [00:01<00:00, 13.44it/s]\n",
      "Validation DataLoader 0: 100%|██████████| 16/16 [00:01<00:00, 13.68it/s]\n",
      "Epoch 0: 100%|██████████| 132/132 [00:35<00:00,  3.75it/s, v_num=23ms, train_accuracy=0.744, val_loss=0.684, val_accuracy=0.595]"
     ]
    },
    {
     "name": "stderr",
     "output_type": "stream",
     "text": [
      "Metric val_accuracy improved. New best score: 0.595\n",
      "Epoch 0, global step 132: 'val_accuracy' reached 0.59500 (best 0.59500), saving model to 'C:\\\\Users\\\\Pascal\\\\Documents\\\\nlp\\\\project-3\\\\checkpoints\\\\emb_dim_256-n_heads_8-trans_h_dim_512-class_h_dim_128-dropout_0.2-lr_0.0001-warmup_100-w_decay_0.0001-v1.ckpt' as top 1\n"
     ]
    },
    {
     "name": "stdout",
     "output_type": "stream",
     "text": [
      "Epoch 1: 100%|██████████| 132/132 [00:33<00:00,  3.94it/s, v_num=23ms, train_accuracy=0.535, val_loss=0.684, val_accuracy=0.595]\n",
      "Validation: |          | 0/? [00:00<?, ?it/s]\n",
      "Validation:   0%|          | 0/16 [00:00<?, ?it/s]\n",
      "Validation DataLoader 0:   0%|          | 0/16 [00:00<?, ?it/s]\n",
      "Validation DataLoader 0:   6%|▋         | 1/16 [00:00<00:01, 14.93it/s]\n",
      "Validation DataLoader 0:  12%|█▎        | 2/16 [00:00<00:00, 14.32it/s]\n",
      "Validation DataLoader 0:  19%|█▉        | 3/16 [00:00<00:00, 14.22it/s]\n",
      "Validation DataLoader 0:  25%|██▌       | 4/16 [00:00<00:00, 14.20it/s]\n",
      "Validation DataLoader 0:  31%|███▏      | 5/16 [00:00<00:00, 14.20it/s]\n",
      "Validation DataLoader 0:  38%|███▊      | 6/16 [00:00<00:00, 14.17it/s]\n",
      "Validation DataLoader 0:  44%|████▍     | 7/16 [00:00<00:00, 14.08it/s]\n",
      "Validation DataLoader 0:  50%|█████     | 8/16 [00:00<00:00, 14.08it/s]\n",
      "Validation DataLoader 0:  56%|█████▋    | 9/16 [00:00<00:00, 14.11it/s]\n",
      "Validation DataLoader 0:  62%|██████▎   | 10/16 [00:00<00:00, 14.11it/s]\n",
      "Validation DataLoader 0:  69%|██████▉   | 11/16 [00:00<00:00, 14.11it/s]\n",
      "Validation DataLoader 0:  75%|███████▌  | 12/16 [00:00<00:00, 14.10it/s]\n",
      "Validation DataLoader 0:  81%|████████▏ | 13/16 [00:00<00:00, 14.11it/s]\n",
      "Validation DataLoader 0:  88%|████████▊ | 14/16 [00:00<00:00, 14.11it/s]\n",
      "Validation DataLoader 0:  94%|█████████▍| 15/16 [00:01<00:00, 14.11it/s]\n",
      "Validation DataLoader 0: 100%|██████████| 16/16 [00:01<00:00, 14.42it/s]\n",
      "Epoch 1: 100%|██████████| 132/132 [00:34<00:00,  3.81it/s, v_num=23ms, train_accuracy=0.535, val_loss=0.681, val_accuracy=0.595]"
     ]
    },
    {
     "name": "stderr",
     "output_type": "stream",
     "text": [
      "Epoch 1, global step 264: 'val_accuracy' was not in top 1\n"
     ]
    },
    {
     "name": "stdout",
     "output_type": "stream",
     "text": [
      "Epoch 2: 100%|██████████| 132/132 [00:33<00:00,  3.99it/s, v_num=23ms, train_accuracy=0.721, val_loss=0.681, val_accuracy=0.595]\n",
      "Validation: |          | 0/? [00:00<?, ?it/s]\n",
      "Validation:   0%|          | 0/16 [00:00<?, ?it/s]\n",
      "Validation DataLoader 0:   0%|          | 0/16 [00:00<?, ?it/s]\n",
      "Validation DataLoader 0:   6%|▋         | 1/16 [00:00<00:00, 15.42it/s]\n",
      "Validation DataLoader 0:  12%|█▎        | 2/16 [00:00<00:00, 14.80it/s]\n",
      "Validation DataLoader 0:  19%|█▉        | 3/16 [00:00<00:00, 14.60it/s]\n",
      "Validation DataLoader 0:  25%|██▌       | 4/16 [00:00<00:00, 14.33it/s]\n",
      "Validation DataLoader 0:  31%|███▏      | 5/16 [00:00<00:00, 14.29it/s]\n",
      "Validation DataLoader 0:  38%|███▊      | 6/16 [00:00<00:00, 14.29it/s]\n",
      "Validation DataLoader 0:  44%|████▍     | 7/16 [00:00<00:00, 14.18it/s]\n",
      "Validation DataLoader 0:  50%|█████     | 8/16 [00:00<00:00, 14.15it/s]\n",
      "Validation DataLoader 0:  56%|█████▋    | 9/16 [00:00<00:00, 14.11it/s]\n",
      "Validation DataLoader 0:  62%|██████▎   | 10/16 [00:00<00:00, 14.10it/s]\n",
      "Validation DataLoader 0:  69%|██████▉   | 11/16 [00:00<00:00, 14.11it/s]\n",
      "Validation DataLoader 0:  75%|███████▌  | 12/16 [00:00<00:00, 14.11it/s]\n",
      "Validation DataLoader 0:  81%|████████▏ | 13/16 [00:00<00:00, 14.11it/s]\n",
      "Validation DataLoader 0:  88%|████████▊ | 14/16 [00:00<00:00, 14.08it/s]\n",
      "Validation DataLoader 0:  94%|█████████▍| 15/16 [00:01<00:00, 14.07it/s]\n",
      "Validation DataLoader 0: 100%|██████████| 16/16 [00:01<00:00, 14.39it/s]\n",
      "Epoch 2: 100%|██████████| 132/132 [00:34<00:00,  3.86it/s, v_num=23ms, train_accuracy=0.721, val_loss=0.677, val_accuracy=0.595]"
     ]
    },
    {
     "name": "stderr",
     "output_type": "stream",
     "text": [
      "Epoch 2, global step 396: 'val_accuracy' was not in top 1\n"
     ]
    },
    {
     "name": "stdout",
     "output_type": "stream",
     "text": [
      "Epoch 3: 100%|██████████| 132/132 [00:34<00:00,  3.77it/s, v_num=23ms, train_accuracy=0.767, val_loss=0.677, val_accuracy=0.595]\n",
      "Validation: |          | 0/? [00:00<?, ?it/s]\n",
      "Validation:   0%|          | 0/16 [00:00<?, ?it/s]\n",
      "Validation DataLoader 0:   0%|          | 0/16 [00:00<?, ?it/s]\n",
      "Validation DataLoader 0:   6%|▋         | 1/16 [00:00<00:00, 15.51it/s]\n",
      "Validation DataLoader 0:  12%|█▎        | 2/16 [00:00<00:00, 14.62it/s]\n",
      "Validation DataLoader 0:  19%|█▉        | 3/16 [00:00<00:00, 14.30it/s]\n",
      "Validation DataLoader 0:  25%|██▌       | 4/16 [00:00<00:00, 14.24it/s]\n",
      "Validation DataLoader 0:  31%|███▏      | 5/16 [00:00<00:00, 14.26it/s]\n",
      "Validation DataLoader 0:  38%|███▊      | 6/16 [00:00<00:00, 14.17it/s]\n",
      "Validation DataLoader 0:  44%|████▍     | 7/16 [00:00<00:00, 14.06it/s]\n",
      "Validation DataLoader 0:  50%|█████     | 8/16 [00:00<00:00, 14.05it/s]\n",
      "Validation DataLoader 0:  56%|█████▋    | 9/16 [00:00<00:00, 14.03it/s]\n",
      "Validation DataLoader 0:  62%|██████▎   | 10/16 [00:00<00:00, 14.00it/s]\n",
      "Validation DataLoader 0:  69%|██████▉   | 11/16 [00:00<00:00, 14.01it/s]\n",
      "Validation DataLoader 0:  75%|███████▌  | 12/16 [00:00<00:00, 14.01it/s]\n",
      "Validation DataLoader 0:  81%|████████▏ | 13/16 [00:00<00:00, 14.02it/s]\n",
      "Validation DataLoader 0:  88%|████████▊ | 14/16 [00:00<00:00, 14.04it/s]\n",
      "Validation DataLoader 0:  94%|█████████▍| 15/16 [00:01<00:00, 14.05it/s]\n",
      "Validation DataLoader 0: 100%|██████████| 16/16 [00:01<00:00, 14.36it/s]\n",
      "Epoch 3: 100%|██████████| 132/132 [00:36<00:00,  3.65it/s, v_num=23ms, train_accuracy=0.767, val_loss=0.676, val_accuracy=0.595]"
     ]
    },
    {
     "name": "stderr",
     "output_type": "stream",
     "text": [
      "Epoch 3, global step 528: 'val_accuracy' was not in top 1\n"
     ]
    },
    {
     "name": "stdout",
     "output_type": "stream",
     "text": [
      "Epoch 4: 100%|██████████| 132/132 [00:33<00:00,  3.90it/s, v_num=23ms, train_accuracy=0.721, val_loss=0.676, val_accuracy=0.595]\n",
      "Validation: |          | 0/? [00:00<?, ?it/s]\n",
      "Validation:   0%|          | 0/16 [00:00<?, ?it/s]\n",
      "Validation DataLoader 0:   0%|          | 0/16 [00:00<?, ?it/s]\n",
      "Validation DataLoader 0:   6%|▋         | 1/16 [00:00<00:00, 15.22it/s]\n",
      "Validation DataLoader 0:  12%|█▎        | 2/16 [00:00<00:00, 14.55it/s]\n",
      "Validation DataLoader 0:  19%|█▉        | 3/16 [00:00<00:00, 14.26it/s]\n",
      "Validation DataLoader 0:  25%|██▌       | 4/16 [00:00<00:00, 14.16it/s]\n",
      "Validation DataLoader 0:  31%|███▏      | 5/16 [00:00<00:00, 14.14it/s]\n",
      "Validation DataLoader 0:  38%|███▊      | 6/16 [00:00<00:00, 14.15it/s]\n",
      "Validation DataLoader 0:  44%|████▍     | 7/16 [00:00<00:00, 14.14it/s]\n",
      "Validation DataLoader 0:  50%|█████     | 8/16 [00:00<00:00, 14.14it/s]\n",
      "Validation DataLoader 0:  56%|█████▋    | 9/16 [00:00<00:00, 14.11it/s]\n",
      "Validation DataLoader 0:  62%|██████▎   | 10/16 [00:00<00:00, 14.11it/s]\n",
      "Validation DataLoader 0:  69%|██████▉   | 11/16 [00:00<00:00, 14.12it/s]\n",
      "Validation DataLoader 0:  75%|███████▌  | 12/16 [00:00<00:00, 14.12it/s]\n",
      "Validation DataLoader 0:  81%|████████▏ | 13/16 [00:00<00:00, 14.12it/s]\n",
      "Validation DataLoader 0:  88%|████████▊ | 14/16 [00:00<00:00, 14.13it/s]\n",
      "Validation DataLoader 0:  94%|█████████▍| 15/16 [00:01<00:00, 14.13it/s]\n",
      "Validation DataLoader 0: 100%|██████████| 16/16 [00:01<00:00, 14.45it/s]\n",
      "Epoch 4: 100%|██████████| 132/132 [00:34<00:00,  3.77it/s, v_num=23ms, train_accuracy=0.721, val_loss=0.676, val_accuracy=0.595]"
     ]
    },
    {
     "name": "stderr",
     "output_type": "stream",
     "text": [
      "Epoch 4, global step 660: 'val_accuracy' was not in top 1\n"
     ]
    },
    {
     "name": "stdout",
     "output_type": "stream",
     "text": [
      "Epoch 5: 100%|██████████| 132/132 [00:33<00:00,  3.99it/s, v_num=23ms, train_accuracy=0.581, val_loss=0.676, val_accuracy=0.595]\n",
      "Validation: |          | 0/? [00:00<?, ?it/s]\n",
      "Validation:   0%|          | 0/16 [00:00<?, ?it/s]\n",
      "Validation DataLoader 0:   0%|          | 0/16 [00:00<?, ?it/s]\n",
      "Validation DataLoader 0:   6%|▋         | 1/16 [00:00<00:01, 14.91it/s]\n",
      "Validation DataLoader 0:  12%|█▎        | 2/16 [00:00<00:00, 14.32it/s]\n",
      "Validation DataLoader 0:  19%|█▉        | 3/16 [00:00<00:00, 14.26it/s]\n",
      "Validation DataLoader 0:  25%|██▌       | 4/16 [00:00<00:00, 14.25it/s]\n",
      "Validation DataLoader 0:  31%|███▏      | 5/16 [00:00<00:00, 14.25it/s]\n",
      "Validation DataLoader 0:  38%|███▊      | 6/16 [00:00<00:00, 14.25it/s]\n",
      "Validation DataLoader 0:  44%|████▍     | 7/16 [00:00<00:00, 14.22it/s]\n",
      "Validation DataLoader 0:  50%|█████     | 8/16 [00:00<00:00, 14.21it/s]\n",
      "Validation DataLoader 0:  56%|█████▋    | 9/16 [00:00<00:00, 14.20it/s]\n",
      "Validation DataLoader 0:  62%|██████▎   | 10/16 [00:00<00:00, 14.20it/s]\n",
      "Validation DataLoader 0:  69%|██████▉   | 11/16 [00:00<00:00, 14.20it/s]\n",
      "Validation DataLoader 0:  75%|███████▌  | 12/16 [00:00<00:00, 14.21it/s]\n",
      "Validation DataLoader 0:  81%|████████▏ | 13/16 [00:00<00:00, 14.21it/s]\n",
      "Validation DataLoader 0:  88%|████████▊ | 14/16 [00:00<00:00, 14.22it/s]\n",
      "Validation DataLoader 0:  94%|█████████▍| 15/16 [00:01<00:00, 14.20it/s]\n",
      "Validation DataLoader 0: 100%|██████████| 16/16 [00:01<00:00, 14.50it/s]\n",
      "Epoch 5: 100%|██████████| 132/132 [00:34<00:00,  3.86it/s, v_num=23ms, train_accuracy=0.581, val_loss=0.680, val_accuracy=0.595]"
     ]
    },
    {
     "name": "stderr",
     "output_type": "stream",
     "text": [
      "Epoch 5, global step 792: 'val_accuracy' was not in top 1\n"
     ]
    },
    {
     "name": "stdout",
     "output_type": "stream",
     "text": [
      "Epoch 6: 100%|██████████| 132/132 [00:33<00:00,  3.99it/s, v_num=23ms, train_accuracy=0.721, val_loss=0.680, val_accuracy=0.595]\n",
      "Validation: |          | 0/? [00:00<?, ?it/s]\n",
      "Validation:   0%|          | 0/16 [00:00<?, ?it/s]\n",
      "Validation DataLoader 0:   0%|          | 0/16 [00:00<?, ?it/s]\n",
      "Validation DataLoader 0:   6%|▋         | 1/16 [00:00<00:00, 15.52it/s]\n",
      "Validation DataLoader 0:  12%|█▎        | 2/16 [00:00<00:00, 14.76it/s]\n",
      "Validation DataLoader 0:  19%|█▉        | 3/16 [00:00<00:00, 14.36it/s]\n",
      "Validation DataLoader 0:  25%|██▌       | 4/16 [00:00<00:00, 14.07it/s]\n",
      "Validation DataLoader 0:  31%|███▏      | 5/16 [00:00<00:00, 13.93it/s]\n",
      "Validation DataLoader 0:  38%|███▊      | 6/16 [00:00<00:00, 13.80it/s]\n",
      "Validation DataLoader 0:  44%|████▍     | 7/16 [00:00<00:00, 13.80it/s]\n",
      "Validation DataLoader 0:  50%|█████     | 8/16 [00:00<00:00, 13.85it/s]\n",
      "Validation DataLoader 0:  56%|█████▋    | 9/16 [00:00<00:00, 13.88it/s]\n",
      "Validation DataLoader 0:  62%|██████▎   | 10/16 [00:00<00:00, 13.91it/s]\n",
      "Validation DataLoader 0:  69%|██████▉   | 11/16 [00:00<00:00, 13.94it/s]\n",
      "Validation DataLoader 0:  75%|███████▌  | 12/16 [00:00<00:00, 13.93it/s]\n",
      "Validation DataLoader 0:  81%|████████▏ | 13/16 [00:00<00:00, 13.93it/s]\n",
      "Validation DataLoader 0:  88%|████████▊ | 14/16 [00:01<00:00, 13.95it/s]\n",
      "Validation DataLoader 0:  94%|█████████▍| 15/16 [00:01<00:00, 13.97it/s]\n",
      "Validation DataLoader 0: 100%|██████████| 16/16 [00:01<00:00, 14.29it/s]\n",
      "Epoch 6: 100%|██████████| 132/132 [00:34<00:00,  3.86it/s, v_num=23ms, train_accuracy=0.721, val_loss=0.677, val_accuracy=0.595]"
     ]
    },
    {
     "name": "stderr",
     "output_type": "stream",
     "text": [
      "Epoch 6, global step 924: 'val_accuracy' was not in top 1\n"
     ]
    },
    {
     "name": "stdout",
     "output_type": "stream",
     "text": [
      "Epoch 7: 100%|██████████| 132/132 [00:33<00:00,  3.99it/s, v_num=23ms, train_accuracy=0.605, val_loss=0.677, val_accuracy=0.595]\n",
      "Validation: |          | 0/? [00:00<?, ?it/s]\n",
      "Validation:   0%|          | 0/16 [00:00<?, ?it/s]\n",
      "Validation DataLoader 0:   0%|          | 0/16 [00:00<?, ?it/s]\n",
      "Validation DataLoader 0:   6%|▋         | 1/16 [00:00<00:01, 14.98it/s]\n",
      "Validation DataLoader 0:  12%|█▎        | 2/16 [00:00<00:00, 14.36it/s]\n",
      "Validation DataLoader 0:  19%|█▉        | 3/16 [00:00<00:00, 14.25it/s]\n",
      "Validation DataLoader 0:  25%|██▌       | 4/16 [00:00<00:00, 14.24it/s]\n",
      "Validation DataLoader 0:  31%|███▏      | 5/16 [00:00<00:00, 14.22it/s]\n",
      "Validation DataLoader 0:  38%|███▊      | 6/16 [00:00<00:00, 14.18it/s]\n",
      "Validation DataLoader 0:  44%|████▍     | 7/16 [00:00<00:00, 14.13it/s]\n",
      "Validation DataLoader 0:  50%|█████     | 8/16 [00:00<00:00, 14.12it/s]\n",
      "Validation DataLoader 0:  56%|█████▋    | 9/16 [00:00<00:00, 14.14it/s]\n",
      "Validation DataLoader 0:  62%|██████▎   | 10/16 [00:00<00:00, 14.09it/s]\n",
      "Validation DataLoader 0:  69%|██████▉   | 11/16 [00:00<00:00, 14.04it/s]\n",
      "Validation DataLoader 0:  75%|███████▌  | 12/16 [00:00<00:00, 14.05it/s]\n",
      "Validation DataLoader 0:  81%|████████▏ | 13/16 [00:00<00:00, 14.06it/s]\n",
      "Validation DataLoader 0:  88%|████████▊ | 14/16 [00:00<00:00, 14.07it/s]\n",
      "Validation DataLoader 0:  94%|█████████▍| 15/16 [00:01<00:00, 14.08it/s]\n",
      "Validation DataLoader 0: 100%|██████████| 16/16 [00:01<00:00, 14.38it/s]\n",
      "Epoch 7: 100%|██████████| 132/132 [00:34<00:00,  3.86it/s, v_num=23ms, train_accuracy=0.605, val_loss=0.679, val_accuracy=0.595]"
     ]
    },
    {
     "name": "stderr",
     "output_type": "stream",
     "text": [
      "Epoch 7, global step 1056: 'val_accuracy' was not in top 1\n"
     ]
    },
    {
     "name": "stdout",
     "output_type": "stream",
     "text": [
      "Epoch 8: 100%|██████████| 132/132 [00:33<00:00,  3.99it/s, v_num=23ms, train_accuracy=0.628, val_loss=0.679, val_accuracy=0.595]\n",
      "Validation: |          | 0/? [00:00<?, ?it/s]\n",
      "Validation:   0%|          | 0/16 [00:00<?, ?it/s]\n",
      "Validation DataLoader 0:   0%|          | 0/16 [00:00<?, ?it/s]\n",
      "Validation DataLoader 0:   6%|▋         | 1/16 [00:00<00:00, 15.17it/s]\n",
      "Validation DataLoader 0:  12%|█▎        | 2/16 [00:00<00:00, 14.42it/s]\n",
      "Validation DataLoader 0:  19%|█▉        | 3/16 [00:00<00:00, 14.41it/s]\n",
      "Validation DataLoader 0:  25%|██▌       | 4/16 [00:00<00:00, 14.36it/s]\n",
      "Validation DataLoader 0:  31%|███▏      | 5/16 [00:00<00:00, 14.33it/s]\n",
      "Validation DataLoader 0:  38%|███▊      | 6/16 [00:00<00:00, 14.29it/s]\n",
      "Validation DataLoader 0:  44%|████▍     | 7/16 [00:00<00:00, 14.15it/s]\n",
      "Validation DataLoader 0:  50%|█████     | 8/16 [00:00<00:00, 14.13it/s]\n",
      "Validation DataLoader 0:  56%|█████▋    | 9/16 [00:00<00:00, 14.14it/s]\n",
      "Validation DataLoader 0:  62%|██████▎   | 10/16 [00:00<00:00, 14.16it/s]\n",
      "Validation DataLoader 0:  69%|██████▉   | 11/16 [00:00<00:00, 14.14it/s]\n",
      "Validation DataLoader 0:  75%|███████▌  | 12/16 [00:00<00:00, 14.13it/s]\n",
      "Validation DataLoader 0:  81%|████████▏ | 13/16 [00:00<00:00, 14.14it/s]\n",
      "Validation DataLoader 0:  88%|████████▊ | 14/16 [00:00<00:00, 14.13it/s]\n",
      "Validation DataLoader 0:  94%|█████████▍| 15/16 [00:01<00:00, 14.09it/s]\n",
      "Validation DataLoader 0: 100%|██████████| 16/16 [00:01<00:00, 14.41it/s]\n",
      "Epoch 8: 100%|██████████| 132/132 [00:34<00:00,  3.86it/s, v_num=23ms, train_accuracy=0.628, val_loss=0.682, val_accuracy=0.595]"
     ]
    },
    {
     "name": "stderr",
     "output_type": "stream",
     "text": [
      "Epoch 8, global step 1188: 'val_accuracy' was not in top 1\n"
     ]
    },
    {
     "name": "stdout",
     "output_type": "stream",
     "text": [
      "Epoch 9: 100%|██████████| 132/132 [00:33<00:00,  3.96it/s, v_num=23ms, train_accuracy=0.488, val_loss=0.682, val_accuracy=0.595]\n",
      "Validation: |          | 0/? [00:00<?, ?it/s]\n",
      "Validation:   0%|          | 0/16 [00:00<?, ?it/s]\n",
      "Validation DataLoader 0:   0%|          | 0/16 [00:00<?, ?it/s]\n",
      "Validation DataLoader 0:   6%|▋         | 1/16 [00:00<00:00, 15.25it/s]\n",
      "Validation DataLoader 0:  12%|█▎        | 2/16 [00:00<00:00, 14.38it/s]\n",
      "Validation DataLoader 0:  19%|█▉        | 3/16 [00:00<00:00, 14.11it/s]\n",
      "Validation DataLoader 0:  25%|██▌       | 4/16 [00:00<00:00, 14.10it/s]\n",
      "Validation DataLoader 0:  31%|███▏      | 5/16 [00:00<00:00, 14.12it/s]\n",
      "Validation DataLoader 0:  38%|███▊      | 6/16 [00:00<00:00, 14.16it/s]\n",
      "Validation DataLoader 0:  44%|████▍     | 7/16 [00:00<00:00, 14.11it/s]\n",
      "Validation DataLoader 0:  50%|█████     | 8/16 [00:00<00:00, 14.08it/s]\n",
      "Validation DataLoader 0:  56%|█████▋    | 9/16 [00:00<00:00, 14.07it/s]\n",
      "Validation DataLoader 0:  62%|██████▎   | 10/16 [00:00<00:00, 14.09it/s]\n",
      "Validation DataLoader 0:  69%|██████▉   | 11/16 [00:00<00:00, 14.09it/s]\n",
      "Validation DataLoader 0:  75%|███████▌  | 12/16 [00:00<00:00, 14.10it/s]\n",
      "Validation DataLoader 0:  81%|████████▏ | 13/16 [00:00<00:00, 14.09it/s]\n",
      "Validation DataLoader 0:  88%|████████▊ | 14/16 [00:00<00:00, 14.04it/s]\n",
      "Validation DataLoader 0:  94%|█████████▍| 15/16 [00:01<00:00, 13.99it/s]\n",
      "Validation DataLoader 0: 100%|██████████| 16/16 [00:01<00:00, 14.28it/s]\n",
      "Epoch 9: 100%|██████████| 132/132 [00:34<00:00,  3.83it/s, v_num=23ms, train_accuracy=0.488, val_loss=0.678, val_accuracy=0.595]"
     ]
    },
    {
     "name": "stderr",
     "output_type": "stream",
     "text": [
      "Epoch 9, global step 1320: 'val_accuracy' was not in top 1\n"
     ]
    },
    {
     "name": "stdout",
     "output_type": "stream",
     "text": [
      "Epoch 10: 100%|██████████| 132/132 [00:33<00:00,  4.00it/s, v_num=23ms, train_accuracy=0.605, val_loss=0.678, val_accuracy=0.595]\n",
      "Validation: |          | 0/? [00:00<?, ?it/s]\n",
      "Validation:   0%|          | 0/16 [00:00<?, ?it/s]\n",
      "Validation DataLoader 0:   0%|          | 0/16 [00:00<?, ?it/s]\n",
      "Validation DataLoader 0:   6%|▋         | 1/16 [00:00<00:01, 14.74it/s]\n",
      "Validation DataLoader 0:  12%|█▎        | 2/16 [00:00<00:00, 14.18it/s]\n",
      "Validation DataLoader 0:  19%|█▉        | 3/16 [00:00<00:00, 14.10it/s]\n",
      "Validation DataLoader 0:  25%|██▌       | 4/16 [00:00<00:00, 14.00it/s]\n",
      "Validation DataLoader 0:  31%|███▏      | 5/16 [00:00<00:00, 14.01it/s]\n",
      "Validation DataLoader 0:  38%|███▊      | 6/16 [00:00<00:00, 14.03it/s]\n",
      "Validation DataLoader 0:  44%|████▍     | 7/16 [00:00<00:00, 13.98it/s]\n",
      "Validation DataLoader 0:  50%|█████     | 8/16 [00:00<00:00, 13.93it/s]\n",
      "Validation DataLoader 0:  56%|█████▋    | 9/16 [00:00<00:00, 13.94it/s]\n",
      "Validation DataLoader 0:  62%|██████▎   | 10/16 [00:00<00:00, 13.91it/s]\n",
      "Validation DataLoader 0:  69%|██████▉   | 11/16 [00:00<00:00, 13.88it/s]\n",
      "Validation DataLoader 0:  75%|███████▌  | 12/16 [00:00<00:00, 13.88it/s]\n",
      "Validation DataLoader 0:  81%|████████▏ | 13/16 [00:00<00:00, 13.92it/s]\n",
      "Validation DataLoader 0:  88%|████████▊ | 14/16 [00:01<00:00, 13.93it/s]\n",
      "Validation DataLoader 0:  94%|█████████▍| 15/16 [00:01<00:00, 13.90it/s]\n",
      "Validation DataLoader 0: 100%|██████████| 16/16 [00:01<00:00, 14.17it/s]\n",
      "Epoch 10: 100%|██████████| 132/132 [00:34<00:00,  3.86it/s, v_num=23ms, train_accuracy=0.605, val_loss=0.678, val_accuracy=0.595]"
     ]
    },
    {
     "name": "stderr",
     "output_type": "stream",
     "text": [
      "Epoch 10, global step 1452: 'val_accuracy' was not in top 1\n"
     ]
    },
    {
     "name": "stdout",
     "output_type": "stream",
     "text": [
      "Epoch 11: 100%|██████████| 132/132 [00:34<00:00,  3.84it/s, v_num=23ms, train_accuracy=0.674, val_loss=0.678, val_accuracy=0.595]\n",
      "Validation: |          | 0/? [00:00<?, ?it/s]\n",
      "Validation:   0%|          | 0/16 [00:00<?, ?it/s]\n",
      "Validation DataLoader 0:   0%|          | 0/16 [00:00<?, ?it/s]\n",
      "Validation DataLoader 0:   6%|▋         | 1/16 [00:00<00:01, 12.72it/s]\n",
      "Validation DataLoader 0:  12%|█▎        | 2/16 [00:00<00:01, 12.34it/s]\n",
      "Validation DataLoader 0:  19%|█▉        | 3/16 [00:00<00:01, 12.18it/s]\n",
      "Validation DataLoader 0:  25%|██▌       | 4/16 [00:00<00:00, 12.07it/s]\n",
      "Validation DataLoader 0:  31%|███▏      | 5/16 [00:00<00:00, 12.03it/s]\n",
      "Validation DataLoader 0:  38%|███▊      | 6/16 [00:00<00:00, 12.04it/s]\n",
      "Validation DataLoader 0:  44%|████▍     | 7/16 [00:00<00:00, 12.04it/s]\n",
      "Validation DataLoader 0:  50%|█████     | 8/16 [00:00<00:00, 12.04it/s]\n",
      "Validation DataLoader 0:  56%|█████▋    | 9/16 [00:00<00:00, 12.06it/s]\n",
      "Validation DataLoader 0:  62%|██████▎   | 10/16 [00:00<00:00, 12.05it/s]\n",
      "Validation DataLoader 0:  69%|██████▉   | 11/16 [00:00<00:00, 12.04it/s]\n",
      "Validation DataLoader 0:  75%|███████▌  | 12/16 [00:00<00:00, 12.04it/s]\n",
      "Validation DataLoader 0:  81%|████████▏ | 13/16 [00:01<00:00, 12.04it/s]\n",
      "Validation DataLoader 0:  88%|████████▊ | 14/16 [00:01<00:00, 12.04it/s]\n",
      "Validation DataLoader 0:  94%|█████████▍| 15/16 [00:01<00:00, 12.04it/s]\n",
      "Validation DataLoader 0: 100%|██████████| 16/16 [00:01<00:00, 12.27it/s]\n",
      "Epoch 11: 100%|██████████| 132/132 [00:35<00:00,  3.70it/s, v_num=23ms, train_accuracy=0.674, val_loss=0.677, val_accuracy=0.595]"
     ]
    },
    {
     "name": "stderr",
     "output_type": "stream",
     "text": [
      "Epoch 11, global step 1584: 'val_accuracy' was not in top 1\n"
     ]
    },
    {
     "name": "stdout",
     "output_type": "stream",
     "text": [
      "Epoch 12: 100%|██████████| 132/132 [00:34<00:00,  3.85it/s, v_num=23ms, train_accuracy=0.488, val_loss=0.677, val_accuracy=0.595]\n",
      "Validation: |          | 0/? [00:00<?, ?it/s]\n",
      "Validation:   0%|          | 0/16 [00:00<?, ?it/s]\n",
      "Validation DataLoader 0:   0%|          | 0/16 [00:00<?, ?it/s]\n",
      "Validation DataLoader 0:   6%|▋         | 1/16 [00:00<00:01, 14.73it/s]\n",
      "Validation DataLoader 0:  12%|█▎        | 2/16 [00:00<00:00, 14.09it/s]\n",
      "Validation DataLoader 0:  19%|█▉        | 3/16 [00:00<00:00, 14.11it/s]\n",
      "Validation DataLoader 0:  25%|██▌       | 4/16 [00:00<00:00, 14.11it/s]\n",
      "Validation DataLoader 0:  31%|███▏      | 5/16 [00:00<00:00, 14.11it/s]\n",
      "Validation DataLoader 0:  38%|███▊      | 6/16 [00:00<00:00, 14.13it/s]\n",
      "Validation DataLoader 0:  44%|████▍     | 7/16 [00:00<00:00, 14.02it/s]\n",
      "Validation DataLoader 0:  50%|█████     | 8/16 [00:00<00:00, 14.03it/s]\n",
      "Validation DataLoader 0:  56%|█████▋    | 9/16 [00:00<00:00, 14.00it/s]\n",
      "Validation DataLoader 0:  62%|██████▎   | 10/16 [00:00<00:00, 14.01it/s]\n",
      "Validation DataLoader 0:  69%|██████▉   | 11/16 [00:00<00:00, 13.99it/s]\n",
      "Validation DataLoader 0:  75%|███████▌  | 12/16 [00:00<00:00, 14.00it/s]\n",
      "Validation DataLoader 0:  81%|████████▏ | 13/16 [00:00<00:00, 14.02it/s]\n",
      "Validation DataLoader 0:  88%|████████▊ | 14/16 [00:00<00:00, 14.03it/s]\n",
      "Validation DataLoader 0:  94%|█████████▍| 15/16 [00:01<00:00, 14.03it/s]\n",
      "Validation DataLoader 0: 100%|██████████| 16/16 [00:01<00:00, 14.33it/s]\n",
      "Epoch 12: 100%|██████████| 132/132 [00:35<00:00,  3.73it/s, v_num=23ms, train_accuracy=0.488, val_loss=0.676, val_accuracy=0.595]"
     ]
    },
    {
     "name": "stderr",
     "output_type": "stream",
     "text": [
      "Epoch 12, global step 1716: 'val_accuracy' was not in top 1\n"
     ]
    },
    {
     "name": "stdout",
     "output_type": "stream",
     "text": [
      "Epoch 13: 100%|██████████| 132/132 [00:34<00:00,  3.81it/s, v_num=23ms, train_accuracy=0.698, val_loss=0.676, val_accuracy=0.595]\n",
      "Validation: |          | 0/? [00:00<?, ?it/s]\n",
      "Validation:   0%|          | 0/16 [00:00<?, ?it/s]\n",
      "Validation DataLoader 0:   0%|          | 0/16 [00:00<?, ?it/s]\n",
      "Validation DataLoader 0:   6%|▋         | 1/16 [00:00<00:01, 13.07it/s]\n",
      "Validation DataLoader 0:  12%|█▎        | 2/16 [00:00<00:01, 12.52it/s]\n",
      "Validation DataLoader 0:  19%|█▉        | 3/16 [00:00<00:01, 12.41it/s]\n",
      "Validation DataLoader 0:  25%|██▌       | 4/16 [00:00<00:00, 12.31it/s]\n",
      "Validation DataLoader 0:  31%|███▏      | 5/16 [00:00<00:00, 12.25it/s]\n",
      "Validation DataLoader 0:  38%|███▊      | 6/16 [00:00<00:00, 12.22it/s]\n",
      "Validation DataLoader 0:  44%|████▍     | 7/16 [00:00<00:00, 12.18it/s]\n",
      "Validation DataLoader 0:  50%|█████     | 8/16 [00:00<00:00, 12.16it/s]\n",
      "Validation DataLoader 0:  56%|█████▋    | 9/16 [00:00<00:00, 12.15it/s]\n",
      "Validation DataLoader 0:  62%|██████▎   | 10/16 [00:00<00:00, 12.13it/s]\n",
      "Validation DataLoader 0:  69%|██████▉   | 11/16 [00:00<00:00, 12.12it/s]\n",
      "Validation DataLoader 0:  75%|███████▌  | 12/16 [00:00<00:00, 12.09it/s]\n",
      "Validation DataLoader 0:  81%|████████▏ | 13/16 [00:01<00:00, 12.08it/s]\n",
      "Validation DataLoader 0:  88%|████████▊ | 14/16 [00:01<00:00, 12.08it/s]\n",
      "Validation DataLoader 0:  94%|█████████▍| 15/16 [00:01<00:00, 12.07it/s]\n",
      "Validation DataLoader 0: 100%|██████████| 16/16 [00:01<00:00, 12.33it/s]\n",
      "Epoch 13: 100%|██████████| 132/132 [00:35<00:00,  3.67it/s, v_num=23ms, train_accuracy=0.698, val_loss=0.680, val_accuracy=0.595]"
     ]
    },
    {
     "name": "stderr",
     "output_type": "stream",
     "text": [
      "Epoch 13, global step 1848: 'val_accuracy' was not in top 1\n"
     ]
    },
    {
     "name": "stdout",
     "output_type": "stream",
     "text": [
      "Epoch 14: 100%|██████████| 132/132 [00:34<00:00,  3.87it/s, v_num=23ms, train_accuracy=0.674, val_loss=0.680, val_accuracy=0.595]\n",
      "Validation: |          | 0/? [00:00<?, ?it/s]\n",
      "Validation:   0%|          | 0/16 [00:00<?, ?it/s]\n",
      "Validation DataLoader 0:   0%|          | 0/16 [00:00<?, ?it/s]\n",
      "Validation DataLoader 0:   6%|▋         | 1/16 [00:00<00:00, 15.28it/s]\n",
      "Validation DataLoader 0:  12%|█▎        | 2/16 [00:00<00:00, 14.71it/s]\n",
      "Validation DataLoader 0:  19%|█▉        | 3/16 [00:00<00:00, 14.61it/s]\n",
      "Validation DataLoader 0:  25%|██▌       | 4/16 [00:00<00:00, 14.45it/s]\n",
      "Validation DataLoader 0:  31%|███▏      | 5/16 [00:00<00:00, 14.41it/s]\n",
      "Validation DataLoader 0:  38%|███▊      | 6/16 [00:00<00:00, 14.38it/s]\n",
      "Validation DataLoader 0:  44%|████▍     | 7/16 [00:00<00:00, 14.34it/s]\n",
      "Validation DataLoader 0:  50%|█████     | 8/16 [00:00<00:00, 14.26it/s]\n",
      "Validation DataLoader 0:  56%|█████▋    | 9/16 [00:00<00:00, 14.26it/s]\n",
      "Validation DataLoader 0:  62%|██████▎   | 10/16 [00:00<00:00, 14.26it/s]\n",
      "Validation DataLoader 0:  69%|██████▉   | 11/16 [00:00<00:00, 14.25it/s]\n",
      "Validation DataLoader 0:  75%|███████▌  | 12/16 [00:00<00:00, 14.25it/s]\n",
      "Validation DataLoader 0:  81%|████████▏ | 13/16 [00:00<00:00, 14.25it/s]\n",
      "Validation DataLoader 0:  88%|████████▊ | 14/16 [00:00<00:00, 14.24it/s]\n",
      "Validation DataLoader 0:  94%|█████████▍| 15/16 [00:01<00:00, 14.23it/s]\n",
      "Validation DataLoader 0: 100%|██████████| 16/16 [00:01<00:00, 14.54it/s]\n",
      "Epoch 14: 100%|██████████| 132/132 [00:35<00:00,  3.75it/s, v_num=23ms, train_accuracy=0.674, val_loss=0.676, val_accuracy=0.595]"
     ]
    },
    {
     "name": "stderr",
     "output_type": "stream",
     "text": [
      "Epoch 14, global step 1980: 'val_accuracy' was not in top 1\n"
     ]
    },
    {
     "name": "stdout",
     "output_type": "stream",
     "text": [
      "Epoch 15: 100%|██████████| 132/132 [00:35<00:00,  3.70it/s, v_num=23ms, train_accuracy=0.558, val_loss=0.676, val_accuracy=0.595]\n",
      "Validation: |          | 0/? [00:00<?, ?it/s]\n",
      "Validation:   0%|          | 0/16 [00:00<?, ?it/s]\n",
      "Validation DataLoader 0:   0%|          | 0/16 [00:00<?, ?it/s]\n",
      "Validation DataLoader 0:   6%|▋         | 1/16 [00:00<00:01, 12.32it/s]\n",
      "Validation DataLoader 0:  12%|█▎        | 2/16 [00:00<00:01, 12.07it/s]\n",
      "Validation DataLoader 0:  19%|█▉        | 3/16 [00:00<00:01, 11.86it/s]\n",
      "Validation DataLoader 0:  25%|██▌       | 4/16 [00:00<00:01, 11.81it/s]\n",
      "Validation DataLoader 0:  31%|███▏      | 5/16 [00:00<00:00, 11.79it/s]\n",
      "Validation DataLoader 0:  38%|███▊      | 6/16 [00:00<00:00, 11.77it/s]\n",
      "Validation DataLoader 0:  44%|████▍     | 7/16 [00:00<00:00, 11.77it/s]\n",
      "Validation DataLoader 0:  50%|█████     | 8/16 [00:00<00:00, 11.98it/s]\n",
      "Validation DataLoader 0:  56%|█████▋    | 9/16 [00:00<00:00, 12.19it/s]\n",
      "Validation DataLoader 0:  62%|██████▎   | 10/16 [00:00<00:00, 12.32it/s]\n",
      "Validation DataLoader 0:  69%|██████▉   | 11/16 [00:00<00:00, 12.47it/s]\n",
      "Validation DataLoader 0:  75%|███████▌  | 12/16 [00:00<00:00, 12.59it/s]\n",
      "Validation DataLoader 0:  81%|████████▏ | 13/16 [00:01<00:00, 12.70it/s]\n",
      "Validation DataLoader 0:  88%|████████▊ | 14/16 [00:01<00:00, 12.79it/s]\n",
      "Validation DataLoader 0:  94%|█████████▍| 15/16 [00:01<00:00, 12.88it/s]\n",
      "Validation DataLoader 0: 100%|██████████| 16/16 [00:01<00:00, 13.20it/s]\n",
      "Epoch 15: 100%|██████████| 132/132 [00:36<00:00,  3.58it/s, v_num=23ms, train_accuracy=0.558, val_loss=0.679, val_accuracy=0.595]"
     ]
    },
    {
     "name": "stderr",
     "output_type": "stream",
     "text": [
      "Epoch 15, global step 2112: 'val_accuracy' was not in top 1\n"
     ]
    },
    {
     "name": "stdout",
     "output_type": "stream",
     "text": [
      "Epoch 16: 100%|██████████| 132/132 [00:34<00:00,  3.82it/s, v_num=23ms, train_accuracy=0.651, val_loss=0.679, val_accuracy=0.595]\n",
      "Validation: |          | 0/? [00:00<?, ?it/s]\n",
      "Validation:   0%|          | 0/16 [00:00<?, ?it/s]\n",
      "Validation DataLoader 0:   0%|          | 0/16 [00:00<?, ?it/s]\n",
      "Validation DataLoader 0:   6%|▋         | 1/16 [00:00<00:00, 15.34it/s]\n",
      "Validation DataLoader 0:  12%|█▎        | 2/16 [00:00<00:00, 14.52it/s]\n",
      "Validation DataLoader 0:  19%|█▉        | 3/16 [00:00<00:00, 14.40it/s]\n",
      "Validation DataLoader 0:  25%|██▌       | 4/16 [00:00<00:00, 14.22it/s]\n",
      "Validation DataLoader 0:  31%|███▏      | 5/16 [00:00<00:00, 14.10it/s]\n",
      "Validation DataLoader 0:  38%|███▊      | 6/16 [00:00<00:00, 14.04it/s]\n",
      "Validation DataLoader 0:  44%|████▍     | 7/16 [00:00<00:00, 14.01it/s]\n",
      "Validation DataLoader 0:  50%|█████     | 8/16 [00:00<00:00, 13.97it/s]\n",
      "Validation DataLoader 0:  56%|█████▋    | 9/16 [00:00<00:00, 13.97it/s]\n",
      "Validation DataLoader 0:  62%|██████▎   | 10/16 [00:00<00:00, 14.01it/s]\n",
      "Validation DataLoader 0:  69%|██████▉   | 11/16 [00:00<00:00, 13.99it/s]\n",
      "Validation DataLoader 0:  75%|███████▌  | 12/16 [00:00<00:00, 13.96it/s]\n",
      "Validation DataLoader 0:  81%|████████▏ | 13/16 [00:00<00:00, 13.94it/s]\n",
      "Validation DataLoader 0:  88%|████████▊ | 14/16 [00:01<00:00, 13.97it/s]\n",
      "Validation DataLoader 0:  94%|█████████▍| 15/16 [00:01<00:00, 13.98it/s]\n",
      "Validation DataLoader 0: 100%|██████████| 16/16 [00:01<00:00, 14.28it/s]\n",
      "Epoch 16: 100%|██████████| 132/132 [00:35<00:00,  3.69it/s, v_num=23ms, train_accuracy=0.651, val_loss=0.677, val_accuracy=0.595]"
     ]
    },
    {
     "name": "stderr",
     "output_type": "stream",
     "text": [
      "Epoch 16, global step 2244: 'val_accuracy' was not in top 1\n"
     ]
    },
    {
     "name": "stdout",
     "output_type": "stream",
     "text": [
      "Epoch 17: 100%|██████████| 132/132 [00:34<00:00,  3.82it/s, v_num=23ms, train_accuracy=0.581, val_loss=0.677, val_accuracy=0.595]\n",
      "Validation: |          | 0/? [00:00<?, ?it/s]\n",
      "Validation:   0%|          | 0/16 [00:00<?, ?it/s]\n",
      "Validation DataLoader 0:   0%|          | 0/16 [00:00<?, ?it/s]\n",
      "Validation DataLoader 0:   6%|▋         | 1/16 [00:00<00:00, 15.30it/s]\n",
      "Validation DataLoader 0:  12%|█▎        | 2/16 [00:00<00:00, 14.44it/s]\n",
      "Validation DataLoader 0:  19%|█▉        | 3/16 [00:00<00:00, 14.12it/s]\n",
      "Validation DataLoader 0:  25%|██▌       | 4/16 [00:00<00:00, 14.02it/s]\n",
      "Validation DataLoader 0:  31%|███▏      | 5/16 [00:00<00:00, 14.00it/s]\n",
      "Validation DataLoader 0:  38%|███▊      | 6/16 [00:00<00:00, 14.03it/s]\n",
      "Validation DataLoader 0:  44%|████▍     | 7/16 [00:00<00:00, 14.03it/s]\n",
      "Validation DataLoader 0:  50%|█████     | 8/16 [00:00<00:00, 14.06it/s]\n",
      "Validation DataLoader 0:  56%|█████▋    | 9/16 [00:00<00:00, 14.08it/s]\n",
      "Validation DataLoader 0:  62%|██████▎   | 10/16 [00:00<00:00, 14.06it/s]\n",
      "Validation DataLoader 0:  69%|██████▉   | 11/16 [00:00<00:00, 14.07it/s]\n",
      "Validation DataLoader 0:  75%|███████▌  | 12/16 [00:00<00:00, 14.08it/s]\n",
      "Validation DataLoader 0:  81%|████████▏ | 13/16 [00:00<00:00, 14.08it/s]\n",
      "Validation DataLoader 0:  88%|████████▊ | 14/16 [00:00<00:00, 14.09it/s]\n",
      "Validation DataLoader 0:  94%|█████████▍| 15/16 [00:01<00:00, 14.09it/s]\n",
      "Validation DataLoader 0: 100%|██████████| 16/16 [00:01<00:00, 14.41it/s]\n",
      "Epoch 17: 100%|██████████| 132/132 [00:35<00:00,  3.70it/s, v_num=23ms, train_accuracy=0.581, val_loss=0.676, val_accuracy=0.595]"
     ]
    },
    {
     "name": "stderr",
     "output_type": "stream",
     "text": [
      "Epoch 17, global step 2376: 'val_accuracy' was not in top 1\n"
     ]
    },
    {
     "name": "stdout",
     "output_type": "stream",
     "text": [
      "Epoch 18: 100%|██████████| 132/132 [00:34<00:00,  3.85it/s, v_num=23ms, train_accuracy=0.674, val_loss=0.676, val_accuracy=0.595]\n",
      "Validation: |          | 0/? [00:00<?, ?it/s]\n",
      "Validation:   0%|          | 0/16 [00:00<?, ?it/s]\n",
      "Validation DataLoader 0:   0%|          | 0/16 [00:00<?, ?it/s]\n",
      "Validation DataLoader 0:   6%|▋         | 1/16 [00:00<00:00, 15.13it/s]\n",
      "Validation DataLoader 0:  12%|█▎        | 2/16 [00:00<00:00, 14.60it/s]\n",
      "Validation DataLoader 0:  19%|█▉        | 3/16 [00:00<00:00, 14.44it/s]\n",
      "Validation DataLoader 0:  25%|██▌       | 4/16 [00:00<00:00, 14.32it/s]\n",
      "Validation DataLoader 0:  31%|███▏      | 5/16 [00:00<00:00, 14.19it/s]\n",
      "Validation DataLoader 0:  38%|███▊      | 6/16 [00:00<00:00, 14.10it/s]\n",
      "Validation DataLoader 0:  44%|████▍     | 7/16 [00:00<00:00, 14.06it/s]\n",
      "Validation DataLoader 0:  50%|█████     | 8/16 [00:00<00:00, 14.05it/s]\n",
      "Validation DataLoader 0:  56%|█████▋    | 9/16 [00:00<00:00, 14.00it/s]\n",
      "Validation DataLoader 0:  62%|██████▎   | 10/16 [00:00<00:00, 13.97it/s]\n",
      "Validation DataLoader 0:  69%|██████▉   | 11/16 [00:00<00:00, 13.99it/s]\n",
      "Validation DataLoader 0:  75%|███████▌  | 12/16 [00:00<00:00, 13.98it/s]\n",
      "Validation DataLoader 0:  81%|████████▏ | 13/16 [00:00<00:00, 13.97it/s]\n",
      "Validation DataLoader 0:  88%|████████▊ | 14/16 [00:01<00:00, 13.98it/s]\n",
      "Validation DataLoader 0:  94%|█████████▍| 15/16 [00:01<00:00, 14.00it/s]\n",
      "Validation DataLoader 0: 100%|██████████| 16/16 [00:01<00:00, 14.31it/s]\n",
      "Epoch 18: 100%|██████████| 132/132 [00:35<00:00,  3.73it/s, v_num=23ms, train_accuracy=0.674, val_loss=0.680, val_accuracy=0.595]"
     ]
    },
    {
     "name": "stderr",
     "output_type": "stream",
     "text": [
      "Epoch 18, global step 2508: 'val_accuracy' was not in top 1\n"
     ]
    },
    {
     "name": "stdout",
     "output_type": "stream",
     "text": [
      "Epoch 19: 100%|██████████| 132/132 [00:34<00:00,  3.82it/s, v_num=23ms, train_accuracy=0.674, val_loss=0.680, val_accuracy=0.595]\n",
      "Validation: |          | 0/? [00:00<?, ?it/s]\n",
      "Validation:   0%|          | 0/16 [00:00<?, ?it/s]\n",
      "Validation DataLoader 0:   0%|          | 0/16 [00:00<?, ?it/s]\n",
      "Validation DataLoader 0:   6%|▋         | 1/16 [00:00<00:01, 12.61it/s]\n",
      "Validation DataLoader 0:  12%|█▎        | 2/16 [00:00<00:01, 12.20it/s]\n",
      "Validation DataLoader 0:  19%|█▉        | 3/16 [00:00<00:01, 12.11it/s]\n",
      "Validation DataLoader 0:  25%|██▌       | 4/16 [00:00<00:00, 12.09it/s]\n",
      "Validation DataLoader 0:  31%|███▏      | 5/16 [00:00<00:00, 12.38it/s]\n",
      "Validation DataLoader 0:  38%|███▊      | 6/16 [00:00<00:00, 12.62it/s]\n",
      "Validation DataLoader 0:  44%|████▍     | 7/16 [00:00<00:00, 12.82it/s]\n",
      "Validation DataLoader 0:  50%|█████     | 8/16 [00:00<00:00, 12.98it/s]\n",
      "Validation DataLoader 0:  56%|█████▋    | 9/16 [00:00<00:00, 13.12it/s]\n",
      "Validation DataLoader 0:  62%|██████▎   | 10/16 [00:00<00:00, 13.22it/s]\n",
      "Validation DataLoader 0:  69%|██████▉   | 11/16 [00:00<00:00, 13.31it/s]\n",
      "Validation DataLoader 0:  75%|███████▌  | 12/16 [00:00<00:00, 13.33it/s]\n",
      "Validation DataLoader 0:  81%|████████▏ | 13/16 [00:00<00:00, 13.40it/s]\n",
      "Validation DataLoader 0:  88%|████████▊ | 14/16 [00:01<00:00, 13.45it/s]\n",
      "Validation DataLoader 0:  94%|█████████▍| 15/16 [00:01<00:00, 13.46it/s]\n",
      "Validation DataLoader 0: 100%|██████████| 16/16 [00:01<00:00, 13.76it/s]\n",
      "Epoch 19: 100%|██████████| 132/132 [00:35<00:00,  3.69it/s, v_num=23ms, train_accuracy=0.674, val_loss=0.675, val_accuracy=0.595]"
     ]
    },
    {
     "name": "stderr",
     "output_type": "stream",
     "text": [
      "Epoch 19, global step 2640: 'val_accuracy' was not in top 1\n"
     ]
    },
    {
     "name": "stdout",
     "output_type": "stream",
     "text": [
      "Epoch 20: 100%|██████████| 132/132 [00:34<00:00,  3.85it/s, v_num=23ms, train_accuracy=0.698, val_loss=0.675, val_accuracy=0.595]\n",
      "Validation: |          | 0/? [00:00<?, ?it/s]\n",
      "Validation:   0%|          | 0/16 [00:00<?, ?it/s]\n",
      "Validation DataLoader 0:   0%|          | 0/16 [00:00<?, ?it/s]\n",
      "Validation DataLoader 0:   6%|▋         | 1/16 [00:00<00:00, 15.01it/s]\n",
      "Validation DataLoader 0:  12%|█▎        | 2/16 [00:00<00:00, 14.53it/s]\n",
      "Validation DataLoader 0:  19%|█▉        | 3/16 [00:00<00:00, 14.31it/s]\n",
      "Validation DataLoader 0:  25%|██▌       | 4/16 [00:00<00:00, 14.12it/s]\n",
      "Validation DataLoader 0:  31%|███▏      | 5/16 [00:00<00:00, 14.02it/s]\n",
      "Validation DataLoader 0:  38%|███▊      | 6/16 [00:00<00:00, 13.98it/s]\n",
      "Validation DataLoader 0:  44%|████▍     | 7/16 [00:00<00:00, 13.91it/s]\n",
      "Validation DataLoader 0:  50%|█████     | 8/16 [00:00<00:00, 13.91it/s]\n",
      "Validation DataLoader 0:  56%|█████▋    | 9/16 [00:00<00:00, 13.94it/s]\n",
      "Validation DataLoader 0:  62%|██████▎   | 10/16 [00:00<00:00, 13.93it/s]\n",
      "Validation DataLoader 0:  69%|██████▉   | 11/16 [00:00<00:00, 13.95it/s]\n",
      "Validation DataLoader 0:  75%|███████▌  | 12/16 [00:00<00:00, 13.93it/s]\n",
      "Validation DataLoader 0:  81%|████████▏ | 13/16 [00:00<00:00, 13.89it/s]\n",
      "Validation DataLoader 0:  88%|████████▊ | 14/16 [00:01<00:00, 13.88it/s]\n",
      "Validation DataLoader 0:  94%|█████████▍| 15/16 [00:01<00:00, 13.85it/s]\n",
      "Validation DataLoader 0: 100%|██████████| 16/16 [00:01<00:00, 14.16it/s]\n",
      "Epoch 20: 100%|██████████| 132/132 [00:35<00:00,  3.73it/s, v_num=23ms, train_accuracy=0.698, val_loss=0.676, val_accuracy=0.595]"
     ]
    },
    {
     "name": "stderr",
     "output_type": "stream",
     "text": [
      "Epoch 20, global step 2772: 'val_accuracy' was not in top 1\n"
     ]
    },
    {
     "name": "stdout",
     "output_type": "stream",
     "text": [
      "Epoch 21: 100%|██████████| 132/132 [00:34<00:00,  3.83it/s, v_num=23ms, train_accuracy=0.581, val_loss=0.676, val_accuracy=0.595]\n",
      "Validation: |          | 0/? [00:00<?, ?it/s]\n",
      "Validation:   0%|          | 0/16 [00:00<?, ?it/s]\n",
      "Validation DataLoader 0:   0%|          | 0/16 [00:00<?, ?it/s]\n",
      "Validation DataLoader 0:   6%|▋         | 1/16 [00:00<00:01, 12.17it/s]\n",
      "Validation DataLoader 0:  12%|█▎        | 2/16 [00:00<00:01, 12.06it/s]\n",
      "Validation DataLoader 0:  19%|█▉        | 3/16 [00:00<00:01, 12.06it/s]\n",
      "Validation DataLoader 0:  25%|██▌       | 4/16 [00:00<00:00, 12.01it/s]\n",
      "Validation DataLoader 0:  31%|███▏      | 5/16 [00:00<00:00, 12.38it/s]\n",
      "Validation DataLoader 0:  38%|███▊      | 6/16 [00:00<00:00, 12.64it/s]\n",
      "Validation DataLoader 0:  44%|████▍     | 7/16 [00:00<00:00, 12.87it/s]\n",
      "Validation DataLoader 0:  50%|█████     | 8/16 [00:00<00:00, 12.97it/s]\n",
      "Validation DataLoader 0:  56%|█████▋    | 9/16 [00:00<00:00, 13.07it/s]\n",
      "Validation DataLoader 0:  62%|██████▎   | 10/16 [00:00<00:00, 13.19it/s]\n",
      "Validation DataLoader 0:  69%|██████▉   | 11/16 [00:00<00:00, 13.27it/s]\n",
      "Validation DataLoader 0:  75%|███████▌  | 12/16 [00:00<00:00, 13.34it/s]\n",
      "Validation DataLoader 0:  81%|████████▏ | 13/16 [00:00<00:00, 13.40it/s]\n",
      "Validation DataLoader 0:  88%|████████▊ | 14/16 [00:01<00:00, 13.42it/s]\n",
      "Validation DataLoader 0:  94%|█████████▍| 15/16 [00:01<00:00, 13.47it/s]\n",
      "Validation DataLoader 0: 100%|██████████| 16/16 [00:01<00:00, 13.79it/s]\n",
      "Epoch 21: 100%|██████████| 132/132 [00:35<00:00,  3.70it/s, v_num=23ms, train_accuracy=0.581, val_loss=0.678, val_accuracy=0.595]"
     ]
    },
    {
     "name": "stderr",
     "output_type": "stream",
     "text": [
      "Epoch 21, global step 2904: 'val_accuracy' was not in top 1\n"
     ]
    },
    {
     "name": "stdout",
     "output_type": "stream",
     "text": [
      "Epoch 22: 100%|██████████| 132/132 [00:34<00:00,  3.88it/s, v_num=23ms, train_accuracy=0.651, val_loss=0.678, val_accuracy=0.595]\n",
      "Validation: |          | 0/? [00:00<?, ?it/s]\n",
      "Validation:   0%|          | 0/16 [00:00<?, ?it/s]\n",
      "Validation DataLoader 0:   0%|          | 0/16 [00:00<?, ?it/s]\n",
      "Validation DataLoader 0:   6%|▋         | 1/16 [00:00<00:00, 15.33it/s]\n",
      "Validation DataLoader 0:  12%|█▎        | 2/16 [00:00<00:00, 14.60it/s]\n",
      "Validation DataLoader 0:  19%|█▉        | 3/16 [00:00<00:00, 14.42it/s]\n",
      "Validation DataLoader 0:  25%|██▌       | 4/16 [00:00<00:00, 14.37it/s]\n",
      "Validation DataLoader 0:  31%|███▏      | 5/16 [00:00<00:00, 14.35it/s]\n",
      "Validation DataLoader 0:  38%|███▊      | 6/16 [00:00<00:00, 14.32it/s]\n",
      "Validation DataLoader 0:  44%|████▍     | 7/16 [00:00<00:00, 14.34it/s]\n",
      "Validation DataLoader 0:  50%|█████     | 8/16 [00:00<00:00, 14.30it/s]\n",
      "Validation DataLoader 0:  56%|█████▋    | 9/16 [00:00<00:00, 14.29it/s]\n",
      "Validation DataLoader 0:  62%|██████▎   | 10/16 [00:00<00:00, 14.28it/s]\n",
      "Validation DataLoader 0:  69%|██████▉   | 11/16 [00:00<00:00, 14.26it/s]\n",
      "Validation DataLoader 0:  75%|███████▌  | 12/16 [00:00<00:00, 14.26it/s]\n",
      "Validation DataLoader 0:  81%|████████▏ | 13/16 [00:00<00:00, 14.21it/s]\n",
      "Validation DataLoader 0:  88%|████████▊ | 14/16 [00:00<00:00, 14.21it/s]\n",
      "Validation DataLoader 0:  94%|█████████▍| 15/16 [00:01<00:00, 14.22it/s]\n",
      "Validation DataLoader 0: 100%|██████████| 16/16 [00:01<00:00, 14.52it/s]\n",
      "Epoch 22: 100%|██████████| 132/132 [00:35<00:00,  3.76it/s, v_num=23ms, train_accuracy=0.651, val_loss=0.678, val_accuracy=0.595]"
     ]
    },
    {
     "name": "stderr",
     "output_type": "stream",
     "text": [
      "Epoch 22, global step 3036: 'val_accuracy' was not in top 1\n"
     ]
    },
    {
     "name": "stdout",
     "output_type": "stream",
     "text": [
      "Epoch 23: 100%|██████████| 132/132 [00:34<00:00,  3.81it/s, v_num=23ms, train_accuracy=0.512, val_loss=0.678, val_accuracy=0.595]\n",
      "Validation: |          | 0/? [00:00<?, ?it/s]\n",
      "Validation:   0%|          | 0/16 [00:00<?, ?it/s]\n",
      "Validation DataLoader 0:   0%|          | 0/16 [00:00<?, ?it/s]\n",
      "Validation DataLoader 0:   6%|▋         | 1/16 [00:00<00:01, 12.46it/s]\n",
      "Validation DataLoader 0:  12%|█▎        | 2/16 [00:00<00:01, 12.26it/s]\n",
      "Validation DataLoader 0:  19%|█▉        | 3/16 [00:00<00:01, 12.12it/s]\n",
      "Validation DataLoader 0:  25%|██▌       | 4/16 [00:00<00:01, 12.00it/s]\n",
      "Validation DataLoader 0:  31%|███▏      | 5/16 [00:00<00:00, 11.94it/s]\n",
      "Validation DataLoader 0:  38%|███▊      | 6/16 [00:00<00:00, 11.89it/s]\n",
      "Validation DataLoader 0:  44%|████▍     | 7/16 [00:00<00:00, 11.98it/s]\n",
      "Validation DataLoader 0:  50%|█████     | 8/16 [00:00<00:00, 12.12it/s]\n",
      "Validation DataLoader 0:  56%|█████▋    | 9/16 [00:00<00:00, 12.25it/s]\n",
      "Validation DataLoader 0:  62%|██████▎   | 10/16 [00:00<00:00, 12.32it/s]\n",
      "Validation DataLoader 0:  69%|██████▉   | 11/16 [00:00<00:00, 12.43it/s]\n",
      "Validation DataLoader 0:  75%|███████▌  | 12/16 [00:00<00:00, 12.55it/s]\n",
      "Validation DataLoader 0:  81%|████████▏ | 13/16 [00:01<00:00, 12.66it/s]\n",
      "Validation DataLoader 0:  88%|████████▊ | 14/16 [00:01<00:00, 12.76it/s]\n",
      "Validation DataLoader 0:  94%|█████████▍| 15/16 [00:01<00:00, 12.81it/s]\n",
      "Validation DataLoader 0: 100%|██████████| 16/16 [00:01<00:00, 13.11it/s]\n",
      "Epoch 23: 100%|██████████| 132/132 [00:35<00:00,  3.68it/s, v_num=23ms, train_accuracy=0.512, val_loss=0.678, val_accuracy=0.595]"
     ]
    },
    {
     "name": "stderr",
     "output_type": "stream",
     "text": [
      "Epoch 23, global step 3168: 'val_accuracy' was not in top 1\n"
     ]
    },
    {
     "name": "stdout",
     "output_type": "stream",
     "text": [
      "Epoch 24: 100%|██████████| 132/132 [00:34<00:00,  3.86it/s, v_num=23ms, train_accuracy=0.744, val_loss=0.678, val_accuracy=0.595]\n",
      "Validation: |          | 0/? [00:00<?, ?it/s]\n",
      "Validation:   0%|          | 0/16 [00:00<?, ?it/s]\n",
      "Validation DataLoader 0:   0%|          | 0/16 [00:00<?, ?it/s]\n",
      "Validation DataLoader 0:   6%|▋         | 1/16 [00:00<00:00, 15.17it/s]\n",
      "Validation DataLoader 0:  12%|█▎        | 2/16 [00:00<00:00, 14.36it/s]\n",
      "Validation DataLoader 0:  19%|█▉        | 3/16 [00:00<00:00, 14.18it/s]\n",
      "Validation DataLoader 0:  25%|██▌       | 4/16 [00:00<00:00, 14.22it/s]\n",
      "Validation DataLoader 0:  31%|███▏      | 5/16 [00:00<00:00, 14.21it/s]\n",
      "Validation DataLoader 0:  38%|███▊      | 6/16 [00:00<00:00, 14.21it/s]\n",
      "Validation DataLoader 0:  44%|████▍     | 7/16 [00:00<00:00, 14.22it/s]\n",
      "Validation DataLoader 0:  50%|█████     | 8/16 [00:00<00:00, 14.19it/s]\n",
      "Validation DataLoader 0:  56%|█████▋    | 9/16 [00:00<00:00, 14.15it/s]\n",
      "Validation DataLoader 0:  62%|██████▎   | 10/16 [00:00<00:00, 14.14it/s]\n",
      "Validation DataLoader 0:  69%|██████▉   | 11/16 [00:00<00:00, 14.16it/s]\n",
      "Validation DataLoader 0:  75%|███████▌  | 12/16 [00:00<00:00, 14.16it/s]\n",
      "Validation DataLoader 0:  81%|████████▏ | 13/16 [00:00<00:00, 14.15it/s]\n",
      "Validation DataLoader 0:  88%|████████▊ | 14/16 [00:00<00:00, 14.13it/s]\n",
      "Validation DataLoader 0:  94%|█████████▍| 15/16 [00:01<00:00, 14.13it/s]\n",
      "Validation DataLoader 0: 100%|██████████| 16/16 [00:01<00:00, 14.43it/s]\n",
      "Epoch 24: 100%|██████████| 132/132 [00:35<00:00,  3.73it/s, v_num=23ms, train_accuracy=0.744, val_loss=0.678, val_accuracy=0.595]"
     ]
    },
    {
     "name": "stderr",
     "output_type": "stream",
     "text": [
      "Epoch 24, global step 3300: 'val_accuracy' was not in top 1\n"
     ]
    },
    {
     "name": "stdout",
     "output_type": "stream",
     "text": [
      "Epoch 25: 100%|██████████| 132/132 [00:34<00:00,  3.85it/s, v_num=23ms, train_accuracy=0.558, val_loss=0.678, val_accuracy=0.595]\n",
      "Validation: |          | 0/? [00:00<?, ?it/s]\n",
      "Validation:   0%|          | 0/16 [00:00<?, ?it/s]\n",
      "Validation DataLoader 0:   0%|          | 0/16 [00:00<?, ?it/s]\n",
      "Validation DataLoader 0:   6%|▋         | 1/16 [00:00<00:01, 14.67it/s]\n",
      "Validation DataLoader 0:  12%|█▎        | 2/16 [00:00<00:00, 14.36it/s]\n",
      "Validation DataLoader 0:  19%|█▉        | 3/16 [00:00<00:00, 14.18it/s]\n",
      "Validation DataLoader 0:  25%|██▌       | 4/16 [00:00<00:00, 14.05it/s]\n",
      "Validation DataLoader 0:  31%|███▏      | 5/16 [00:00<00:00, 14.02it/s]\n",
      "Validation DataLoader 0:  38%|███▊      | 6/16 [00:00<00:00, 14.05it/s]\n",
      "Validation DataLoader 0:  44%|████▍     | 7/16 [00:00<00:00, 14.03it/s]\n",
      "Validation DataLoader 0:  50%|█████     | 8/16 [00:00<00:00, 14.00it/s]\n",
      "Validation DataLoader 0:  56%|█████▋    | 9/16 [00:00<00:00, 13.95it/s]\n",
      "Validation DataLoader 0:  62%|██████▎   | 10/16 [00:00<00:00, 13.93it/s]\n",
      "Validation DataLoader 0:  69%|██████▉   | 11/16 [00:00<00:00, 13.94it/s]\n",
      "Validation DataLoader 0:  75%|███████▌  | 12/16 [00:00<00:00, 13.88it/s]\n",
      "Validation DataLoader 0:  81%|████████▏ | 13/16 [00:00<00:00, 13.83it/s]\n",
      "Validation DataLoader 0:  88%|████████▊ | 14/16 [00:01<00:00, 13.84it/s]\n",
      "Validation DataLoader 0:  94%|█████████▍| 15/16 [00:01<00:00, 13.86it/s]\n",
      "Validation DataLoader 0: 100%|██████████| 16/16 [00:01<00:00, 14.15it/s]\n",
      "Epoch 25: 100%|██████████| 132/132 [00:35<00:00,  3.72it/s, v_num=23ms, train_accuracy=0.558, val_loss=0.678, val_accuracy=0.595]"
     ]
    },
    {
     "name": "stderr",
     "output_type": "stream",
     "text": [
      "Epoch 25, global step 3432: 'val_accuracy' was not in top 1\n"
     ]
    },
    {
     "name": "stdout",
     "output_type": "stream",
     "text": [
      "Epoch 26: 100%|██████████| 132/132 [00:34<00:00,  3.87it/s, v_num=23ms, train_accuracy=0.674, val_loss=0.678, val_accuracy=0.595]\n",
      "Validation: |          | 0/? [00:00<?, ?it/s]\n",
      "Validation:   0%|          | 0/16 [00:00<?, ?it/s]\n",
      "Validation DataLoader 0:   0%|          | 0/16 [00:00<?, ?it/s]\n",
      "Validation DataLoader 0:   6%|▋         | 1/16 [00:00<00:00, 15.10it/s]\n",
      "Validation DataLoader 0:  12%|█▎        | 2/16 [00:00<00:00, 14.70it/s]\n",
      "Validation DataLoader 0:  19%|█▉        | 3/16 [00:00<00:00, 14.42it/s]\n",
      "Validation DataLoader 0:  25%|██▌       | 4/16 [00:00<00:00, 14.36it/s]\n",
      "Validation DataLoader 0:  31%|███▏      | 5/16 [00:00<00:00, 14.25it/s]\n",
      "Validation DataLoader 0:  38%|███▊      | 6/16 [00:00<00:00, 14.19it/s]\n",
      "Validation DataLoader 0:  44%|████▍     | 7/16 [00:00<00:00, 14.10it/s]\n",
      "Validation DataLoader 0:  50%|█████     | 8/16 [00:00<00:00, 14.04it/s]\n",
      "Validation DataLoader 0:  56%|█████▋    | 9/16 [00:00<00:00, 13.98it/s]\n",
      "Validation DataLoader 0:  62%|██████▎   | 10/16 [00:00<00:00, 13.96it/s]\n",
      "Validation DataLoader 0:  69%|██████▉   | 11/16 [00:00<00:00, 13.99it/s]\n",
      "Validation DataLoader 0:  75%|███████▌  | 12/16 [00:00<00:00, 13.99it/s]\n",
      "Validation DataLoader 0:  81%|████████▏ | 13/16 [00:00<00:00, 13.98it/s]\n",
      "Validation DataLoader 0:  88%|████████▊ | 14/16 [00:01<00:00, 13.99it/s]\n",
      "Validation DataLoader 0:  94%|█████████▍| 15/16 [00:01<00:00, 14.01it/s]\n",
      "Validation DataLoader 0: 100%|██████████| 16/16 [00:01<00:00, 14.33it/s]\n",
      "Epoch 26: 100%|██████████| 132/132 [00:35<00:00,  3.74it/s, v_num=23ms, train_accuracy=0.674, val_loss=0.677, val_accuracy=0.595]"
     ]
    },
    {
     "name": "stderr",
     "output_type": "stream",
     "text": [
      "Epoch 26, global step 3564: 'val_accuracy' was not in top 1\n"
     ]
    },
    {
     "name": "stdout",
     "output_type": "stream",
     "text": [
      "Epoch 27: 100%|██████████| 132/132 [00:34<00:00,  3.82it/s, v_num=23ms, train_accuracy=0.698, val_loss=0.677, val_accuracy=0.595]\n",
      "Validation: |          | 0/? [00:00<?, ?it/s]\n",
      "Validation:   0%|          | 0/16 [00:00<?, ?it/s]\n",
      "Validation DataLoader 0:   0%|          | 0/16 [00:00<?, ?it/s]\n",
      "Validation DataLoader 0:   6%|▋         | 1/16 [00:00<00:01, 12.86it/s]\n",
      "Validation DataLoader 0:  12%|█▎        | 2/16 [00:00<00:01, 12.43it/s]\n",
      "Validation DataLoader 0:  19%|█▉        | 3/16 [00:00<00:01, 12.26it/s]\n",
      "Validation DataLoader 0:  25%|██▌       | 4/16 [00:00<00:00, 12.19it/s]\n",
      "Validation DataLoader 0:  31%|███▏      | 5/16 [00:00<00:00, 12.19it/s]\n",
      "Validation DataLoader 0:  38%|███▊      | 6/16 [00:00<00:00, 12.14it/s]\n",
      "Validation DataLoader 0:  44%|████▍     | 7/16 [00:00<00:00, 12.11it/s]\n",
      "Validation DataLoader 0:  50%|█████     | 8/16 [00:00<00:00, 12.10it/s]\n",
      "Validation DataLoader 0:  56%|█████▋    | 9/16 [00:00<00:00, 12.09it/s]\n",
      "Validation DataLoader 0:  62%|██████▎   | 10/16 [00:00<00:00, 12.08it/s]\n",
      "Validation DataLoader 0:  69%|██████▉   | 11/16 [00:00<00:00, 12.05it/s]\n",
      "Validation DataLoader 0:  75%|███████▌  | 12/16 [00:01<00:00, 11.93it/s]\n",
      "Validation DataLoader 0:  81%|████████▏ | 13/16 [00:01<00:00, 11.92it/s]\n",
      "Validation DataLoader 0:  88%|████████▊ | 14/16 [00:01<00:00, 11.94it/s]\n",
      "Validation DataLoader 0:  94%|█████████▍| 15/16 [00:01<00:00, 11.88it/s]\n",
      "Validation DataLoader 0: 100%|██████████| 16/16 [00:01<00:00, 12.09it/s]\n",
      "Epoch 27: 100%|██████████| 132/132 [00:35<00:00,  3.68it/s, v_num=23ms, train_accuracy=0.698, val_loss=0.676, val_accuracy=0.595]"
     ]
    },
    {
     "name": "stderr",
     "output_type": "stream",
     "text": [
      "Epoch 27, global step 3696: 'val_accuracy' was not in top 1\n"
     ]
    },
    {
     "name": "stdout",
     "output_type": "stream",
     "text": [
      "Epoch 28: 100%|██████████| 132/132 [00:34<00:00,  3.84it/s, v_num=23ms, train_accuracy=0.674, val_loss=0.676, val_accuracy=0.595]\n",
      "Validation: |          | 0/? [00:00<?, ?it/s]\n",
      "Validation:   0%|          | 0/16 [00:00<?, ?it/s]\n",
      "Validation DataLoader 0:   0%|          | 0/16 [00:00<?, ?it/s]\n",
      "Validation DataLoader 0:   6%|▋         | 1/16 [00:00<00:00, 15.05it/s]\n",
      "Validation DataLoader 0:  12%|█▎        | 2/16 [00:00<00:00, 14.38it/s]\n",
      "Validation DataLoader 0:  19%|█▉        | 3/16 [00:00<00:00, 14.21it/s]\n",
      "Validation DataLoader 0:  25%|██▌       | 4/16 [00:00<00:00, 14.04it/s]\n",
      "Validation DataLoader 0:  31%|███▏      | 5/16 [00:00<00:00, 14.02it/s]\n",
      "Validation DataLoader 0:  38%|███▊      | 6/16 [00:00<00:00, 13.89it/s]\n",
      "Validation DataLoader 0:  44%|████▍     | 7/16 [00:00<00:00, 13.79it/s]\n",
      "Validation DataLoader 0:  50%|█████     | 8/16 [00:00<00:00, 13.81it/s]\n",
      "Validation DataLoader 0:  56%|█████▋    | 9/16 [00:00<00:00, 13.81it/s]\n",
      "Validation DataLoader 0:  62%|██████▎   | 10/16 [00:00<00:00, 13.85it/s]\n",
      "Validation DataLoader 0:  69%|██████▉   | 11/16 [00:00<00:00, 13.87it/s]\n",
      "Validation DataLoader 0:  75%|███████▌  | 12/16 [00:00<00:00, 13.88it/s]\n",
      "Validation DataLoader 0:  81%|████████▏ | 13/16 [00:00<00:00, 13.85it/s]\n",
      "Validation DataLoader 0:  88%|████████▊ | 14/16 [00:01<00:00, 13.82it/s]\n",
      "Validation DataLoader 0:  94%|█████████▍| 15/16 [00:01<00:00, 13.83it/s]\n",
      "Validation DataLoader 0: 100%|██████████| 16/16 [00:01<00:00, 14.13it/s]\n",
      "Epoch 28: 100%|██████████| 132/132 [00:35<00:00,  3.72it/s, v_num=23ms, train_accuracy=0.674, val_loss=0.678, val_accuracy=0.595]"
     ]
    },
    {
     "name": "stderr",
     "output_type": "stream",
     "text": [
      "Epoch 28, global step 3828: 'val_accuracy' was not in top 1\n"
     ]
    },
    {
     "name": "stdout",
     "output_type": "stream",
     "text": [
      "Epoch 29: 100%|██████████| 132/132 [00:34<00:00,  3.80it/s, v_num=23ms, train_accuracy=0.674, val_loss=0.678, val_accuracy=0.595]\n",
      "Validation: |          | 0/? [00:00<?, ?it/s]\n",
      "Validation:   0%|          | 0/16 [00:00<?, ?it/s]\n",
      "Validation DataLoader 0:   0%|          | 0/16 [00:00<?, ?it/s]\n",
      "Validation DataLoader 0:   6%|▋         | 1/16 [00:00<00:01, 12.37it/s]\n",
      "Validation DataLoader 0:  12%|█▎        | 2/16 [00:00<00:01, 12.05it/s]\n",
      "Validation DataLoader 0:  19%|█▉        | 3/16 [00:00<00:01, 12.03it/s]\n",
      "Validation DataLoader 0:  25%|██▌       | 4/16 [00:00<00:00, 12.00it/s]\n",
      "Validation DataLoader 0:  31%|███▏      | 5/16 [00:00<00:00, 12.00it/s]\n",
      "Validation DataLoader 0:  38%|███▊      | 6/16 [00:00<00:00, 11.98it/s]\n",
      "Validation DataLoader 0:  44%|████▍     | 7/16 [00:00<00:00, 11.98it/s]\n",
      "Validation DataLoader 0:  50%|█████     | 8/16 [00:00<00:00, 11.98it/s]\n",
      "Validation DataLoader 0:  56%|█████▋    | 9/16 [00:00<00:00, 12.05it/s]\n",
      "Validation DataLoader 0:  62%|██████▎   | 10/16 [00:00<00:00, 12.21it/s]\n",
      "Validation DataLoader 0:  69%|██████▉   | 11/16 [00:00<00:00, 12.37it/s]\n",
      "Validation DataLoader 0:  75%|███████▌  | 12/16 [00:00<00:00, 12.50it/s]\n",
      "Validation DataLoader 0:  81%|████████▏ | 13/16 [00:01<00:00, 12.63it/s]\n",
      "Validation DataLoader 0:  88%|████████▊ | 14/16 [00:01<00:00, 12.73it/s]\n",
      "Validation DataLoader 0:  94%|█████████▍| 15/16 [00:01<00:00, 12.82it/s]\n",
      "Validation DataLoader 0: 100%|██████████| 16/16 [00:01<00:00, 13.14it/s]\n",
      "Epoch 29: 100%|██████████| 132/132 [00:35<00:00,  3.67it/s, v_num=23ms, train_accuracy=0.674, val_loss=0.678, val_accuracy=0.595]"
     ]
    },
    {
     "name": "stderr",
     "output_type": "stream",
     "text": [
      "Epoch 29, global step 3960: 'val_accuracy' was not in top 1\n"
     ]
    },
    {
     "name": "stdout",
     "output_type": "stream",
     "text": [
      "Epoch 30: 100%|██████████| 132/132 [00:34<00:00,  3.85it/s, v_num=23ms, train_accuracy=0.558, val_loss=0.678, val_accuracy=0.595]\n",
      "Validation: |          | 0/? [00:00<?, ?it/s]\n",
      "Validation:   0%|          | 0/16 [00:00<?, ?it/s]\n",
      "Validation DataLoader 0:   0%|          | 0/16 [00:00<?, ?it/s]\n",
      "Validation DataLoader 0:   6%|▋         | 1/16 [00:00<00:00, 15.19it/s]\n",
      "Validation DataLoader 0:  12%|█▎        | 2/16 [00:00<00:00, 14.48it/s]\n",
      "Validation DataLoader 0:  19%|█▉        | 3/16 [00:00<00:00, 14.37it/s]\n",
      "Validation DataLoader 0:  25%|██▌       | 4/16 [00:00<00:00, 14.34it/s]\n",
      "Validation DataLoader 0:  31%|███▏      | 5/16 [00:00<00:00, 14.28it/s]\n",
      "Validation DataLoader 0:  38%|███▊      | 6/16 [00:00<00:00, 14.20it/s]\n",
      "Validation DataLoader 0:  44%|████▍     | 7/16 [00:00<00:00, 14.21it/s]\n",
      "Validation DataLoader 0:  50%|█████     | 8/16 [00:00<00:00, 14.22it/s]\n",
      "Validation DataLoader 0:  56%|█████▋    | 9/16 [00:00<00:00, 14.21it/s]\n",
      "Validation DataLoader 0:  62%|██████▎   | 10/16 [00:00<00:00, 14.22it/s]\n",
      "Validation DataLoader 0:  69%|██████▉   | 11/16 [00:00<00:00, 14.22it/s]\n",
      "Validation DataLoader 0:  75%|███████▌  | 12/16 [00:00<00:00, 14.23it/s]\n",
      "Validation DataLoader 0:  81%|████████▏ | 13/16 [00:00<00:00, 14.21it/s]\n",
      "Validation DataLoader 0:  88%|████████▊ | 14/16 [00:00<00:00, 14.19it/s]\n",
      "Validation DataLoader 0:  94%|█████████▍| 15/16 [00:01<00:00, 14.20it/s]\n",
      "Validation DataLoader 0: 100%|██████████| 16/16 [00:01<00:00, 14.49it/s]\n",
      "Epoch 30: 100%|██████████| 132/132 [00:35<00:00,  3.72it/s, v_num=23ms, train_accuracy=0.558, val_loss=0.677, val_accuracy=0.595]"
     ]
    },
    {
     "name": "stderr",
     "output_type": "stream",
     "text": [
      "Epoch 30, global step 4092: 'val_accuracy' was not in top 1\n"
     ]
    },
    {
     "name": "stdout",
     "output_type": "stream",
     "text": [
      "Epoch 31: 100%|██████████| 132/132 [00:35<00:00,  3.73it/s, v_num=23ms, train_accuracy=0.558, val_loss=0.677, val_accuracy=0.595]\n",
      "Validation: |          | 0/? [00:00<?, ?it/s]\n",
      "Validation:   0%|          | 0/16 [00:00<?, ?it/s]\n",
      "Validation DataLoader 0:   0%|          | 0/16 [00:00<?, ?it/s]\n",
      "Validation DataLoader 0:   6%|▋         | 1/16 [00:00<00:01, 13.22it/s]\n",
      "Validation DataLoader 0:  12%|█▎        | 2/16 [00:00<00:01, 12.58it/s]\n",
      "Validation DataLoader 0:  19%|█▉        | 3/16 [00:00<00:00, 13.02it/s]\n",
      "Validation DataLoader 0:  25%|██▌       | 4/16 [00:00<00:00, 13.24it/s]\n",
      "Validation DataLoader 0:  31%|███▏      | 5/16 [00:00<00:00, 13.37it/s]\n",
      "Validation DataLoader 0:  38%|███▊      | 6/16 [00:00<00:00, 13.15it/s]\n",
      "Validation DataLoader 0:  44%|████▍     | 7/16 [00:00<00:00, 12.88it/s]\n",
      "Validation DataLoader 0:  50%|█████     | 8/16 [00:00<00:00, 12.66it/s]\n",
      "Validation DataLoader 0:  56%|█████▋    | 9/16 [00:00<00:00, 12.56it/s]\n",
      "Validation DataLoader 0:  62%|██████▎   | 10/16 [00:00<00:00, 12.48it/s]\n",
      "Validation DataLoader 0:  69%|██████▉   | 11/16 [00:00<00:00, 12.48it/s]\n",
      "Validation DataLoader 0:  75%|███████▌  | 12/16 [00:00<00:00, 12.57it/s]\n",
      "Validation DataLoader 0:  81%|████████▏ | 13/16 [00:01<00:00, 12.68it/s]\n",
      "Validation DataLoader 0:  88%|████████▊ | 14/16 [00:01<00:00, 12.78it/s]\n",
      "Validation DataLoader 0:  94%|█████████▍| 15/16 [00:01<00:00, 12.84it/s]\n",
      "Validation DataLoader 0: 100%|██████████| 16/16 [00:01<00:00, 13.17it/s]\n",
      "Epoch 31: 100%|██████████| 132/132 [00:36<00:00,  3.60it/s, v_num=23ms, train_accuracy=0.558, val_loss=0.676, val_accuracy=0.595]"
     ]
    },
    {
     "name": "stderr",
     "output_type": "stream",
     "text": [
      "Epoch 31, global step 4224: 'val_accuracy' was not in top 1\n"
     ]
    },
    {
     "name": "stdout",
     "output_type": "stream",
     "text": [
      "Epoch 32: 100%|██████████| 132/132 [00:34<00:00,  3.79it/s, v_num=23ms, train_accuracy=0.512, val_loss=0.676, val_accuracy=0.595]\n",
      "Validation: |          | 0/? [00:00<?, ?it/s]\n",
      "Validation:   0%|          | 0/16 [00:00<?, ?it/s]\n",
      "Validation DataLoader 0:   0%|          | 0/16 [00:00<?, ?it/s]\n",
      "Validation DataLoader 0:   6%|▋         | 1/16 [00:00<00:00, 15.30it/s]\n",
      "Validation DataLoader 0:  12%|█▎        | 2/16 [00:00<00:00, 14.63it/s]\n",
      "Validation DataLoader 0:  19%|█▉        | 3/16 [00:00<00:00, 14.48it/s]\n",
      "Validation DataLoader 0:  25%|██▌       | 4/16 [00:00<00:00, 14.27it/s]\n",
      "Validation DataLoader 0:  31%|███▏      | 5/16 [00:00<00:00, 14.23it/s]\n",
      "Validation DataLoader 0:  38%|███▊      | 6/16 [00:00<00:00, 14.20it/s]\n",
      "Validation DataLoader 0:  44%|████▍     | 7/16 [00:00<00:00, 14.15it/s]\n",
      "Validation DataLoader 0:  50%|█████     | 8/16 [00:00<00:00, 14.13it/s]\n",
      "Validation DataLoader 0:  56%|█████▋    | 9/16 [00:00<00:00, 14.07it/s]\n",
      "Validation DataLoader 0:  62%|██████▎   | 10/16 [00:00<00:00, 14.06it/s]\n",
      "Validation DataLoader 0:  69%|██████▉   | 11/16 [00:00<00:00, 14.06it/s]\n",
      "Validation DataLoader 0:  75%|███████▌  | 12/16 [00:00<00:00, 14.08it/s]\n",
      "Validation DataLoader 0:  81%|████████▏ | 13/16 [00:00<00:00, 14.05it/s]\n",
      "Validation DataLoader 0:  88%|████████▊ | 14/16 [00:00<00:00, 14.01it/s]\n",
      "Validation DataLoader 0:  94%|█████████▍| 15/16 [00:01<00:00, 13.99it/s]\n",
      "Validation DataLoader 0: 100%|██████████| 16/16 [00:01<00:00, 14.29it/s]\n",
      "Epoch 32: 100%|██████████| 132/132 [00:35<00:00,  3.67it/s, v_num=23ms, train_accuracy=0.512, val_loss=0.683, val_accuracy=0.595]"
     ]
    },
    {
     "name": "stderr",
     "output_type": "stream",
     "text": [
      "Epoch 32, global step 4356: 'val_accuracy' was not in top 1\n"
     ]
    },
    {
     "name": "stdout",
     "output_type": "stream",
     "text": [
      "Epoch 33: 100%|██████████| 132/132 [00:33<00:00,  3.90it/s, v_num=23ms, train_accuracy=0.605, val_loss=0.683, val_accuracy=0.595]\n",
      "Validation: |          | 0/? [00:00<?, ?it/s]\n",
      "Validation:   0%|          | 0/16 [00:00<?, ?it/s]\n",
      "Validation DataLoader 0:   0%|          | 0/16 [00:00<?, ?it/s]\n",
      "Validation DataLoader 0:   6%|▋         | 1/16 [00:00<00:00, 15.11it/s]\n",
      "Validation DataLoader 0:  12%|█▎        | 2/16 [00:00<00:00, 14.66it/s]\n",
      "Validation DataLoader 0:  19%|█▉        | 3/16 [00:00<00:00, 14.40it/s]\n",
      "Validation DataLoader 0:  25%|██▌       | 4/16 [00:00<00:00, 14.31it/s]\n",
      "Validation DataLoader 0:  31%|███▏      | 5/16 [00:00<00:00, 14.27it/s]\n",
      "Validation DataLoader 0:  38%|███▊      | 6/16 [00:00<00:00, 14.20it/s]\n",
      "Validation DataLoader 0:  44%|████▍     | 7/16 [00:00<00:00, 14.18it/s]\n",
      "Validation DataLoader 0:  50%|█████     | 8/16 [00:00<00:00, 14.17it/s]\n",
      "Validation DataLoader 0:  56%|█████▋    | 9/16 [00:00<00:00, 14.14it/s]\n",
      "Validation DataLoader 0:  62%|██████▎   | 10/16 [00:00<00:00, 14.16it/s]\n",
      "Validation DataLoader 0:  69%|██████▉   | 11/16 [00:00<00:00, 14.17it/s]\n",
      "Validation DataLoader 0:  75%|███████▌  | 12/16 [00:00<00:00, 14.18it/s]\n",
      "Validation DataLoader 0:  81%|████████▏ | 13/16 [00:00<00:00, 14.15it/s]\n",
      "Validation DataLoader 0:  88%|████████▊ | 14/16 [00:00<00:00, 14.14it/s]\n",
      "Validation DataLoader 0:  94%|█████████▍| 15/16 [00:01<00:00, 14.15it/s]\n",
      "Validation DataLoader 0: 100%|██████████| 16/16 [00:01<00:00, 14.47it/s]\n",
      "Epoch 33: 100%|██████████| 132/132 [00:34<00:00,  3.77it/s, v_num=23ms, train_accuracy=0.605, val_loss=0.677, val_accuracy=0.595]"
     ]
    },
    {
     "name": "stderr",
     "output_type": "stream",
     "text": [
      "Epoch 33, global step 4488: 'val_accuracy' was not in top 1\n"
     ]
    },
    {
     "name": "stdout",
     "output_type": "stream",
     "text": [
      "Epoch 34: 100%|██████████| 132/132 [00:33<00:00,  3.97it/s, v_num=23ms, train_accuracy=0.628, val_loss=0.677, val_accuracy=0.595]\n",
      "Validation: |          | 0/? [00:00<?, ?it/s]\n",
      "Validation:   0%|          | 0/16 [00:00<?, ?it/s]\n",
      "Validation DataLoader 0:   0%|          | 0/16 [00:00<?, ?it/s]\n",
      "Validation DataLoader 0:   6%|▋         | 1/16 [00:00<00:00, 15.16it/s]\n",
      "Validation DataLoader 0:  12%|█▎        | 2/16 [00:00<00:00, 14.62it/s]\n",
      "Validation DataLoader 0:  19%|█▉        | 3/16 [00:00<00:00, 14.44it/s]\n",
      "Validation DataLoader 0:  25%|██▌       | 4/16 [00:00<00:00, 14.19it/s]\n",
      "Validation DataLoader 0:  31%|███▏      | 5/16 [00:00<00:00, 14.14it/s]\n",
      "Validation DataLoader 0:  38%|███▊      | 6/16 [00:00<00:00, 14.13it/s]\n",
      "Validation DataLoader 0:  44%|████▍     | 7/16 [00:00<00:00, 14.14it/s]\n",
      "Validation DataLoader 0:  50%|█████     | 8/16 [00:00<00:00, 14.09it/s]\n",
      "Validation DataLoader 0:  56%|█████▋    | 9/16 [00:00<00:00, 14.12it/s]\n",
      "Validation DataLoader 0:  62%|██████▎   | 10/16 [00:00<00:00, 14.12it/s]\n",
      "Validation DataLoader 0:  69%|██████▉   | 11/16 [00:00<00:00, 14.09it/s]\n",
      "Validation DataLoader 0:  75%|███████▌  | 12/16 [00:00<00:00, 14.11it/s]\n",
      "Validation DataLoader 0:  81%|████████▏ | 13/16 [00:00<00:00, 14.12it/s]\n",
      "Validation DataLoader 0:  88%|████████▊ | 14/16 [00:00<00:00, 14.12it/s]\n",
      "Validation DataLoader 0:  94%|█████████▍| 15/16 [00:01<00:00, 14.12it/s]\n",
      "Validation DataLoader 0: 100%|██████████| 16/16 [00:01<00:00, 14.43it/s]\n",
      "Epoch 34: 100%|██████████| 132/132 [00:34<00:00,  3.84it/s, v_num=23ms, train_accuracy=0.628, val_loss=0.675, val_accuracy=0.595]"
     ]
    },
    {
     "name": "stderr",
     "output_type": "stream",
     "text": [
      "Epoch 34, global step 4620: 'val_accuracy' was not in top 1\n"
     ]
    },
    {
     "name": "stdout",
     "output_type": "stream",
     "text": [
      "Epoch 35: 100%|██████████| 132/132 [00:33<00:00,  3.95it/s, v_num=23ms, train_accuracy=0.558, val_loss=0.675, val_accuracy=0.595]\n",
      "Validation: |          | 0/? [00:00<?, ?it/s]\n",
      "Validation:   0%|          | 0/16 [00:00<?, ?it/s]\n",
      "Validation DataLoader 0:   0%|          | 0/16 [00:00<?, ?it/s]\n",
      "Validation DataLoader 0:   6%|▋         | 1/16 [00:00<00:01, 14.99it/s]\n",
      "Validation DataLoader 0:  12%|█▎        | 2/16 [00:00<00:00, 14.39it/s]\n",
      "Validation DataLoader 0:  19%|█▉        | 3/16 [00:00<00:00, 14.25it/s]\n",
      "Validation DataLoader 0:  25%|██▌       | 4/16 [00:00<00:00, 14.24it/s]\n",
      "Validation DataLoader 0:  31%|███▏      | 5/16 [00:00<00:00, 14.24it/s]\n",
      "Validation DataLoader 0:  38%|███▊      | 6/16 [00:00<00:00, 14.21it/s]\n",
      "Validation DataLoader 0:  44%|████▍     | 7/16 [00:00<00:00, 14.17it/s]\n",
      "Validation DataLoader 0:  50%|█████     | 8/16 [00:00<00:00, 14.12it/s]\n",
      "Validation DataLoader 0:  56%|█████▋    | 9/16 [00:00<00:00, 14.07it/s]\n",
      "Validation DataLoader 0:  62%|██████▎   | 10/16 [00:00<00:00, 14.04it/s]\n",
      "Validation DataLoader 0:  69%|██████▉   | 11/16 [00:00<00:00, 14.03it/s]\n",
      "Validation DataLoader 0:  75%|███████▌  | 12/16 [00:00<00:00, 14.00it/s]\n",
      "Validation DataLoader 0:  81%|████████▏ | 13/16 [00:00<00:00, 14.01it/s]\n",
      "Validation DataLoader 0:  88%|████████▊ | 14/16 [00:00<00:00, 14.02it/s]\n",
      "Validation DataLoader 0:  94%|█████████▍| 15/16 [00:01<00:00, 14.03it/s]\n",
      "Validation DataLoader 0: 100%|██████████| 16/16 [00:01<00:00, 14.32it/s]\n",
      "Epoch 35: 100%|██████████| 132/132 [00:34<00:00,  3.82it/s, v_num=23ms, train_accuracy=0.558, val_loss=0.665, val_accuracy=0.595]"
     ]
    },
    {
     "name": "stderr",
     "output_type": "stream",
     "text": [
      "Epoch 35, global step 4752: 'val_accuracy' was not in top 1\n"
     ]
    },
    {
     "name": "stdout",
     "output_type": "stream",
     "text": [
      "Epoch 36: 100%|██████████| 132/132 [00:32<00:00,  4.01it/s, v_num=23ms, train_accuracy=0.721, val_loss=0.665, val_accuracy=0.595]\n",
      "Validation: |          | 0/? [00:00<?, ?it/s]\n",
      "Validation:   0%|          | 0/16 [00:00<?, ?it/s]\n",
      "Validation DataLoader 0:   0%|          | 0/16 [00:00<?, ?it/s]\n",
      "Validation DataLoader 0:   6%|▋         | 1/16 [00:00<00:00, 15.34it/s]\n",
      "Validation DataLoader 0:  12%|█▎        | 2/16 [00:00<00:00, 14.73it/s]\n",
      "Validation DataLoader 0:  19%|█▉        | 3/16 [00:00<00:00, 14.57it/s]\n",
      "Validation DataLoader 0:  25%|██▌       | 4/16 [00:00<00:00, 14.49it/s]\n",
      "Validation DataLoader 0:  31%|███▏      | 5/16 [00:00<00:00, 14.45it/s]\n",
      "Validation DataLoader 0:  38%|███▊      | 6/16 [00:00<00:00, 14.44it/s]\n",
      "Validation DataLoader 0:  44%|████▍     | 7/16 [00:00<00:00, 14.35it/s]\n",
      "Validation DataLoader 0:  50%|█████     | 8/16 [00:00<00:00, 14.32it/s]\n",
      "Validation DataLoader 0:  56%|█████▋    | 9/16 [00:00<00:00, 14.19it/s]\n",
      "Validation DataLoader 0:  62%|██████▎   | 10/16 [00:00<00:00, 14.19it/s]\n",
      "Validation DataLoader 0:  69%|██████▉   | 11/16 [00:00<00:00, 14.18it/s]\n",
      "Validation DataLoader 0:  75%|███████▌  | 12/16 [00:00<00:00, 14.16it/s]\n",
      "Validation DataLoader 0:  81%|████████▏ | 13/16 [00:00<00:00, 14.15it/s]\n",
      "Validation DataLoader 0:  88%|████████▊ | 14/16 [00:00<00:00, 14.17it/s]\n",
      "Validation DataLoader 0:  94%|█████████▍| 15/16 [00:01<00:00, 14.16it/s]\n",
      "Validation DataLoader 0: 100%|██████████| 16/16 [00:01<00:00, 14.48it/s]\n",
      "Epoch 36: 100%|██████████| 132/132 [00:34<00:00,  3.87it/s, v_num=23ms, train_accuracy=0.721, val_loss=0.684, val_accuracy=0.595]"
     ]
    },
    {
     "name": "stderr",
     "output_type": "stream",
     "text": [
      "Epoch 36, global step 4884: 'val_accuracy' was not in top 1\n"
     ]
    },
    {
     "name": "stdout",
     "output_type": "stream",
     "text": [
      "Epoch 37: 100%|██████████| 132/132 [00:32<00:00,  4.00it/s, v_num=23ms, train_accuracy=0.674, val_loss=0.684, val_accuracy=0.595]\n",
      "Validation: |          | 0/? [00:00<?, ?it/s]\n",
      "Validation:   0%|          | 0/16 [00:00<?, ?it/s]\n",
      "Validation DataLoader 0:   0%|          | 0/16 [00:00<?, ?it/s]\n",
      "Validation DataLoader 0:   6%|▋         | 1/16 [00:00<00:00, 15.39it/s]\n",
      "Validation DataLoader 0:  12%|█▎        | 2/16 [00:00<00:00, 14.78it/s]\n",
      "Validation DataLoader 0:  19%|█▉        | 3/16 [00:00<00:00, 14.60it/s]\n",
      "Validation DataLoader 0:  25%|██▌       | 4/16 [00:00<00:00, 14.52it/s]\n",
      "Validation DataLoader 0:  31%|███▏      | 5/16 [00:00<00:00, 14.43it/s]\n",
      "Validation DataLoader 0:  38%|███▊      | 6/16 [00:00<00:00, 14.40it/s]\n",
      "Validation DataLoader 0:  44%|████▍     | 7/16 [00:00<00:00, 14.31it/s]\n",
      "Validation DataLoader 0:  50%|█████     | 8/16 [00:00<00:00, 14.28it/s]\n",
      "Validation DataLoader 0:  56%|█████▋    | 9/16 [00:00<00:00, 14.25it/s]\n",
      "Validation DataLoader 0:  62%|██████▎   | 10/16 [00:00<00:00, 14.23it/s]\n",
      "Validation DataLoader 0:  69%|██████▉   | 11/16 [00:00<00:00, 14.23it/s]\n",
      "Validation DataLoader 0:  75%|███████▌  | 12/16 [00:00<00:00, 14.23it/s]\n",
      "Validation DataLoader 0:  81%|████████▏ | 13/16 [00:00<00:00, 14.20it/s]\n",
      "Validation DataLoader 0:  88%|████████▊ | 14/16 [00:00<00:00, 14.21it/s]\n",
      "Validation DataLoader 0:  94%|█████████▍| 15/16 [00:01<00:00, 14.21it/s]\n",
      "Validation DataLoader 0: 100%|██████████| 16/16 [00:01<00:00, 14.52it/s]\n",
      "Epoch 37: 100%|██████████| 132/132 [00:34<00:00,  3.87it/s, v_num=23ms, train_accuracy=0.674, val_loss=0.676, val_accuracy=0.595]"
     ]
    },
    {
     "name": "stderr",
     "output_type": "stream",
     "text": [
      "Epoch 37, global step 5016: 'val_accuracy' was not in top 1\n"
     ]
    },
    {
     "name": "stdout",
     "output_type": "stream",
     "text": [
      "Epoch 38: 100%|██████████| 132/132 [00:32<00:00,  4.01it/s, v_num=23ms, train_accuracy=0.535, val_loss=0.676, val_accuracy=0.595]\n",
      "Validation: |          | 0/? [00:00<?, ?it/s]\n",
      "Validation:   0%|          | 0/16 [00:00<?, ?it/s]\n",
      "Validation DataLoader 0:   0%|          | 0/16 [00:00<?, ?it/s]\n",
      "Validation DataLoader 0:   6%|▋         | 1/16 [00:00<00:00, 15.26it/s]\n",
      "Validation DataLoader 0:  12%|█▎        | 2/16 [00:00<00:00, 14.64it/s]\n",
      "Validation DataLoader 0:  19%|█▉        | 3/16 [00:00<00:00, 14.52it/s]\n",
      "Validation DataLoader 0:  25%|██▌       | 4/16 [00:00<00:00, 14.46it/s]\n",
      "Validation DataLoader 0:  31%|███▏      | 5/16 [00:00<00:00, 14.42it/s]\n",
      "Validation DataLoader 0:  38%|███▊      | 6/16 [00:00<00:00, 14.31it/s]\n",
      "Validation DataLoader 0:  44%|████▍     | 7/16 [00:00<00:00, 14.20it/s]\n",
      "Validation DataLoader 0:  50%|█████     | 8/16 [00:00<00:00, 14.20it/s]\n",
      "Validation DataLoader 0:  56%|█████▋    | 9/16 [00:00<00:00, 14.20it/s]\n",
      "Validation DataLoader 0:  62%|██████▎   | 10/16 [00:00<00:00, 14.20it/s]\n",
      "Validation DataLoader 0:  69%|██████▉   | 11/16 [00:00<00:00, 14.19it/s]\n",
      "Validation DataLoader 0:  75%|███████▌  | 12/16 [00:00<00:00, 14.21it/s]\n",
      "Validation DataLoader 0:  81%|████████▏ | 13/16 [00:00<00:00, 14.21it/s]\n",
      "Validation DataLoader 0:  88%|████████▊ | 14/16 [00:00<00:00, 14.21it/s]\n",
      "Validation DataLoader 0:  94%|█████████▍| 15/16 [00:01<00:00, 14.17it/s]\n",
      "Validation DataLoader 0: 100%|██████████| 16/16 [00:01<00:00, 14.48it/s]\n",
      "Epoch 38: 100%|██████████| 132/132 [00:34<00:00,  3.87it/s, v_num=23ms, train_accuracy=0.535, val_loss=0.681, val_accuracy=0.595]"
     ]
    },
    {
     "name": "stderr",
     "output_type": "stream",
     "text": [
      "Epoch 38, global step 5148: 'val_accuracy' was not in top 1\n"
     ]
    },
    {
     "name": "stdout",
     "output_type": "stream",
     "text": [
      "Epoch 39: 100%|██████████| 132/132 [00:33<00:00,  3.99it/s, v_num=23ms, train_accuracy=0.605, val_loss=0.681, val_accuracy=0.595]\n",
      "Validation: |          | 0/? [00:00<?, ?it/s]\n",
      "Validation:   0%|          | 0/16 [00:00<?, ?it/s]\n",
      "Validation DataLoader 0:   0%|          | 0/16 [00:00<?, ?it/s]\n",
      "Validation DataLoader 0:   6%|▋         | 1/16 [00:00<00:00, 15.15it/s]\n",
      "Validation DataLoader 0:  12%|█▎        | 2/16 [00:00<00:00, 14.77it/s]\n",
      "Validation DataLoader 0:  19%|█▉        | 3/16 [00:00<00:00, 14.56it/s]\n",
      "Validation DataLoader 0:  25%|██▌       | 4/16 [00:00<00:00, 14.41it/s]\n",
      "Validation DataLoader 0:  31%|███▏      | 5/16 [00:00<00:00, 14.36it/s]\n",
      "Validation DataLoader 0:  38%|███▊      | 6/16 [00:00<00:00, 14.32it/s]\n",
      "Validation DataLoader 0:  44%|████▍     | 7/16 [00:00<00:00, 14.30it/s]\n",
      "Validation DataLoader 0:  50%|█████     | 8/16 [00:00<00:00, 14.31it/s]\n",
      "Validation DataLoader 0:  56%|█████▋    | 9/16 [00:00<00:00, 14.30it/s]\n",
      "Validation DataLoader 0:  62%|██████▎   | 10/16 [00:00<00:00, 14.29it/s]\n",
      "Validation DataLoader 0:  69%|██████▉   | 11/16 [00:00<00:00, 14.29it/s]\n",
      "Validation DataLoader 0:  75%|███████▌  | 12/16 [00:00<00:00, 14.28it/s]\n",
      "Validation DataLoader 0:  81%|████████▏ | 13/16 [00:00<00:00, 14.26it/s]\n",
      "Validation DataLoader 0:  88%|████████▊ | 14/16 [00:00<00:00, 14.25it/s]\n",
      "Validation DataLoader 0:  94%|█████████▍| 15/16 [00:01<00:00, 14.26it/s]\n",
      "Validation DataLoader 0: 100%|██████████| 16/16 [00:01<00:00, 14.57it/s]\n",
      "Epoch 39: 100%|██████████| 132/132 [00:34<00:00,  3.86it/s, v_num=23ms, train_accuracy=0.605, val_loss=0.681, val_accuracy=0.595]"
     ]
    },
    {
     "name": "stderr",
     "output_type": "stream",
     "text": [
      "Epoch 39, global step 5280: 'val_accuracy' was not in top 1\n"
     ]
    },
    {
     "name": "stdout",
     "output_type": "stream",
     "text": [
      "Epoch 40: 100%|██████████| 132/132 [00:32<00:00,  4.01it/s, v_num=23ms, train_accuracy=0.721, val_loss=0.681, val_accuracy=0.595]\n",
      "Validation: |          | 0/? [00:00<?, ?it/s]\n",
      "Validation:   0%|          | 0/16 [00:00<?, ?it/s]\n",
      "Validation DataLoader 0:   0%|          | 0/16 [00:00<?, ?it/s]\n",
      "Validation DataLoader 0:   6%|▋         | 1/16 [00:00<00:00, 15.18it/s]\n",
      "Validation DataLoader 0:  12%|█▎        | 2/16 [00:00<00:00, 14.65it/s]\n",
      "Validation DataLoader 0:  19%|█▉        | 3/16 [00:00<00:00, 14.32it/s]\n",
      "Validation DataLoader 0:  25%|██▌       | 4/16 [00:00<00:00, 14.21it/s]\n",
      "Validation DataLoader 0:  31%|███▏      | 5/16 [00:00<00:00, 14.20it/s]\n",
      "Validation DataLoader 0:  38%|███▊      | 6/16 [00:00<00:00, 14.21it/s]\n",
      "Validation DataLoader 0:  44%|████▍     | 7/16 [00:00<00:00, 14.21it/s]\n",
      "Validation DataLoader 0:  50%|█████     | 8/16 [00:00<00:00, 14.23it/s]\n",
      "Validation DataLoader 0:  56%|█████▋    | 9/16 [00:00<00:00, 14.24it/s]\n",
      "Validation DataLoader 0:  62%|██████▎   | 10/16 [00:00<00:00, 14.25it/s]\n",
      "Validation DataLoader 0:  69%|██████▉   | 11/16 [00:00<00:00, 14.25it/s]\n",
      "Validation DataLoader 0:  75%|███████▌  | 12/16 [00:00<00:00, 14.22it/s]\n",
      "Validation DataLoader 0:  81%|████████▏ | 13/16 [00:00<00:00, 14.19it/s]\n",
      "Validation DataLoader 0:  88%|████████▊ | 14/16 [00:00<00:00, 14.20it/s]\n",
      "Validation DataLoader 0:  94%|█████████▍| 15/16 [00:01<00:00, 14.20it/s]\n",
      "Validation DataLoader 0: 100%|██████████| 16/16 [00:01<00:00, 14.49it/s]\n",
      "Epoch 40: 100%|██████████| 132/132 [00:34<00:00,  3.88it/s, v_num=23ms, train_accuracy=0.721, val_loss=0.676, val_accuracy=0.595]"
     ]
    },
    {
     "name": "stderr",
     "output_type": "stream",
     "text": [
      "Epoch 40, global step 5412: 'val_accuracy' was not in top 1\n"
     ]
    },
    {
     "name": "stdout",
     "output_type": "stream",
     "text": [
      "Epoch 41: 100%|██████████| 132/132 [00:32<00:00,  4.00it/s, v_num=23ms, train_accuracy=0.791, val_loss=0.676, val_accuracy=0.595]\n",
      "Validation: |          | 0/? [00:00<?, ?it/s]\n",
      "Validation:   0%|          | 0/16 [00:00<?, ?it/s]\n",
      "Validation DataLoader 0:   0%|          | 0/16 [00:00<?, ?it/s]\n",
      "Validation DataLoader 0:   6%|▋         | 1/16 [00:00<00:01, 14.96it/s]\n",
      "Validation DataLoader 0:  12%|█▎        | 2/16 [00:00<00:00, 14.17it/s]\n",
      "Validation DataLoader 0:  19%|█▉        | 3/16 [00:00<00:00, 14.00it/s]\n",
      "Validation DataLoader 0:  25%|██▌       | 4/16 [00:00<00:00, 13.75it/s]\n",
      "Validation DataLoader 0:  31%|███▏      | 5/16 [00:00<00:00, 13.63it/s]\n",
      "Validation DataLoader 0:  38%|███▊      | 6/16 [00:00<00:00, 13.58it/s]\n",
      "Validation DataLoader 0:  44%|████▍     | 7/16 [00:00<00:00, 13.53it/s]\n",
      "Validation DataLoader 0:  50%|█████     | 8/16 [00:00<00:00, 13.53it/s]\n",
      "Validation DataLoader 0:  56%|█████▋    | 9/16 [00:00<00:00, 13.56it/s]\n",
      "Validation DataLoader 0:  62%|██████▎   | 10/16 [00:00<00:00, 13.58it/s]\n",
      "Validation DataLoader 0:  69%|██████▉   | 11/16 [00:00<00:00, 13.61it/s]\n",
      "Validation DataLoader 0:  75%|███████▌  | 12/16 [00:00<00:00, 13.61it/s]\n",
      "Validation DataLoader 0:  81%|████████▏ | 13/16 [00:00<00:00, 13.63it/s]\n",
      "Validation DataLoader 0:  88%|████████▊ | 14/16 [00:01<00:00, 13.62it/s]\n",
      "Validation DataLoader 0:  94%|█████████▍| 15/16 [00:01<00:00, 13.64it/s]\n",
      "Validation DataLoader 0: 100%|██████████| 16/16 [00:01<00:00, 13.90it/s]\n",
      "Epoch 41: 100%|██████████| 132/132 [00:34<00:00,  3.87it/s, v_num=23ms, train_accuracy=0.791, val_loss=0.680, val_accuracy=0.595]"
     ]
    },
    {
     "name": "stderr",
     "output_type": "stream",
     "text": [
      "Epoch 41, global step 5544: 'val_accuracy' was not in top 1\n"
     ]
    },
    {
     "name": "stdout",
     "output_type": "stream",
     "text": [
      "Epoch 42: 100%|██████████| 132/132 [00:33<00:00,  3.97it/s, v_num=23ms, train_accuracy=0.767, val_loss=0.680, val_accuracy=0.595]\n",
      "Validation: |          | 0/? [00:00<?, ?it/s]\n",
      "Validation:   0%|          | 0/16 [00:00<?, ?it/s]\n",
      "Validation DataLoader 0:   0%|          | 0/16 [00:00<?, ?it/s]\n",
      "Validation DataLoader 0:   6%|▋         | 1/16 [00:00<00:00, 15.16it/s]\n",
      "Validation DataLoader 0:  12%|█▎        | 2/16 [00:00<00:00, 14.35it/s]\n",
      "Validation DataLoader 0:  19%|█▉        | 3/16 [00:00<00:00, 13.90it/s]\n",
      "Validation DataLoader 0:  25%|██▌       | 4/16 [00:00<00:00, 13.74it/s]\n",
      "Validation DataLoader 0:  31%|███▏      | 5/16 [00:00<00:00, 13.75it/s]\n",
      "Validation DataLoader 0:  38%|███▊      | 6/16 [00:00<00:00, 13.78it/s]\n",
      "Validation DataLoader 0:  44%|████▍     | 7/16 [00:00<00:00, 13.81it/s]\n",
      "Validation DataLoader 0:  50%|█████     | 8/16 [00:00<00:00, 13.83it/s]\n",
      "Validation DataLoader 0:  56%|█████▋    | 9/16 [00:00<00:00, 13.84it/s]\n",
      "Validation DataLoader 0:  62%|██████▎   | 10/16 [00:00<00:00, 13.84it/s]\n",
      "Validation DataLoader 0:  69%|██████▉   | 11/16 [00:00<00:00, 13.88it/s]\n",
      "Validation DataLoader 0:  75%|███████▌  | 12/16 [00:00<00:00, 13.89it/s]\n",
      "Validation DataLoader 0:  81%|████████▏ | 13/16 [00:00<00:00, 13.86it/s]\n",
      "Validation DataLoader 0:  88%|████████▊ | 14/16 [00:01<00:00, 13.85it/s]\n",
      "Validation DataLoader 0:  94%|█████████▍| 15/16 [00:01<00:00, 13.86it/s]\n",
      "Validation DataLoader 0: 100%|██████████| 16/16 [00:01<00:00, 14.12it/s]\n",
      "Epoch 42: 100%|██████████| 132/132 [00:34<00:00,  3.83it/s, v_num=23ms, train_accuracy=0.767, val_loss=0.676, val_accuracy=0.595]"
     ]
    },
    {
     "name": "stderr",
     "output_type": "stream",
     "text": [
      "Epoch 42, global step 5676: 'val_accuracy' was not in top 1\n"
     ]
    },
    {
     "name": "stdout",
     "output_type": "stream",
     "text": [
      "Epoch 43: 100%|██████████| 132/132 [00:33<00:00,  3.96it/s, v_num=23ms, train_accuracy=0.628, val_loss=0.676, val_accuracy=0.595]\n",
      "Validation: |          | 0/? [00:00<?, ?it/s]\n",
      "Validation:   0%|          | 0/16 [00:00<?, ?it/s]\n",
      "Validation DataLoader 0:   0%|          | 0/16 [00:00<?, ?it/s]\n",
      "Validation DataLoader 0:   6%|▋         | 1/16 [00:00<00:00, 15.38it/s]\n",
      "Validation DataLoader 0:  12%|█▎        | 2/16 [00:00<00:00, 14.77it/s]\n",
      "Validation DataLoader 0:  19%|█▉        | 3/16 [00:00<00:00, 14.47it/s]\n",
      "Validation DataLoader 0:  25%|██▌       | 4/16 [00:00<00:00, 14.23it/s]\n",
      "Validation DataLoader 0:  31%|███▏      | 5/16 [00:00<00:00, 14.12it/s]\n",
      "Validation DataLoader 0:  38%|███▊      | 6/16 [00:00<00:00, 13.99it/s]\n",
      "Validation DataLoader 0:  44%|████▍     | 7/16 [00:00<00:00, 13.98it/s]\n",
      "Validation DataLoader 0:  50%|█████     | 8/16 [00:00<00:00, 13.95it/s]\n",
      "Validation DataLoader 0:  56%|█████▋    | 9/16 [00:00<00:00, 13.93it/s]\n",
      "Validation DataLoader 0:  62%|██████▎   | 10/16 [00:00<00:00, 13.91it/s]\n",
      "Validation DataLoader 0:  69%|██████▉   | 11/16 [00:00<00:00, 13.93it/s]\n",
      "Validation DataLoader 0:  75%|███████▌  | 12/16 [00:00<00:00, 13.93it/s]\n",
      "Validation DataLoader 0:  81%|████████▏ | 13/16 [00:00<00:00, 13.95it/s]\n",
      "Validation DataLoader 0:  88%|████████▊ | 14/16 [00:01<00:00, 13.93it/s]\n",
      "Validation DataLoader 0:  94%|█████████▍| 15/16 [00:01<00:00, 13.92it/s]\n",
      "Validation DataLoader 0: 100%|██████████| 16/16 [00:01<00:00, 14.24it/s]\n",
      "Epoch 43: 100%|██████████| 132/132 [00:34<00:00,  3.83it/s, v_num=23ms, train_accuracy=0.628, val_loss=0.677, val_accuracy=0.595]"
     ]
    },
    {
     "name": "stderr",
     "output_type": "stream",
     "text": [
      "Epoch 43, global step 5808: 'val_accuracy' was not in top 1\n"
     ]
    },
    {
     "name": "stdout",
     "output_type": "stream",
     "text": [
      "Epoch 44: 100%|██████████| 132/132 [00:33<00:00,  3.97it/s, v_num=23ms, train_accuracy=0.628, val_loss=0.677, val_accuracy=0.595]\n",
      "Validation: |          | 0/? [00:00<?, ?it/s]\n",
      "Validation:   0%|          | 0/16 [00:00<?, ?it/s]\n",
      "Validation DataLoader 0:   0%|          | 0/16 [00:00<?, ?it/s]\n",
      "Validation DataLoader 0:   6%|▋         | 1/16 [00:00<00:00, 15.27it/s]\n",
      "Validation DataLoader 0:  12%|█▎        | 2/16 [00:00<00:00, 14.48it/s]\n",
      "Validation DataLoader 0:  19%|█▉        | 3/16 [00:00<00:00, 14.30it/s]\n",
      "Validation DataLoader 0:  25%|██▌       | 4/16 [00:00<00:00, 14.04it/s]\n",
      "Validation DataLoader 0:  31%|███▏      | 5/16 [00:00<00:00, 13.92it/s]\n",
      "Validation DataLoader 0:  38%|███▊      | 6/16 [00:00<00:00, 13.90it/s]\n",
      "Validation DataLoader 0:  44%|████▍     | 7/16 [00:00<00:00, 13.87it/s]\n",
      "Validation DataLoader 0:  50%|█████     | 8/16 [00:00<00:00, 13.88it/s]\n",
      "Validation DataLoader 0:  56%|█████▋    | 9/16 [00:00<00:00, 13.85it/s]\n",
      "Validation DataLoader 0:  62%|██████▎   | 10/16 [00:00<00:00, 13.84it/s]\n",
      "Validation DataLoader 0:  69%|██████▉   | 11/16 [00:00<00:00, 13.83it/s]\n",
      "Validation DataLoader 0:  75%|███████▌  | 12/16 [00:00<00:00, 13.86it/s]\n",
      "Validation DataLoader 0:  81%|████████▏ | 13/16 [00:00<00:00, 13.89it/s]\n",
      "Validation DataLoader 0:  88%|████████▊ | 14/16 [00:01<00:00, 13.92it/s]\n",
      "Validation DataLoader 0:  94%|█████████▍| 15/16 [00:01<00:00, 13.94it/s]\n",
      "Validation DataLoader 0: 100%|██████████| 16/16 [00:01<00:00, 14.25it/s]\n",
      "Epoch 44: 100%|██████████| 132/132 [00:34<00:00,  3.84it/s, v_num=23ms, train_accuracy=0.628, val_loss=0.678, val_accuracy=0.595]"
     ]
    },
    {
     "name": "stderr",
     "output_type": "stream",
     "text": [
      "Epoch 44, global step 5940: 'val_accuracy' was not in top 1\n"
     ]
    },
    {
     "name": "stdout",
     "output_type": "stream",
     "text": [
      "Epoch 45: 100%|██████████| 132/132 [00:33<00:00,  3.96it/s, v_num=23ms, train_accuracy=0.535, val_loss=0.678, val_accuracy=0.595]\n",
      "Validation: |          | 0/? [00:00<?, ?it/s]\n",
      "Validation:   0%|          | 0/16 [00:00<?, ?it/s]\n",
      "Validation DataLoader 0:   0%|          | 0/16 [00:00<?, ?it/s]\n",
      "Validation DataLoader 0:   6%|▋         | 1/16 [00:00<00:01, 14.92it/s]\n",
      "Validation DataLoader 0:  12%|█▎        | 2/16 [00:00<00:00, 14.59it/s]\n",
      "Validation DataLoader 0:  19%|█▉        | 3/16 [00:00<00:00, 14.38it/s]\n",
      "Validation DataLoader 0:  25%|██▌       | 4/16 [00:00<00:00, 14.32it/s]\n",
      "Validation DataLoader 0:  31%|███▏      | 5/16 [00:00<00:00, 14.28it/s]\n",
      "Validation DataLoader 0:  38%|███▊      | 6/16 [00:00<00:00, 14.23it/s]\n",
      "Validation DataLoader 0:  44%|████▍     | 7/16 [00:00<00:00, 14.23it/s]\n",
      "Validation DataLoader 0:  50%|█████     | 8/16 [00:00<00:00, 14.23it/s]\n",
      "Validation DataLoader 0:  56%|█████▋    | 9/16 [00:00<00:00, 14.24it/s]\n",
      "Validation DataLoader 0:  62%|██████▎   | 10/16 [00:00<00:00, 14.24it/s]\n",
      "Validation DataLoader 0:  69%|██████▉   | 11/16 [00:00<00:00, 14.23it/s]\n",
      "Validation DataLoader 0:  75%|███████▌  | 12/16 [00:00<00:00, 14.22it/s]\n",
      "Validation DataLoader 0:  81%|████████▏ | 13/16 [00:00<00:00, 14.22it/s]\n",
      "Validation DataLoader 0:  88%|████████▊ | 14/16 [00:00<00:00, 14.23it/s]\n",
      "Validation DataLoader 0:  94%|█████████▍| 15/16 [00:01<00:00, 14.24it/s]\n",
      "Validation DataLoader 0: 100%|██████████| 16/16 [00:01<00:00, 14.55it/s]\n",
      "Epoch 45: 100%|██████████| 132/132 [00:34<00:00,  3.84it/s, v_num=23ms, train_accuracy=0.535, val_loss=0.680, val_accuracy=0.595]"
     ]
    },
    {
     "name": "stderr",
     "output_type": "stream",
     "text": [
      "Epoch 45, global step 6072: 'val_accuracy' was not in top 1\n"
     ]
    },
    {
     "name": "stdout",
     "output_type": "stream",
     "text": [
      "Epoch 46: 100%|██████████| 132/132 [00:33<00:00,  3.97it/s, v_num=23ms, train_accuracy=0.605, val_loss=0.680, val_accuracy=0.595]\n",
      "Validation: |          | 0/? [00:00<?, ?it/s]\n",
      "Validation:   0%|          | 0/16 [00:00<?, ?it/s]\n",
      "Validation DataLoader 0:   0%|          | 0/16 [00:00<?, ?it/s]\n",
      "Validation DataLoader 0:   6%|▋         | 1/16 [00:00<00:01, 14.62it/s]\n",
      "Validation DataLoader 0:  12%|█▎        | 2/16 [00:00<00:00, 14.33it/s]\n",
      "Validation DataLoader 0:  19%|█▉        | 3/16 [00:00<00:00, 14.26it/s]\n",
      "Validation DataLoader 0:  25%|██▌       | 4/16 [00:00<00:00, 14.15it/s]\n",
      "Validation DataLoader 0:  31%|███▏      | 5/16 [00:00<00:00, 14.07it/s]\n",
      "Validation DataLoader 0:  38%|███▊      | 6/16 [00:00<00:00, 14.11it/s]\n",
      "Validation DataLoader 0:  44%|████▍     | 7/16 [00:00<00:00, 14.11it/s]\n",
      "Validation DataLoader 0:  50%|█████     | 8/16 [00:00<00:00, 14.12it/s]\n",
      "Validation DataLoader 0:  56%|█████▋    | 9/16 [00:00<00:00, 14.13it/s]\n",
      "Validation DataLoader 0:  62%|██████▎   | 10/16 [00:00<00:00, 14.15it/s]\n",
      "Validation DataLoader 0:  69%|██████▉   | 11/16 [00:00<00:00, 14.14it/s]\n",
      "Validation DataLoader 0:  75%|███████▌  | 12/16 [00:00<00:00, 14.12it/s]\n",
      "Validation DataLoader 0:  81%|████████▏ | 13/16 [00:00<00:00, 14.13it/s]\n",
      "Validation DataLoader 0:  88%|████████▊ | 14/16 [00:00<00:00, 14.09it/s]\n",
      "Validation DataLoader 0:  94%|█████████▍| 15/16 [00:01<00:00, 14.10it/s]\n",
      "Validation DataLoader 0: 100%|██████████| 16/16 [00:01<00:00, 14.41it/s]\n",
      "Epoch 46: 100%|██████████| 132/132 [00:34<00:00,  3.84it/s, v_num=23ms, train_accuracy=0.605, val_loss=0.676, val_accuracy=0.595]"
     ]
    },
    {
     "name": "stderr",
     "output_type": "stream",
     "text": [
      "Epoch 46, global step 6204: 'val_accuracy' was not in top 1\n"
     ]
    },
    {
     "name": "stdout",
     "output_type": "stream",
     "text": [
      "Epoch 47: 100%|██████████| 132/132 [00:33<00:00,  3.95it/s, v_num=23ms, train_accuracy=0.512, val_loss=0.676, val_accuracy=0.595]\n",
      "Validation: |          | 0/? [00:00<?, ?it/s]\n",
      "Validation:   0%|          | 0/16 [00:00<?, ?it/s]\n",
      "Validation DataLoader 0:   0%|          | 0/16 [00:00<?, ?it/s]\n",
      "Validation DataLoader 0:   6%|▋         | 1/16 [00:00<00:01, 14.49it/s]\n",
      "Validation DataLoader 0:  12%|█▎        | 2/16 [00:00<00:01, 13.69it/s]\n",
      "Validation DataLoader 0:  19%|█▉        | 3/16 [00:00<00:00, 13.55it/s]\n",
      "Validation DataLoader 0:  25%|██▌       | 4/16 [00:00<00:00, 13.62it/s]\n",
      "Validation DataLoader 0:  31%|███▏      | 5/16 [00:00<00:00, 13.74it/s]\n",
      "Validation DataLoader 0:  38%|███▊      | 6/16 [00:00<00:00, 13.79it/s]\n",
      "Validation DataLoader 0:  44%|████▍     | 7/16 [00:00<00:00, 13.83it/s]\n",
      "Validation DataLoader 0:  50%|█████     | 8/16 [00:00<00:00, 13.84it/s]\n",
      "Validation DataLoader 0:  56%|█████▋    | 9/16 [00:00<00:00, 13.87it/s]\n",
      "Validation DataLoader 0:  62%|██████▎   | 10/16 [00:00<00:00, 13.91it/s]\n",
      "Validation DataLoader 0:  69%|██████▉   | 11/16 [00:00<00:00, 13.93it/s]\n",
      "Validation DataLoader 0:  75%|███████▌  | 12/16 [00:00<00:00, 13.94it/s]\n",
      "Validation DataLoader 0:  81%|████████▏ | 13/16 [00:00<00:00, 13.96it/s]\n",
      "Validation DataLoader 0:  88%|████████▊ | 14/16 [00:01<00:00, 13.96it/s]\n",
      "Validation DataLoader 0:  94%|█████████▍| 15/16 [00:01<00:00, 13.97it/s]\n",
      "Validation DataLoader 0: 100%|██████████| 16/16 [00:01<00:00, 14.27it/s]\n",
      "Epoch 47: 100%|██████████| 132/132 [00:34<00:00,  3.82it/s, v_num=23ms, train_accuracy=0.512, val_loss=0.680, val_accuracy=0.595]"
     ]
    },
    {
     "name": "stderr",
     "output_type": "stream",
     "text": [
      "Epoch 47, global step 6336: 'val_accuracy' was not in top 1\n"
     ]
    },
    {
     "name": "stdout",
     "output_type": "stream",
     "text": [
      "Epoch 48: 100%|██████████| 132/132 [00:33<00:00,  3.96it/s, v_num=23ms, train_accuracy=0.628, val_loss=0.680, val_accuracy=0.595]\n",
      "Validation: |          | 0/? [00:00<?, ?it/s]\n",
      "Validation:   0%|          | 0/16 [00:00<?, ?it/s]\n",
      "Validation DataLoader 0:   0%|          | 0/16 [00:00<?, ?it/s]\n",
      "Validation DataLoader 0:   6%|▋         | 1/16 [00:00<00:00, 15.07it/s]\n",
      "Validation DataLoader 0:  12%|█▎        | 2/16 [00:00<00:00, 14.65it/s]\n",
      "Validation DataLoader 0:  19%|█▉        | 3/16 [00:00<00:00, 14.43it/s]\n",
      "Validation DataLoader 0:  25%|██▌       | 4/16 [00:00<00:00, 14.41it/s]\n",
      "Validation DataLoader 0:  31%|███▏      | 5/16 [00:00<00:00, 14.42it/s]\n",
      "Validation DataLoader 0:  38%|███▊      | 6/16 [00:00<00:00, 14.37it/s]\n",
      "Validation DataLoader 0:  44%|████▍     | 7/16 [00:00<00:00, 14.28it/s]\n",
      "Validation DataLoader 0:  50%|█████     | 8/16 [00:00<00:00, 14.13it/s]\n",
      "Validation DataLoader 0:  56%|█████▋    | 9/16 [00:00<00:00, 14.08it/s]\n",
      "Validation DataLoader 0:  62%|██████▎   | 10/16 [00:00<00:00, 14.03it/s]\n",
      "Validation DataLoader 0:  69%|██████▉   | 11/16 [00:00<00:00, 14.03it/s]\n",
      "Validation DataLoader 0:  75%|███████▌  | 12/16 [00:00<00:00, 14.04it/s]\n",
      "Validation DataLoader 0:  81%|████████▏ | 13/16 [00:00<00:00, 14.05it/s]\n",
      "Validation DataLoader 0:  88%|████████▊ | 14/16 [00:00<00:00, 14.02it/s]\n",
      "Validation DataLoader 0:  94%|█████████▍| 15/16 [00:01<00:00, 14.03it/s]\n",
      "Validation DataLoader 0: 100%|██████████| 16/16 [00:01<00:00, 14.35it/s]\n",
      "Epoch 48: 100%|██████████| 132/132 [00:34<00:00,  3.83it/s, v_num=23ms, train_accuracy=0.628, val_loss=0.680, val_accuracy=0.595]"
     ]
    },
    {
     "name": "stderr",
     "output_type": "stream",
     "text": [
      "Epoch 48, global step 6468: 'val_accuracy' was not in top 1\n"
     ]
    },
    {
     "name": "stdout",
     "output_type": "stream",
     "text": [
      "Epoch 49: 100%|██████████| 132/132 [00:33<00:00,  3.98it/s, v_num=23ms, train_accuracy=0.651, val_loss=0.680, val_accuracy=0.595]\n",
      "Validation: |          | 0/? [00:00<?, ?it/s]\n",
      "Validation:   0%|          | 0/16 [00:00<?, ?it/s]\n",
      "Validation DataLoader 0:   0%|          | 0/16 [00:00<?, ?it/s]\n",
      "Validation DataLoader 0:   6%|▋         | 1/16 [00:00<00:01, 14.99it/s]\n",
      "Validation DataLoader 0:  12%|█▎        | 2/16 [00:00<00:00, 14.64it/s]\n",
      "Validation DataLoader 0:  19%|█▉        | 3/16 [00:00<00:00, 14.50it/s]\n",
      "Validation DataLoader 0:  25%|██▌       | 4/16 [00:00<00:00, 14.15it/s]\n",
      "Validation DataLoader 0:  31%|███▏      | 5/16 [00:00<00:00, 14.09it/s]\n",
      "Validation DataLoader 0:  38%|███▊      | 6/16 [00:00<00:00, 14.06it/s]\n",
      "Validation DataLoader 0:  44%|████▍     | 7/16 [00:00<00:00, 13.96it/s]\n",
      "Validation DataLoader 0:  50%|█████     | 8/16 [00:00<00:00, 13.90it/s]\n",
      "Validation DataLoader 0:  56%|█████▋    | 9/16 [00:00<00:00, 13.88it/s]\n",
      "Validation DataLoader 0:  62%|██████▎   | 10/16 [00:00<00:00, 13.77it/s]\n",
      "Validation DataLoader 0:  69%|██████▉   | 11/16 [00:00<00:00, 13.77it/s]\n",
      "Validation DataLoader 0:  75%|███████▌  | 12/16 [00:00<00:00, 13.78it/s]\n",
      "Validation DataLoader 0:  81%|████████▏ | 13/16 [00:00<00:00, 13.80it/s]\n",
      "Validation DataLoader 0:  88%|████████▊ | 14/16 [00:01<00:00, 13.79it/s]\n",
      "Validation DataLoader 0:  94%|█████████▍| 15/16 [00:01<00:00, 13.79it/s]\n",
      "Validation DataLoader 0: 100%|██████████| 16/16 [00:01<00:00, 14.10it/s]\n",
      "Epoch 49: 100%|██████████| 132/132 [00:34<00:00,  3.84it/s, v_num=23ms, train_accuracy=0.651, val_loss=0.677, val_accuracy=0.595]"
     ]
    },
    {
     "name": "stderr",
     "output_type": "stream",
     "text": [
      "Epoch 49, global step 6600: 'val_accuracy' was not in top 1\n"
     ]
    },
    {
     "name": "stdout",
     "output_type": "stream",
     "text": [
      "Epoch 50: 100%|██████████| 132/132 [00:33<00:00,  3.97it/s, v_num=23ms, train_accuracy=0.674, val_loss=0.677, val_accuracy=0.595]\n",
      "Validation: |          | 0/? [00:00<?, ?it/s]\n",
      "Validation:   0%|          | 0/16 [00:00<?, ?it/s]\n",
      "Validation DataLoader 0:   0%|          | 0/16 [00:00<?, ?it/s]\n",
      "Validation DataLoader 0:   6%|▋         | 1/16 [00:00<00:00, 15.18it/s]\n",
      "Validation DataLoader 0:  12%|█▎        | 2/16 [00:00<00:00, 14.70it/s]\n",
      "Validation DataLoader 0:  19%|█▉        | 3/16 [00:00<00:00, 14.49it/s]\n",
      "Validation DataLoader 0:  25%|██▌       | 4/16 [00:00<00:00, 14.36it/s]\n",
      "Validation DataLoader 0:  31%|███▏      | 5/16 [00:00<00:00, 14.26it/s]\n",
      "Validation DataLoader 0:  38%|███▊      | 6/16 [00:00<00:00, 14.24it/s]\n",
      "Validation DataLoader 0:  44%|████▍     | 7/16 [00:00<00:00, 14.23it/s]\n",
      "Validation DataLoader 0:  50%|█████     | 8/16 [00:00<00:00, 14.19it/s]\n",
      "Validation DataLoader 0:  56%|█████▋    | 9/16 [00:00<00:00, 14.17it/s]\n",
      "Validation DataLoader 0:  62%|██████▎   | 10/16 [00:00<00:00, 14.12it/s]\n",
      "Validation DataLoader 0:  69%|██████▉   | 11/16 [00:00<00:00, 14.09it/s]\n",
      "Validation DataLoader 0:  75%|███████▌  | 12/16 [00:00<00:00, 14.09it/s]\n",
      "Validation DataLoader 0:  81%|████████▏ | 13/16 [00:00<00:00, 14.06it/s]\n",
      "Validation DataLoader 0:  88%|████████▊ | 14/16 [00:00<00:00, 14.06it/s]\n",
      "Validation DataLoader 0:  94%|█████████▍| 15/16 [00:01<00:00, 14.06it/s]\n",
      "Validation DataLoader 0: 100%|██████████| 16/16 [00:01<00:00, 14.33it/s]\n",
      "Epoch 50: 100%|██████████| 132/132 [00:34<00:00,  3.84it/s, v_num=23ms, train_accuracy=0.674, val_loss=0.677, val_accuracy=0.595]"
     ]
    },
    {
     "name": "stderr",
     "output_type": "stream",
     "text": [
      "Epoch 50, global step 6732: 'val_accuracy' was not in top 1\n"
     ]
    },
    {
     "name": "stdout",
     "output_type": "stream",
     "text": [
      "Epoch 51: 100%|██████████| 132/132 [00:33<00:00,  3.96it/s, v_num=23ms, train_accuracy=0.674, val_loss=0.677, val_accuracy=0.595]\n",
      "Validation: |          | 0/? [00:00<?, ?it/s]\n",
      "Validation:   0%|          | 0/16 [00:00<?, ?it/s]\n",
      "Validation DataLoader 0:   0%|          | 0/16 [00:00<?, ?it/s]\n",
      "Validation DataLoader 0:   6%|▋         | 1/16 [00:00<00:00, 15.42it/s]\n",
      "Validation DataLoader 0:  12%|█▎        | 2/16 [00:00<00:00, 14.75it/s]\n",
      "Validation DataLoader 0:  19%|█▉        | 3/16 [00:00<00:00, 14.57it/s]\n",
      "Validation DataLoader 0:  25%|██▌       | 4/16 [00:00<00:00, 14.48it/s]\n",
      "Validation DataLoader 0:  31%|███▏      | 5/16 [00:00<00:00, 14.40it/s]\n",
      "Validation DataLoader 0:  38%|███▊      | 6/16 [00:00<00:00, 14.37it/s]\n",
      "Validation DataLoader 0:  44%|████▍     | 7/16 [00:00<00:00, 14.30it/s]\n",
      "Validation DataLoader 0:  50%|█████     | 8/16 [00:00<00:00, 14.29it/s]\n",
      "Validation DataLoader 0:  56%|█████▋    | 9/16 [00:00<00:00, 14.26it/s]\n",
      "Validation DataLoader 0:  62%|██████▎   | 10/16 [00:00<00:00, 14.26it/s]\n",
      "Validation DataLoader 0:  69%|██████▉   | 11/16 [00:00<00:00, 14.21it/s]\n",
      "Validation DataLoader 0:  75%|███████▌  | 12/16 [00:00<00:00, 14.19it/s]\n",
      "Validation DataLoader 0:  81%|████████▏ | 13/16 [00:00<00:00, 14.19it/s]\n",
      "Validation DataLoader 0:  88%|████████▊ | 14/16 [00:00<00:00, 14.19it/s]\n",
      "Validation DataLoader 0:  94%|█████████▍| 15/16 [00:01<00:00, 14.18it/s]\n",
      "Validation DataLoader 0: 100%|██████████| 16/16 [00:01<00:00, 14.50it/s]\n",
      "Epoch 51: 100%|██████████| 132/132 [00:34<00:00,  3.83it/s, v_num=23ms, train_accuracy=0.674, val_loss=0.680, val_accuracy=0.595]"
     ]
    },
    {
     "name": "stderr",
     "output_type": "stream",
     "text": [
      "Epoch 51, global step 6864: 'val_accuracy' was not in top 1\n"
     ]
    },
    {
     "name": "stdout",
     "output_type": "stream",
     "text": [
      "Epoch 52: 100%|██████████| 132/132 [00:33<00:00,  3.98it/s, v_num=23ms, train_accuracy=0.837, val_loss=0.680, val_accuracy=0.595]\n",
      "Validation: |          | 0/? [00:00<?, ?it/s]\n",
      "Validation:   0%|          | 0/16 [00:00<?, ?it/s]\n",
      "Validation DataLoader 0:   0%|          | 0/16 [00:00<?, ?it/s]\n",
      "Validation DataLoader 0:   6%|▋         | 1/16 [00:00<00:01, 14.58it/s]\n",
      "Validation DataLoader 0:  12%|█▎        | 2/16 [00:00<00:00, 14.32it/s]\n",
      "Validation DataLoader 0:  19%|█▉        | 3/16 [00:00<00:00, 14.26it/s]\n",
      "Validation DataLoader 0:  25%|██▌       | 4/16 [00:00<00:00, 14.27it/s]\n",
      "Validation DataLoader 0:  31%|███▏      | 5/16 [00:00<00:00, 14.16it/s]\n",
      "Validation DataLoader 0:  38%|███▊      | 6/16 [00:00<00:00, 14.10it/s]\n",
      "Validation DataLoader 0:  44%|████▍     | 7/16 [00:00<00:00, 14.01it/s]\n",
      "Validation DataLoader 0:  50%|█████     | 8/16 [00:00<00:00, 14.04it/s]\n",
      "Validation DataLoader 0:  56%|█████▋    | 9/16 [00:00<00:00, 14.06it/s]\n",
      "Validation DataLoader 0:  62%|██████▎   | 10/16 [00:00<00:00, 14.08it/s]\n",
      "Validation DataLoader 0:  69%|██████▉   | 11/16 [00:00<00:00, 14.10it/s]\n",
      "Validation DataLoader 0:  75%|███████▌  | 12/16 [00:00<00:00, 14.11it/s]\n",
      "Validation DataLoader 0:  81%|████████▏ | 13/16 [00:00<00:00, 14.13it/s]\n",
      "Validation DataLoader 0:  88%|████████▊ | 14/16 [00:00<00:00, 14.14it/s]\n",
      "Validation DataLoader 0:  94%|█████████▍| 15/16 [00:01<00:00, 14.14it/s]\n",
      "Validation DataLoader 0: 100%|██████████| 16/16 [00:01<00:00, 14.44it/s]\n",
      "Epoch 52: 100%|██████████| 132/132 [00:34<00:00,  3.85it/s, v_num=23ms, train_accuracy=0.837, val_loss=0.678, val_accuracy=0.595]"
     ]
    },
    {
     "name": "stderr",
     "output_type": "stream",
     "text": [
      "Epoch 52, global step 6996: 'val_accuracy' was not in top 1\n"
     ]
    },
    {
     "name": "stdout",
     "output_type": "stream",
     "text": [
      "Epoch 53: 100%|██████████| 132/132 [00:33<00:00,  3.98it/s, v_num=23ms, train_accuracy=0.721, val_loss=0.678, val_accuracy=0.595]\n",
      "Validation: |          | 0/? [00:00<?, ?it/s]\n",
      "Validation:   0%|          | 0/16 [00:00<?, ?it/s]\n",
      "Validation DataLoader 0:   0%|          | 0/16 [00:00<?, ?it/s]\n",
      "Validation DataLoader 0:   6%|▋         | 1/16 [00:00<00:00, 15.07it/s]\n",
      "Validation DataLoader 0:  12%|█▎        | 2/16 [00:00<00:00, 14.66it/s]\n",
      "Validation DataLoader 0:  19%|█▉        | 3/16 [00:00<00:00, 14.43it/s]\n",
      "Validation DataLoader 0:  25%|██▌       | 4/16 [00:00<00:00, 14.15it/s]\n",
      "Validation DataLoader 0:  31%|███▏      | 5/16 [00:00<00:00, 14.08it/s]\n",
      "Validation DataLoader 0:  38%|███▊      | 6/16 [00:00<00:00, 14.05it/s]\n",
      "Validation DataLoader 0:  44%|████▍     | 7/16 [00:00<00:00, 14.03it/s]\n",
      "Validation DataLoader 0:  50%|█████     | 8/16 [00:00<00:00, 14.04it/s]\n",
      "Validation DataLoader 0:  56%|█████▋    | 9/16 [00:00<00:00, 14.02it/s]\n",
      "Validation DataLoader 0:  62%|██████▎   | 10/16 [00:00<00:00, 14.04it/s]\n",
      "Validation DataLoader 0:  69%|██████▉   | 11/16 [00:00<00:00, 14.02it/s]\n",
      "Validation DataLoader 0:  75%|███████▌  | 12/16 [00:00<00:00, 14.04it/s]\n",
      "Validation DataLoader 0:  81%|████████▏ | 13/16 [00:00<00:00, 14.05it/s]\n",
      "Validation DataLoader 0:  88%|████████▊ | 14/16 [00:00<00:00, 14.07it/s]\n",
      "Validation DataLoader 0:  94%|█████████▍| 15/16 [00:01<00:00, 14.08it/s]\n",
      "Validation DataLoader 0: 100%|██████████| 16/16 [00:01<00:00, 14.36it/s]\n",
      "Epoch 53: 100%|██████████| 132/132 [00:34<00:00,  3.85it/s, v_num=23ms, train_accuracy=0.721, val_loss=0.678, val_accuracy=0.595]"
     ]
    },
    {
     "name": "stderr",
     "output_type": "stream",
     "text": [
      "Epoch 53, global step 7128: 'val_accuracy' was not in top 1\n"
     ]
    },
    {
     "name": "stdout",
     "output_type": "stream",
     "text": [
      "Epoch 54: 100%|██████████| 132/132 [00:33<00:00,  3.97it/s, v_num=23ms, train_accuracy=0.628, val_loss=0.678, val_accuracy=0.595]\n",
      "Validation: |          | 0/? [00:00<?, ?it/s]\n",
      "Validation:   0%|          | 0/16 [00:00<?, ?it/s]\n",
      "Validation DataLoader 0:   0%|          | 0/16 [00:00<?, ?it/s]\n",
      "Validation DataLoader 0:   6%|▋         | 1/16 [00:00<00:00, 15.14it/s]\n",
      "Validation DataLoader 0:  12%|█▎        | 2/16 [00:00<00:00, 14.51it/s]\n",
      "Validation DataLoader 0:  19%|█▉        | 3/16 [00:00<00:00, 14.24it/s]\n",
      "Validation DataLoader 0:  25%|██▌       | 4/16 [00:00<00:00, 14.19it/s]\n",
      "Validation DataLoader 0:  31%|███▏      | 5/16 [00:00<00:00, 14.12it/s]\n",
      "Validation DataLoader 0:  38%|███▊      | 6/16 [00:00<00:00, 14.12it/s]\n",
      "Validation DataLoader 0:  44%|████▍     | 7/16 [00:00<00:00, 14.13it/s]\n",
      "Validation DataLoader 0:  50%|█████     | 8/16 [00:00<00:00, 14.14it/s]\n",
      "Validation DataLoader 0:  56%|█████▋    | 9/16 [00:00<00:00, 14.15it/s]\n",
      "Validation DataLoader 0:  62%|██████▎   | 10/16 [00:00<00:00, 14.16it/s]\n",
      "Validation DataLoader 0:  69%|██████▉   | 11/16 [00:00<00:00, 14.17it/s]\n",
      "Validation DataLoader 0:  75%|███████▌  | 12/16 [00:00<00:00, 14.14it/s]\n",
      "Validation DataLoader 0:  81%|████████▏ | 13/16 [00:00<00:00, 14.14it/s]\n",
      "Validation DataLoader 0:  88%|████████▊ | 14/16 [00:00<00:00, 14.12it/s]\n",
      "Validation DataLoader 0:  94%|█████████▍| 15/16 [00:01<00:00, 14.12it/s]\n",
      "Validation DataLoader 0: 100%|██████████| 16/16 [00:01<00:00, 14.42it/s]\n",
      "Epoch 54: 100%|██████████| 132/132 [00:34<00:00,  3.84it/s, v_num=23ms, train_accuracy=0.628, val_loss=0.678, val_accuracy=0.595]"
     ]
    },
    {
     "name": "stderr",
     "output_type": "stream",
     "text": [
      "Epoch 54, global step 7260: 'val_accuracy' was not in top 1\n"
     ]
    },
    {
     "name": "stdout",
     "output_type": "stream",
     "text": [
      "Epoch 55: 100%|██████████| 132/132 [00:33<00:00,  3.96it/s, v_num=23ms, train_accuracy=0.628, val_loss=0.678, val_accuracy=0.595]\n",
      "Validation: |          | 0/? [00:00<?, ?it/s]\n",
      "Validation:   0%|          | 0/16 [00:00<?, ?it/s]\n",
      "Validation DataLoader 0:   0%|          | 0/16 [00:00<?, ?it/s]\n",
      "Validation DataLoader 0:   6%|▋         | 1/16 [00:00<00:00, 15.17it/s]\n",
      "Validation DataLoader 0:  12%|█▎        | 2/16 [00:00<00:00, 14.49it/s]\n",
      "Validation DataLoader 0:  19%|█▉        | 3/16 [00:00<00:00, 14.40it/s]\n",
      "Validation DataLoader 0:  25%|██▌       | 4/16 [00:00<00:00, 14.29it/s]\n",
      "Validation DataLoader 0:  31%|███▏      | 5/16 [00:00<00:00, 14.25it/s]\n",
      "Validation DataLoader 0:  38%|███▊      | 6/16 [00:00<00:00, 14.19it/s]\n",
      "Validation DataLoader 0:  44%|████▍     | 7/16 [00:00<00:00, 14.20it/s]\n",
      "Validation DataLoader 0:  50%|█████     | 8/16 [00:00<00:00, 14.21it/s]\n",
      "Validation DataLoader 0:  56%|█████▋    | 9/16 [00:00<00:00, 14.22it/s]\n",
      "Validation DataLoader 0:  62%|██████▎   | 10/16 [00:00<00:00, 14.23it/s]\n",
      "Validation DataLoader 0:  69%|██████▉   | 11/16 [00:00<00:00, 14.20it/s]\n",
      "Validation DataLoader 0:  75%|███████▌  | 12/16 [00:00<00:00, 14.21it/s]\n",
      "Validation DataLoader 0:  81%|████████▏ | 13/16 [00:00<00:00, 14.20it/s]\n",
      "Validation DataLoader 0:  88%|████████▊ | 14/16 [00:00<00:00, 14.21it/s]\n",
      "Validation DataLoader 0:  94%|█████████▍| 15/16 [00:01<00:00, 14.21it/s]\n",
      "Validation DataLoader 0: 100%|██████████| 16/16 [00:01<00:00, 14.50it/s]\n",
      "Epoch 55: 100%|██████████| 132/132 [00:34<00:00,  3.83it/s, v_num=23ms, train_accuracy=0.628, val_loss=0.676, val_accuracy=0.595]"
     ]
    },
    {
     "name": "stderr",
     "output_type": "stream",
     "text": [
      "Epoch 55, global step 7392: 'val_accuracy' was not in top 1\n"
     ]
    },
    {
     "name": "stdout",
     "output_type": "stream",
     "text": [
      "Epoch 56: 100%|██████████| 132/132 [00:33<00:00,  3.98it/s, v_num=23ms, train_accuracy=0.605, val_loss=0.676, val_accuracy=0.595]\n",
      "Validation: |          | 0/? [00:00<?, ?it/s]\n",
      "Validation:   0%|          | 0/16 [00:00<?, ?it/s]\n",
      "Validation DataLoader 0:   0%|          | 0/16 [00:00<?, ?it/s]\n",
      "Validation DataLoader 0:   6%|▋         | 1/16 [00:00<00:00, 15.18it/s]\n",
      "Validation DataLoader 0:  12%|█▎        | 2/16 [00:00<00:00, 14.26it/s]\n",
      "Validation DataLoader 0:  19%|█▉        | 3/16 [00:00<00:00, 14.19it/s]\n",
      "Validation DataLoader 0:  25%|██▌       | 4/16 [00:00<00:00, 14.18it/s]\n",
      "Validation DataLoader 0:  31%|███▏      | 5/16 [00:00<00:00, 13.98it/s]\n",
      "Validation DataLoader 0:  38%|███▊      | 6/16 [00:00<00:00, 13.78it/s]\n",
      "Validation DataLoader 0:  44%|████▍     | 7/16 [00:00<00:00, 13.76it/s]\n",
      "Validation DataLoader 0:  50%|█████     | 8/16 [00:00<00:00, 13.73it/s]\n",
      "Validation DataLoader 0:  56%|█████▋    | 9/16 [00:00<00:00, 13.65it/s]\n",
      "Validation DataLoader 0:  62%|██████▎   | 10/16 [00:00<00:00, 13.72it/s]\n",
      "Validation DataLoader 0:  69%|██████▉   | 11/16 [00:00<00:00, 13.74it/s]\n",
      "Validation DataLoader 0:  75%|███████▌  | 12/16 [00:00<00:00, 13.77it/s]\n",
      "Validation DataLoader 0:  81%|████████▏ | 13/16 [00:00<00:00, 13.80it/s]\n",
      "Validation DataLoader 0:  88%|████████▊ | 14/16 [00:01<00:00, 13.82it/s]\n",
      "Validation DataLoader 0:  94%|█████████▍| 15/16 [00:01<00:00, 13.82it/s]\n",
      "Validation DataLoader 0: 100%|██████████| 16/16 [00:01<00:00, 14.13it/s]\n",
      "Epoch 56: 100%|██████████| 132/132 [00:34<00:00,  3.84it/s, v_num=23ms, train_accuracy=0.605, val_loss=0.677, val_accuracy=0.595]"
     ]
    },
    {
     "name": "stderr",
     "output_type": "stream",
     "text": [
      "Epoch 56, global step 7524: 'val_accuracy' was not in top 1\n"
     ]
    },
    {
     "name": "stdout",
     "output_type": "stream",
     "text": [
      "Epoch 57: 100%|██████████| 132/132 [00:33<00:00,  3.96it/s, v_num=23ms, train_accuracy=0.488, val_loss=0.677, val_accuracy=0.595]\n",
      "Validation: |          | 0/? [00:00<?, ?it/s]\n",
      "Validation:   0%|          | 0/16 [00:00<?, ?it/s]\n",
      "Validation DataLoader 0:   0%|          | 0/16 [00:00<?, ?it/s]\n",
      "Validation DataLoader 0:   6%|▋         | 1/16 [00:00<00:01, 14.97it/s]\n",
      "Validation DataLoader 0:  12%|█▎        | 2/16 [00:00<00:00, 14.56it/s]\n",
      "Validation DataLoader 0:  19%|█▉        | 3/16 [00:00<00:00, 14.43it/s]\n",
      "Validation DataLoader 0:  25%|██▌       | 4/16 [00:00<00:00, 14.37it/s]\n",
      "Validation DataLoader 0:  31%|███▏      | 5/16 [00:00<00:00, 14.31it/s]\n",
      "Validation DataLoader 0:  38%|███▊      | 6/16 [00:00<00:00, 14.29it/s]\n",
      "Validation DataLoader 0:  44%|████▍     | 7/16 [00:00<00:00, 14.26it/s]\n",
      "Validation DataLoader 0:  50%|█████     | 8/16 [00:00<00:00, 14.22it/s]\n",
      "Validation DataLoader 0:  56%|█████▋    | 9/16 [00:00<00:00, 14.15it/s]\n",
      "Validation DataLoader 0:  62%|██████▎   | 10/16 [00:00<00:00, 14.17it/s]\n",
      "Validation DataLoader 0:  69%|██████▉   | 11/16 [00:00<00:00, 14.16it/s]\n",
      "Validation DataLoader 0:  75%|███████▌  | 12/16 [00:00<00:00, 14.14it/s]\n",
      "Validation DataLoader 0:  81%|████████▏ | 13/16 [00:00<00:00, 14.13it/s]\n",
      "Validation DataLoader 0:  88%|████████▊ | 14/16 [00:00<00:00, 14.13it/s]\n",
      "Validation DataLoader 0:  94%|█████████▍| 15/16 [00:01<00:00, 14.12it/s]\n",
      "Validation DataLoader 0: 100%|██████████| 16/16 [00:01<00:00, 14.44it/s]\n",
      "Epoch 57: 100%|██████████| 132/132 [00:34<00:00,  3.83it/s, v_num=23ms, train_accuracy=0.488, val_loss=0.676, val_accuracy=0.595]"
     ]
    },
    {
     "name": "stderr",
     "output_type": "stream",
     "text": [
      "Epoch 57, global step 7656: 'val_accuracy' was not in top 1\n"
     ]
    },
    {
     "name": "stdout",
     "output_type": "stream",
     "text": [
      "Epoch 58: 100%|██████████| 132/132 [00:33<00:00,  3.97it/s, v_num=23ms, train_accuracy=0.628, val_loss=0.676, val_accuracy=0.595]\n",
      "Validation: |          | 0/? [00:00<?, ?it/s]\n",
      "Validation:   0%|          | 0/16 [00:00<?, ?it/s]\n",
      "Validation DataLoader 0:   0%|          | 0/16 [00:00<?, ?it/s]\n",
      "Validation DataLoader 0:   6%|▋         | 1/16 [00:00<00:00, 15.09it/s]\n",
      "Validation DataLoader 0:  12%|█▎        | 2/16 [00:00<00:00, 14.66it/s]\n",
      "Validation DataLoader 0:  19%|█▉        | 3/16 [00:00<00:00, 14.24it/s]\n",
      "Validation DataLoader 0:  25%|██▌       | 4/16 [00:00<00:00, 14.08it/s]\n",
      "Validation DataLoader 0:  31%|███▏      | 5/16 [00:00<00:00, 14.10it/s]\n",
      "Validation DataLoader 0:  38%|███▊      | 6/16 [00:00<00:00, 14.07it/s]\n",
      "Validation DataLoader 0:  44%|████▍     | 7/16 [00:00<00:00, 14.10it/s]\n",
      "Validation DataLoader 0:  50%|█████     | 8/16 [00:00<00:00, 14.09it/s]\n",
      "Validation DataLoader 0:  56%|█████▋    | 9/16 [00:00<00:00, 14.10it/s]\n",
      "Validation DataLoader 0:  62%|██████▎   | 10/16 [00:00<00:00, 14.11it/s]\n",
      "Validation DataLoader 0:  69%|██████▉   | 11/16 [00:00<00:00, 14.12it/s]\n",
      "Validation DataLoader 0:  75%|███████▌  | 12/16 [00:00<00:00, 14.13it/s]\n",
      "Validation DataLoader 0:  81%|████████▏ | 13/16 [00:00<00:00, 14.11it/s]\n",
      "Validation DataLoader 0:  88%|████████▊ | 14/16 [00:00<00:00, 14.13it/s]\n",
      "Validation DataLoader 0:  94%|█████████▍| 15/16 [00:01<00:00, 14.13it/s]\n",
      "Validation DataLoader 0: 100%|██████████| 16/16 [00:01<00:00, 14.45it/s]\n",
      "Epoch 58: 100%|██████████| 132/132 [00:34<00:00,  3.84it/s, v_num=23ms, train_accuracy=0.628, val_loss=0.683, val_accuracy=0.595]"
     ]
    },
    {
     "name": "stderr",
     "output_type": "stream",
     "text": [
      "Epoch 58, global step 7788: 'val_accuracy' was not in top 1\n"
     ]
    },
    {
     "name": "stdout",
     "output_type": "stream",
     "text": [
      "Epoch 59: 100%|██████████| 132/132 [00:33<00:00,  3.97it/s, v_num=23ms, train_accuracy=0.674, val_loss=0.683, val_accuracy=0.595]\n",
      "Validation: |          | 0/? [00:00<?, ?it/s]\n",
      "Validation:   0%|          | 0/16 [00:00<?, ?it/s]\n",
      "Validation DataLoader 0:   0%|          | 0/16 [00:00<?, ?it/s]\n",
      "Validation DataLoader 0:   6%|▋         | 1/16 [00:00<00:00, 15.46it/s]\n",
      "Validation DataLoader 0:  12%|█▎        | 2/16 [00:00<00:00, 14.77it/s]\n",
      "Validation DataLoader 0:  19%|█▉        | 3/16 [00:00<00:00, 14.56it/s]\n",
      "Validation DataLoader 0:  25%|██▌       | 4/16 [00:00<00:00, 14.43it/s]\n",
      "Validation DataLoader 0:  31%|███▏      | 5/16 [00:00<00:00, 14.35it/s]\n",
      "Validation DataLoader 0:  38%|███▊      | 6/16 [00:00<00:00, 14.33it/s]\n",
      "Validation DataLoader 0:  44%|████▍     | 7/16 [00:00<00:00, 14.29it/s]\n",
      "Validation DataLoader 0:  50%|█████     | 8/16 [00:00<00:00, 14.29it/s]\n",
      "Validation DataLoader 0:  56%|█████▋    | 9/16 [00:00<00:00, 14.29it/s]\n",
      "Validation DataLoader 0:  62%|██████▎   | 10/16 [00:00<00:00, 14.30it/s]\n",
      "Validation DataLoader 0:  69%|██████▉   | 11/16 [00:00<00:00, 14.29it/s]\n",
      "Validation DataLoader 0:  75%|███████▌  | 12/16 [00:00<00:00, 14.23it/s]\n",
      "Validation DataLoader 0:  81%|████████▏ | 13/16 [00:00<00:00, 14.23it/s]\n",
      "Validation DataLoader 0:  88%|████████▊ | 14/16 [00:00<00:00, 14.22it/s]\n",
      "Validation DataLoader 0:  94%|█████████▍| 15/16 [00:01<00:00, 14.19it/s]\n",
      "Validation DataLoader 0: 100%|██████████| 16/16 [00:01<00:00, 14.44it/s]\n",
      "Epoch 59: 100%|██████████| 132/132 [00:34<00:00,  3.84it/s, v_num=23ms, train_accuracy=0.674, val_loss=0.676, val_accuracy=0.595]"
     ]
    },
    {
     "name": "stderr",
     "output_type": "stream",
     "text": [
      "Epoch 59, global step 7920: 'val_accuracy' was not in top 1\n",
      "`Trainer.fit` stopped: `max_epochs=60` reached.\n"
     ]
    },
    {
     "name": "stdout",
     "output_type": "stream",
     "text": [
      "Epoch 59: 100%|██████████| 132/132 [00:34<00:00,  3.84it/s, v_num=23ms, train_accuracy=0.674, val_loss=0.676, val_accuracy=0.595]\n"
     ]
    },
    {
     "data": {
      "text/plain": [
       "<IPython.core.display.HTML object>"
      ],
      "text/html": [
       "\n",
       "    <style>\n",
       "        .wandb-row {\n",
       "            display: flex;\n",
       "            flex-direction: row;\n",
       "            flex-wrap: wrap;\n",
       "            justify-content: flex-start;\n",
       "            width: 100%;\n",
       "        }\n",
       "        .wandb-col {\n",
       "            display: flex;\n",
       "            flex-direction: column;\n",
       "            flex-basis: 100%;\n",
       "            flex: 1;\n",
       "            padding: 10px;\n",
       "        }\n",
       "    </style>\n",
       "<div class=\"wandb-row\"><div class=\"wandb-col\"><h3>Run history:</h3><br/><table class=\"wandb\"><tr><td>epoch</td><td>▁▁▁▂▂▂▂▂▂▃▃▃▃▃▄▄▄▄▄▅▅▅▅▆▆▆▆▆▆▆▇▇▇▇▇▇████</td></tr><tr><td>train_accuracy</td><td>█▄▅▃▆█▆█▅▇▆▅▅▄▄▃▃▃▆▅▄▅▆▅▇▄▇▅▆▆▇▅▇▁▆▃▅▅▆█</td></tr><tr><td>train_loss</td><td>▇▃██▅▄▄█▃▅▆▆▅▆▁▂▇▃▆▇▄▆▅▇█▄▇█▇█▄▄▄▄█▇▇▃▇█</td></tr><tr><td>trainer/global_step</td><td>▁▁▁▁▁▂▂▂▂▂▃▃▃▃▃▃▃▃▃▄▄▄▄▄▄▅▅▅▆▆▆▇▇▇▇▇████</td></tr><tr><td>val_accuracy</td><td>▁▁▁▁▁▁▁▁▁▁▁▁▁▁▁▁▁▁▁▁▁▁▁▁▁▁▁▁▁▁▁▁▁▁▁▁▁▁▁▁</td></tr><tr><td>val_loss</td><td>█▇▅▆▅▇▆▆▅▅▅▆▅▅▅▆▆▆▆▇▅▁█▅▇▅▇▅▅▆▅▇▆▅▆▆▆▅▅▅</td></tr></table><br/></div><div class=\"wandb-col\"><h3>Run summary:</h3><br/><table class=\"wandb\"><tr><td>epoch</td><td>59</td></tr><tr><td>train_accuracy</td><td>0.6875</td></tr><tr><td>train_loss</td><td>0.6314</td></tr><tr><td>trainer/global_step</td><td>7919</td></tr><tr><td>val_accuracy</td><td>0.595</td></tr><tr><td>val_loss</td><td>0.67564</td></tr></table><br/></div></div>"
      ]
     },
     "metadata": {},
     "output_type": "display_data"
    },
    {
     "data": {
      "text/plain": [
       "<IPython.core.display.HTML object>"
      ],
      "text/html": [
       " View run <strong style=\"color:#cdcd00\">emb_dim_256-n_heads_8-trans_h_dim_512-class_h_dim_128-dropout_0.2-lr_0.0001-warmup_100-w_decay_0.0001</strong> at: <a href='https://wandb.ai/aintnoair/nlp_p3_transformer/runs/feb023ms' target=\"_blank\">https://wandb.ai/aintnoair/nlp_p3_transformer/runs/feb023ms</a><br/> View project at: <a href='https://wandb.ai/aintnoair/nlp_p3_transformer' target=\"_blank\">https://wandb.ai/aintnoair/nlp_p3_transformer</a><br/>Synced 5 W&B file(s), 0 media file(s), 0 artifact file(s) and 0 other file(s)"
      ]
     },
     "metadata": {},
     "output_type": "display_data"
    },
    {
     "data": {
      "text/plain": [
       "<IPython.core.display.HTML object>"
      ],
      "text/html": [
       "Find logs at: <code>.\\wandb\\run-20241111_211910-feb023ms\\logs</code>"
      ]
     },
     "metadata": {},
     "output_type": "display_data"
    }
   ],
   "execution_count": 19
  },
  {
   "metadata": {
    "ExecuteTime": {
     "end_time": "2024-11-11T20:54:11.053670Z",
     "start_time": "2024-11-11T20:54:09.604244Z"
    }
   },
   "cell_type": "code",
   "source": [
    "def plot_label_distribution_from_boolq(train_data, val_data):\n",
    "    train_yes_count = sum(1 for label in train_data['answer'] if label == 1)\n",
    "    train_no_count = sum(1 for label in train_data['answer'] if label == 0)\n",
    "    val_yes_count = sum(1 for label in val_data['answer'] if label == 1)\n",
    "    val_no_count = sum(1 for label in val_data['answer'] if label == 0)\n",
    "    \n",
    "    train_total = train_yes_count + train_no_count\n",
    "    val_total = val_yes_count + val_no_count\n",
    "    train_yes_percent = (train_yes_count / train_total) * 100\n",
    "    train_no_percent = (train_no_count / train_total) * 100\n",
    "    val_yes_percent = (val_yes_count / val_total) * 100\n",
    "    val_no_percent = (val_no_count / val_total) * 100\n",
    "    \n",
    "    labels = [\"No\", \"Yes\"]\n",
    "    train_counts = [train_no_count, train_yes_count]\n",
    "    val_counts = [val_no_count, val_yes_count]\n",
    "    \n",
    "    fig, ax = plt.subplots(1, 2, figsize=(14, 6))\n",
    "    \n",
    "    ax[0].bar(labels, train_counts, color='blue', alpha=0.7)\n",
    "    ax[0].set_title(\"Training Label Distribution\")\n",
    "    ax[0].set_xlabel(\"Labels\")\n",
    "    ax[0].set_ylabel(\"Count\")\n",
    "    ax[0].set_ylim(0, max(train_counts + val_counts) * 1.1)  # Consistent y-axis scale\n",
    "    for i, v in enumerate(train_counts):\n",
    "        ax[0].text(i, v + 50, f\"{v} ({train_no_percent if i == 0 else train_yes_percent:.2f}%)\", ha='center', color='black')\n",
    "    \n",
    "    ax[1].bar(labels, val_counts, color='orange', alpha=0.7)\n",
    "    ax[1].set_title(\"Validation Label Distribution\")\n",
    "    ax[1].set_xlabel(\"Labels\")\n",
    "    ax[1].set_ylabel(\"Count\")\n",
    "    ax[1].set_ylim(0, max(train_counts + val_counts) * 1.1)  # Consistent y-axis scale\n",
    "    for i, v in enumerate(val_counts):\n",
    "        ax[1].text(i, v + 20, f\"{v} ({val_no_percent if i == 0 else val_yes_percent:.2f}%)\", ha='center', color='black')\n",
    "    \n",
    "    plt.tight_layout()\n",
    "    plt.show()\n",
    "\n",
    "# Example usage\n",
    "# Assuming train_data and validation_data are loaded datasets\n",
    "plot_label_distribution_from_boolq(train_data, validation_data)"
   ],
   "outputs": [
    {
     "data": {
      "text/plain": [
       "<Figure size 1400x600 with 2 Axes>"
      ],
      "image/png": "[encoded data removed]"
     },
     "metadata": {},
     "output_type": "display_data"
    }
   ],
   "execution_count": 20
  },
  {
   "cell_type": "markdown",
   "metadata": {},
   "source": [
    "## Evaluation\n",
    "The percentage of yes answers in each data split is: Train; 62.64%, Val; 59.50%, Test;62.17%\n",
    "Seeing how difficult it was in past projects to reach a much better accuracy than the baseline majority class I am setting my goal for the transformer model at 64% accuracy on the test set.\n",
    "\n",
    "### Metrics\n",
    "**Accuracy**: To evaluate model performance across different hyperparameter configurations, I will use validation accuracy as the primary metric.\n",
    "**Confusion Matrix**: This will give a comprehensive view of true positives, true negatives, false positives, and false negatives, allowing me deeper insight into the model’s performance.\n",
    "\n",
    "### Error Analysis\n",
    "To understand why the model may fail on certain predictions, I will conduct an error analysis investigating weather missclassifications are related to the confidence score the model has in it's predictions. Low confidence on correct answers or high confidence on wrong answers may indicate areas where the model is uncertain or overconfident."
   ]
  },
  {
   "metadata": {},
   "cell_type": "markdown",
   "source": [
    "## <span style=\"color: orange;\">Evaluation</span>\n",
    "Choosing to do without any manual preprocessing and relying on the built-in functionality of the AutoTokenizer module to handle padding, truncation, extra whitespace removal, special character removal and case sensitivity management was a success. Making the implementation more straightforward and reducing the potential for implementation errors. In most of my runs the transformer model would reach a validation accuracy of ~59%, after plotting the distribution of labels in the validation set it was clear to me the model is only predicting the majority \"yes\" class. After this realization I added the dropout layer and weight decay to the model which showed improvement in reaching a better validation accuracy, now reaching 60%. <br>\n",
    "For my evaluation on the test set I chose the model reaching the highest accuracy on the validation set.\n",
    "### Results of test set validation\n",
    "Run name: emb_dim_256-n_heads_8-trans_h_dim_512-class_h_dim_128-dropout_0.2-lr_0.0001-warmup_100-w_decay_0.0001 <br>\n",
    "Test Accuracy: 63.70%\n",
    "True Positives: 1880\n",
    "True Negatives: 203\n",
    "\n",
    "The model reached an accuracy of 63.70% on the test set compared to the baseline of 62.17%, however it still predominantly predicts the majority class. \n"
   ]
  },
  {
   "cell_type": "code",
   "metadata": {
    "vscode": {
     "languageId": "plaintext"
    },
    "ExecuteTime": {
     "end_time": "2024-11-11T20:54:18.809811Z",
     "start_time": "2024-11-11T20:54:11.069588Z"
    }
   },
   "source": [
    "# Define paths and load model from checkpoint\n",
    "base_path = Path(\"checkpoints\")\n",
    "run_name = \"emb_dim_256-n_heads_8-trans_h_dim_512-class_h_dim_128-dropout_0.2-lr_0.0001-warmup_100-w_decay_0.0001\"\n",
    "file_path = base_path / (run_name + \".ckpt\")\n",
    "\n",
    "# Load the model from the checkpoint\n",
    "model = TransformerClassifier.load_from_checkpoint(file_path)\n",
    "wandb_logger = WandbLogger(project=\"nlp_p3_transformer\", name=run_name, group=\"evaluation\")\n",
    "\n",
    "# Initialize the trainer for testing\n",
    "trainer = pl.Trainer(logger=wandb_logger)\n",
    "trainer.test(model, test_loader)\n",
    "\n",
    "# Finish WandB session\n",
    "wandb.finish()"
   ],
   "outputs": [
    {
     "name": "stderr",
     "output_type": "stream",
     "text": [
      "C:\\Users\\Pascal\\miniconda3\\envs\\nlp\\Lib\\site-packages\\torch\\nn\\modules\\transformer.py:379: UserWarning: enable_nested_tensor is True, but self.use_nested_tensor is False because encoder_layer.self_attn.batch_first was not True(use batch_first for better inference performance)\n",
      "  warnings.warn(\n",
      "GPU available: True (cuda), used: True\n",
      "TPU available: False, using: 0 TPU cores\n",
      "HPU available: False, using: 0 HPUs\n"
     ]
    },
    {
     "data": {
      "text/plain": [
       "<IPython.core.display.HTML object>"
      ],
      "text/html": [
       "Tracking run with wandb version 0.18.6"
      ]
     },
     "metadata": {},
     "output_type": "display_data"
    },
    {
     "data": {
      "text/plain": [
       "<IPython.core.display.HTML object>"
      ],
      "text/html": [
       "Run data is saved locally in <code>.\\wandb\\run-20241111_215411-45dfduoe</code>"
      ]
     },
     "metadata": {},
     "output_type": "display_data"
    },
    {
     "data": {
      "text/plain": [
       "<IPython.core.display.HTML object>"
      ],
      "text/html": [
       "Syncing run <strong><a href='https://wandb.ai/aintnoair/nlp_p3_transformer/runs/45dfduoe' target=\"_blank\">emb_dim_256-n_heads_8-trans_h_dim_512-class_h_dim_128-dropout_0.2-lr_0.0001-warmup_100-w_decay_0.0001</a></strong> to <a href='https://wandb.ai/aintnoair/nlp_p3_transformer' target=\"_blank\">Weights & Biases</a> (<a href='https://wandb.me/developer-guide' target=\"_blank\">docs</a>)<br/>"
      ]
     },
     "metadata": {},
     "output_type": "display_data"
    },
    {
     "data": {
      "text/plain": [
       "<IPython.core.display.HTML object>"
      ],
      "text/html": [
       " View project at <a href='https://wandb.ai/aintnoair/nlp_p3_transformer' target=\"_blank\">https://wandb.ai/aintnoair/nlp_p3_transformer</a>"
      ]
     },
     "metadata": {},
     "output_type": "display_data"
    },
    {
     "data": {
      "text/plain": [
       "<IPython.core.display.HTML object>"
      ],
      "text/html": [
       " View run at <a href='https://wandb.ai/aintnoair/nlp_p3_transformer/runs/45dfduoe' target=\"_blank\">https://wandb.ai/aintnoair/nlp_p3_transformer/runs/45dfduoe</a>"
      ]
     },
     "metadata": {},
     "output_type": "display_data"
    },
    {
     "name": "stderr",
     "output_type": "stream",
     "text": [
      "LOCAL_RANK: 0 - CUDA_VISIBLE_DEVICES: [0]\n",
      "C:\\Users\\Pascal\\miniconda3\\envs\\nlp\\Lib\\site-packages\\pytorch_lightning\\trainer\\connectors\\data_connector.py:424: The 'test_dataloader' does not have many workers which may be a bottleneck. Consider increasing the value of the `num_workers` argument` to `num_workers=31` in the `DataLoader` to improve performance.\n"
     ]
    },
    {
     "name": "stdout",
     "output_type": "stream",
     "text": [
      "Testing: |          | 0/? [00:00<?, ?it/s]"
     ]
    },
    {
     "name": "stderr",
     "output_type": "stream",
     "text": [
      "C:\\Users\\Pascal\\AppData\\Local\\Temp\\ipykernel_23712\\1889658370.py:3: UserWarning: To copy construct from a tensor, it is recommended to use sourceTensor.clone().detach() or sourceTensor.clone().detach().requires_grad_(True), rather than torch.tensor(sourceTensor).\n",
      "  input_ids = [torch.tensor(item['input_ids']) for item in batch]\n"
     ]
    },
    {
     "name": "stdout",
     "output_type": "stream",
     "text": [
      "Testing DataLoader 0: 100%|██████████| 52/52 [00:04<00:00, 12.33it/s]\n",
      "────────────────────────────────────────────────────────────────────────────────────────────────────────────────────────\r\n",
      "       Test metric             DataLoader 0\r\n",
      "────────────────────────────────────────────────────────────────────────────────────────────────────────────────────────\r\n",
      "      test_accuracy         0.6370030641555786\r\n",
      "        test_loss           0.6468071937561035\r\n",
      "────────────────────────────────────────────────────────────────────────────────────────────────────────────────────────\n"
     ]
    },
    {
     "data": {
      "text/plain": [
       "<IPython.core.display.HTML object>"
      ],
      "text/html": [
       "\n",
       "    <style>\n",
       "        .wandb-row {\n",
       "            display: flex;\n",
       "            flex-direction: row;\n",
       "            flex-wrap: wrap;\n",
       "            justify-content: flex-start;\n",
       "            width: 100%;\n",
       "        }\n",
       "        .wandb-col {\n",
       "            display: flex;\n",
       "            flex-direction: column;\n",
       "            flex-basis: 100%;\n",
       "            flex: 1;\n",
       "            padding: 10px;\n",
       "        }\n",
       "    </style>\n",
       "<div class=\"wandb-row\"><div class=\"wandb-col\"><h3>Run history:</h3><br/><table class=\"wandb\"><tr><td>epoch</td><td>▁</td></tr><tr><td>test_accuracy</td><td>▁</td></tr><tr><td>test_loss</td><td>▁</td></tr><tr><td>trainer/global_step</td><td>▁▁</td></tr></table><br/></div><div class=\"wandb-col\"><h3>Run summary:</h3><br/><table class=\"wandb\"><tr><td>epoch</td><td>0</td></tr><tr><td>test_accuracy</td><td>0.637</td></tr><tr><td>test_loss</td><td>0.64681</td></tr><tr><td>trainer/global_step</td><td>0</td></tr></table><br/></div></div>"
      ]
     },
     "metadata": {},
     "output_type": "display_data"
    },
    {
     "data": {
      "text/plain": [
       "<IPython.core.display.HTML object>"
      ],
      "text/html": [
       " View run <strong style=\"color:#cdcd00\">emb_dim_256-n_heads_8-trans_h_dim_512-class_h_dim_128-dropout_0.2-lr_0.0001-warmup_100-w_decay_0.0001</strong> at: <a href='https://wandb.ai/aintnoair/nlp_p3_transformer/runs/45dfduoe' target=\"_blank\">https://wandb.ai/aintnoair/nlp_p3_transformer/runs/45dfduoe</a><br/> View project at: <a href='https://wandb.ai/aintnoair/nlp_p3_transformer' target=\"_blank\">https://wandb.ai/aintnoair/nlp_p3_transformer</a><br/>Synced 5 W&B file(s), 0 media file(s), 0 artifact file(s) and 1 other file(s)"
      ]
     },
     "metadata": {},
     "output_type": "display_data"
    },
    {
     "data": {
      "text/plain": [
       "<IPython.core.display.HTML object>"
      ],
      "text/html": [
       "Find logs at: <code>.\\wandb\\run-20241111_215411-45dfduoe\\logs</code>"
      ]
     },
     "metadata": {},
     "output_type": "display_data"
    }
   ],
   "execution_count": 21
  },
  {
   "cell_type": "markdown",
   "metadata": {},
   "source": [
    "## Interpretation\n",
    "My expectation for this project are to beat the majority class baseline of 62.17% on the test set. My last project wasn't very successufl in that it only predicted the majority class every time. The feedback on that project was plenty and I hope I can improve on a lot of points for this project.\n",
    "\n",
    "Given the results form the LSTM implementation I am setting my expecation for the Transformer architecture to reach an accuracy of 63% to 65% on the test set.\n"
   ]
  },
  {
   "cell_type": "code",
   "metadata": {
    "vscode": {
     "languageId": "plaintext"
    }
   },
   "source": [],
   "outputs": [],
   "execution_count": null
  }
 ],
 "metadata": {
  "language_info": {
   "name": "python"
  },
  "kernelspec": {
   "name": "python3",
   "language": "python",
   "display_name": "Python 3 (ipykernel)"
  }
 },
 "nbformat": 4,
 "nbformat_minor": 2
}
