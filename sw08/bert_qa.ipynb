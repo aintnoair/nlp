{
 "cells": [
  {
   "cell_type": "markdown",
   "id": "d06a0aa5",
   "metadata": {},
   "source": [
    "# Question Answering with BERT\n",
    "In this exercise, we will use a pretrained BERT model, finetuned on question answering, to identify the answer to a question in a paragraph."
   ]
  },
  {
   "cell_type": "code",
   "execution_count": 4,
   "id": "86be112a",
   "metadata": {
    "ExecuteTime": {
     "end_time": "2024-11-06T12:40:57.191903Z",
     "start_time": "2024-11-06T12:40:55.918579Z"
    }
   },
   "outputs": [
    {
     "name": "stdout",
     "output_type": "stream",
     "text": [
      "Note: you may need to restart the kernel to use updated packages.\n",
      "Note: you may need to restart the kernel to use updated packages.\n"
     ]
    }
   ],
   "source": [
    "%pip install -q torch\n",
    "%pip install -q transformers"
   ]
  },
  {
   "cell_type": "code",
   "execution_count": 5,
   "id": "c66b8b3d",
   "metadata": {
    "ExecuteTime": {
     "end_time": "2024-11-06T12:40:57.194315Z",
     "start_time": "2024-11-06T12:40:57.191677Z"
    }
   },
   "outputs": [],
   "source": [
    "import torch"
   ]
  },
  {
   "cell_type": "markdown",
   "id": "e311c68d",
   "metadata": {},
   "source": [
    "## Knowledge distillation\n",
    "\n",
    "[Knowledge distillation](https://en.wikipedia.org/wiki/Knowledge_distillation) is a practice in deep learning to train a much smaller *student* model on the outputs of a large *teacher* model. In that way, one can reduce model parameters a lot while performance decreases only by a little.\n",
    "\n",
    "We will use a distilled model: `distilbert-base-uncased-distilled-squad`. From the 5 parts of the name, we know that:\n",
    "- it is a distilled version of the BERT model\n",
    "- it used BERT-base as a teacher model\n",
    "- it is uncased, so converts all inputs into lowercase\n",
    "- it was distilled again during finetuning (normally it's only done once from the pretrained model)\n",
    "- the model was finetuned on squad (v1.1), a question answering dataset\n",
    "\n",
    "We will now download and initialize the model. Read the [model documentation](https://huggingface.co/distilbert-base-uncased-distilled-squad) on HuggingFace's model hub to see how it is used."
   ]
  },
  {
   "cell_type": "code",
   "execution_count": 6,
   "id": "19eb086d",
   "metadata": {
    "ExecuteTime": {
     "end_time": "2024-11-06T12:40:57.623096Z",
     "start_time": "2024-11-06T12:40:57.193842Z"
    }
   },
   "outputs": [],
   "source": [
    "from transformers import DistilBertTokenizer, DistilBertForQuestionAnswering\n",
    "\n",
    "tokenizer = DistilBertTokenizer.from_pretrained('distilbert-base-uncased-distilled-squad')\n",
    "model = DistilBertForQuestionAnswering.from_pretrained('distilbert-base-uncased-distilled-squad')\n",
    "model.eval()\n",
    "pass  # Suppress output"
   ]
  },
  {
   "cell_type": "markdown",
   "id": "06d14ff7",
   "metadata": {},
   "source": [
    "## Extractive Question Answering\n",
    "\n",
    "For extractive question answering, we are given a paragraph and a question, and have to find the answer to the question in the paragraph. Look at the paragraphs (starts of Wikipedia articles about New York City, the capybara, and american football) and questions that we will use for this exercise:"
   ]
  },
  {
   "cell_type": "code",
   "execution_count": 7,
   "id": "f4e12679",
   "metadata": {
    "ExecuteTime": {
     "end_time": "2024-11-06T12:40:57.800714Z",
     "start_time": "2024-11-06T12:40:57.797731Z"
    }
   },
   "outputs": [],
   "source": [
    "paragraphs = [\n",
    "    \"New York, often called New York City (NYC), is the most populous city in the United States. With a 2020 population of 8,804,190 distributed over 300.46 square miles (778.2 km2), New York City is also the most densely populated major city in the United States. Located at the southern tip of New York State, the city is based in the Eastern Time Zone and constitutes the geographical and demographic center of both the Northeast megalopolis and the New York metropolitan area, the largest metropolitan area in the world by urban landmass. With over 20.1 million people in its metropolitan statistical area and 23.5 million in its combined statistical area as of 2020, New York is one of the world's most populous megacities. New York City is a global cultural, financial, and media center with a significant influence on commerce, health care and life sciences, entertainment, research, technology, education, politics, tourism, dining, art, fashion, and sports. New York is the most photographed city in the world. Home to the headquarters of the United Nations, New York is an important center for international diplomacy, an established safe haven for global investors, and is sometimes described as the capital of the world.\",\n",
    "    \"The capybara or greater capybara (Hydrochoerus hydrochaeris) is a giant cavy rodent native to South America. It is the largest living rodent and a member of the genus Hydrochoerus. The only other extant member is the lesser capybara (Hydrochoerus isthmius). Its close relatives include guinea pigs and rock cavies, and it is more distantly related to the agouti, the chinchilla, and the nutria. The capybara inhabits savannas and dense forests and lives near bodies of water. It is a highly social species and can be found in groups as large as 100 individuals, but usually lives in groups of 10–20 individuals. The capybara is hunted for its meat and hide and also for grease from its thick fatty skin. It is not considered a threatened species.\",\n",
    "    \"American football (referred to simply as football in the United States and Canada), also known as gridiron, is a team sport played by two teams of eleven players on a rectangular field with goalposts at each end. The offense, the team with possession of the oval-shaped football, attempts to advance down the field by running with the ball or passing it, while the defense, the team without possession of the ball, aims to stop the offense's advance and to take control of the ball for themselves. The offense must advance at least ten yards in four downs or plays; if they fail, they turn over the football to the defense, but if they succeed, they are given a new set of four downs to continue the drive. Points are scored primarily by advancing the ball into the opposing team's end zone for a touchdown or kicking the ball through the opponent's goalposts for a field goal. The team with the most points at the end of a game wins.\",\n",
    "]\n",
    "questions = [\n",
    "    [\n",
    "        \"What is New York's population?\",\n",
    "        \"How many people live in New York's metropolitan area?\",\n",
    "        \"To what industries is New York a center?\",\n",
    "        \"What is New York known for?\",\n",
    "        \"What is New York also called?\",\n",
    "        \"What is New York also sometimes called?\",\n",
    "        \"What is New York also sometimes described?\",\n",
    "    ],\n",
    "    [\n",
    "        \"What is the scientific name of the capybara?\",\n",
    "        \"What family of animals does the capybara belong to?\",\n",
    "        \"What are close relatives of the capybara?\",\n",
    "        \"What is the size of groups that the capybara lives in?\",\n",
    "        \"What is the capybara hunted for?\",\n",
    "    ],\n",
    "    [\n",
    "        \"Under what name is American football also known?\",\n",
    "        \"How many players are in a team?\",\n",
    "        \"By what means can the offense advance?\",\n",
    "        \"How many yards must a team advance in four downs?\",\n",
    "        \"How does a team score points?\",\n",
    "        \"How does a team win?\",\n",
    "    ],\n",
    "]"
   ]
  },
  {
   "cell_type": "markdown",
   "id": "d4a32b0f",
   "metadata": {},
   "source": [
    "## Answering Questions\n",
    "\n",
    "For each of the paragraphs above, we will now answer the associated questions. Take a look at the [model documentation](https://huggingface.co/distilbert-base-uncased-distilled-squad). First, use HuggingFace's pipeline abstraction. Look at the outputs of your model and describe the information it returns."
   ]
  },
  {
   "cell_type": "code",
   "execution_count": 11,
   "id": "29b9b740",
   "metadata": {
    "ExecuteTime": {
     "end_time": "2024-11-06T13:07:17.637026Z",
     "start_time": "2024-11-06T13:07:16.785141Z"
    }
   },
   "outputs": [
    {
     "name": "stdout",
     "output_type": "stream",
     "text": [
      "Question: What is New York's population?\n",
      "Answer: '8,804,190', Score: 0.9858, Start: 118, End: 127\n",
      "\n",
      "Question: How many people live in New York's metropolitan area?\n",
      "Answer: '20.1 million', Score: 0.5023, Start: 548, End: 560\n",
      "\n",
      "Question: To what industries is New York a center?\n",
      "Answer: 'financial, and media', Score: 0.0384, Start: 760, End: 780\n",
      "\n",
      "Question: What is New York known for?\n",
      "Answer: 'New York City (NYC)', Score: 0.1166, Start: 23, End: 42\n",
      "\n",
      "Question: What is New York also called?\n",
      "Answer: 'New York City', Score: 0.3205, Start: 23, End: 36\n",
      "\n",
      "Question: What is New York also sometimes called?\n",
      "Answer: 'New York City (NYC', Score: 0.3319, Start: 23, End: 41\n",
      "\n",
      "Question: What is New York also sometimes described?\n",
      "Answer: 'New York City (NYC', Score: 0.3236, Start: 23, End: 41\n",
      "\n",
      "----------------------------------------\n",
      "Question: What is the scientific name of the capybara?\n",
      "Answer: 'Hydrochoerus hydrochaeris', Score: 0.3257, Start: 34, End: 59\n",
      "\n",
      "Question: What family of animals does the capybara belong to?\n",
      "Answer: 'cavy', Score: 0.1897, Start: 72, End: 76\n",
      "\n",
      "Question: What are close relatives of the capybara?\n",
      "Answer: 'guinea pigs and rock cavies', Score: 0.8195, Start: 286, End: 313\n",
      "\n",
      "Question: What is the size of groups that the capybara lives in?\n",
      "Answer: '10–20 individuals', Score: 0.3549, Start: 593, End: 610\n",
      "\n",
      "Question: What is the capybara hunted for?\n",
      "Answer: 'meat and hide', Score: 0.4412, Start: 643, End: 656\n",
      "\n",
      "----------------------------------------\n",
      "Question: Under what name is American football also known?\n",
      "Answer: 'gridiron', Score: 0.978, Start: 98, End: 106\n",
      "\n",
      "Question: How many players are in a team?\n",
      "Answer: 'eleven', Score: 0.5427, Start: 147, End: 153\n",
      "\n",
      "Question: By what means can the offense advance?\n",
      "Answer: 'running with the ball or passing it', Score: 0.4876, Start: 318, End: 353\n",
      "\n",
      "Question: How many yards must a team advance in four downs?\n",
      "Answer: 'ten', Score: 0.3951, Start: 532, End: 535\n",
      "\n",
      "Question: How does a team score points?\n",
      "Answer: 'advancing the ball into the opposing team's end zone for a touchdown', Score: 0.0569, Start: 738, End: 806\n",
      "\n",
      "Question: How does a team win?\n",
      "Answer: 'The team with the most points at the end of a game wins', Score: 0.377, Start: 878, End: 933\n",
      "\n",
      "----------------------------------------\n"
     ]
    }
   ],
   "source": [
    "from transformers import pipeline\n",
    "\n",
    "question_answer = pipeline(\"question-answering\", model=\"distilbert-base-uncased-distilled-squad\", device='mps')\n",
    "\n",
    "for i, paragraph in enumerate(paragraphs):\n",
    "    for question in questions[i]:\n",
    "        result = question_answer(question=question, context=paragraph)\n",
    "        print(f\"Question: {question}\")\n",
    "        print(\n",
    "            f\"Answer: '{result['answer']}', \"\n",
    "            f\"Score: {round(result['score'], 4)}, \"\n",
    "            f\"Start: {result['start']}, \"\n",
    "            f\"End: {result['end']}\\n\"\n",
    "        )\n",
    "    print(\"-\" * 40)"
   ]
  },
  {
   "cell_type": "markdown",
   "id": "2bbea340",
   "metadata": {},
   "source": [
    "Now we will do the same by directly using the tokenizer and the model we loaded at the start. The model documentation also has an example to get you started (they use the wrong class for the model [as of October 2022]). Look at the outputs of the model. Perform the necessary steps to give an answer like the pipeline above. Do the answers match?"
   ]
  },
  {
   "cell_type": "code",
   "execution_count": 31,
   "id": "924dbbf4",
   "metadata": {
    "ExecuteTime": {
     "end_time": "2024-11-06T13:40:12.558088Z",
     "start_time": "2024-11-06T13:40:11.642315Z"
    }
   },
   "outputs": [
    {
     "name": "stdout",
     "output_type": "stream",
     "text": [
      "New York, often called New York City (NYC), is the most populous city in the United States. With a 2020 population of 8,804,190 distributed over 300.46 square miles (778.2 km2), New York City is also the most densely populated major city in the United States. Located at the southern tip of New York State, the city is based in the Eastern Time Zone and constitutes the geographical and demographic center of both the Northeast megalopolis and the New York metropolitan area, the largest metropolitan area in the world by urban landmass. With over 20.1 million people in its metropolitan statistical area and 23.5 million in its combined statistical area as of 2020, New York is one of the world's most populous megacities. New York City is a global cultural, financial, and media center with a significant influence on commerce, health care and life sciences, entertainment, research, technology, education, politics, tourism, dining, art, fashion, and sports. New York is the most photographed city in the world. Home to the headquarters of the United Nations, New York is an important center for international diplomacy, an established safe haven for global investors, and is sometimes described as the capital of the world.\n",
      "dict_keys(['input_ids', 'attention_mask'])\n",
      "Question: What is New York's population?\n",
      "Answer: 8, 804, 190\n",
      "\n",
      "Start: 37\n",
      "Start prob: 99.08%\n",
      "End: 42\n",
      "End prob: 99.08%\n",
      "dict_keys(['input_ids', 'attention_mask'])\n",
      "Question: How many people live in New York's metropolitan area?\n",
      "Answer: 20. 1 million\n",
      "\n",
      "Start: 134\n",
      "Start prob: 55.27%\n",
      "End: 137\n",
      "End prob: 55.27%\n",
      "dict_keys(['input_ids', 'attention_mask'])\n",
      "Question: To what industries is New York a center?\n",
      "Answer: commerce, health care and life sciences, entertainment, research, technology, education, politics, tourism, dining, art, fashion, and sports\n",
      "\n",
      "Start: 188\n",
      "Start prob: 73.29%\n",
      "End: 215\n",
      "End prob: 73.29%\n",
      "dict_keys(['input_ids', 'attention_mask'])\n",
      "Question: What is New York known for?\n",
      "Answer: new york city ( nyc ), is the most populous city in the united states. with a 2020 population of 8, 804, 190 distributed over 300. 46 square miles ( 778. 2 km2 ), new york city is also the most densely populated major city in the united states. located at the southern tip of new york state, the city is based in the eastern time zone and constitutes the geographical and demographic center of both the northeast megalopolis and the new york metropolitan area, the largest metropolitan area in the world by urban landmass. with over 20. 1 million people in its metropolitan statistical area and 23. 5 million in its combined statistical area as of 2020, new york is one of the world's most populous megacities. new york city is a global cultural, financial, and media center\n",
      "\n",
      "Start: 14\n",
      "Start prob: 70.55%\n",
      "End: 180\n",
      "End prob: 70.55%\n",
      "dict_keys(['input_ids', 'attention_mask'])\n",
      "Question: What is New York also called?\n",
      "Answer: new york city\n",
      "\n",
      "Start: 14\n",
      "Start prob: 71.33%\n",
      "End: 16\n",
      "End prob: 71.33%\n",
      "dict_keys(['input_ids', 'attention_mask'])\n",
      "Question: What is New York also sometimes called?\n",
      "Answer: new york city ( nyc\n",
      "\n",
      "Start: 15\n",
      "Start prob: 73.15%\n",
      "End: 19\n",
      "End prob: 73.15%\n",
      "dict_keys(['input_ids', 'attention_mask'])\n",
      "Question: What is New York also sometimes described?\n",
      "Answer: new york city ( nyc\n",
      "\n",
      "Start: 15\n",
      "Start prob: 67.56%\n",
      "End: 19\n",
      "End prob: 67.56%\n",
      "The capybara or greater capybara (Hydrochoerus hydrochaeris) is a giant cavy rodent native to South America. It is the largest living rodent and a member of the genus Hydrochoerus. The only other extant member is the lesser capybara (Hydrochoerus isthmius). Its close relatives include guinea pigs and rock cavies, and it is more distantly related to the agouti, the chinchilla, and the nutria. The capybara inhabits savannas and dense forests and lives near bodies of water. It is a highly social species and can be found in groups as large as 100 individuals, but usually lives in groups of 10–20 individuals. The capybara is hunted for its meat and hide and also for grease from its thick fatty skin. It is not considered a threatened species.\n",
      "dict_keys(['input_ids', 'attention_mask'])\n",
      "Question: What is the scientific name of the capybara?\n",
      "Answer: hydrochoerus hydrochaeris\n",
      "\n",
      "Start: 23\n",
      "Start prob: 48.06%\n",
      "End: 29\n",
      "End prob: 48.06%\n",
      "dict_keys(['input_ids', 'attention_mask'])\n",
      "Question: What family of animals does the capybara belong to?\n",
      "Answer: cavy rodent native to south america. it is the largest living rodent and a member of the genus hydrochoerus\n",
      "\n",
      "Start: 35\n",
      "Start prob: 65.76%\n",
      "End: 59\n",
      "End prob: 65.76%\n",
      "dict_keys(['input_ids', 'attention_mask'])\n",
      "Question: What are close relatives of the capybara?\n",
      "Answer: guinea pigs and rock cavies\n",
      "\n",
      "Start: 83\n",
      "Start prob: 97.92%\n",
      "End: 88\n",
      "End prob: 97.92%\n",
      "dict_keys(['input_ids', 'attention_mask'])\n",
      "Question: What is the size of groups that the capybara lives in?\n",
      "Answer: 10 – 20 individuals\n",
      "\n",
      "Start: 158\n",
      "Start prob: 74.73%\n",
      "End: 161\n",
      "End prob: 74.73%\n",
      "dict_keys(['input_ids', 'attention_mask'])\n",
      "Question: What is the capybara hunted for?\n",
      "Answer: meat and hide\n",
      "\n",
      "Start: 166\n",
      "Start prob: 56.81%\n",
      "End: 168\n",
      "End prob: 56.81%\n",
      "American football (referred to simply as football in the United States and Canada), also known as gridiron, is a team sport played by two teams of eleven players on a rectangular field with goalposts at each end. The offense, the team with possession of the oval-shaped football, attempts to advance down the field by running with the ball or passing it, while the defense, the team without possession of the ball, aims to stop the offense's advance and to take control of the ball for themselves. The offense must advance at least ten yards in four downs or plays; if they fail, they turn over the football to the defense, but if they succeed, they are given a new set of four downs to continue the drive. Points are scored primarily by advancing the ball into the opposing team's end zone for a touchdown or kicking the ball through the opponent's goalposts for a field goal. The team with the most points at the end of a game wins.\n",
      "dict_keys(['input_ids', 'attention_mask'])\n",
      "Question: Under what name is American football also known?\n",
      "Answer: gridiron\n",
      "\n",
      "Start: 30\n",
      "Start prob: 98.45%\n",
      "End: 32\n",
      "End prob: 98.45%\n",
      "dict_keys(['input_ids', 'attention_mask'])\n",
      "Question: How many players are in a team?\n",
      "Answer: eleven\n",
      "\n",
      "Start: 42\n",
      "Start prob: 75.86%\n",
      "End: 42\n",
      "End prob: 75.86%\n",
      "dict_keys(['input_ids', 'attention_mask'])\n",
      "Question: By what means can the offense advance?\n",
      "Answer: running with the ball or passing it\n",
      "\n",
      "Start: 77\n",
      "Start prob: 61.52%\n",
      "End: 83\n",
      "End prob: 61.52%\n",
      "dict_keys(['input_ids', 'attention_mask'])\n",
      "Question: How many yards must a team advance in four downs?\n",
      "Answer: ten\n",
      "\n",
      "Start: 124\n",
      "Start prob: 64.77%\n",
      "End: 124\n",
      "End prob: 64.77%\n",
      "dict_keys(['input_ids', 'attention_mask'])\n",
      "Question: How does a team score points?\n",
      "Answer: advancing the ball into the opposing team's end zone for a touchdown or kicking the ball through the opponent's goalposts for a field goal\n",
      "\n",
      "Start: 165\n",
      "Start prob: 48.44%\n",
      "End: 194\n",
      "End prob: 48.44%\n",
      "dict_keys(['input_ids', 'attention_mask'])\n",
      "Question: How does a team win?\n",
      "Answer: the team with the most points at the end of a game wins\n",
      "\n",
      "Start: 195\n",
      "Start prob: 81.82%\n",
      "End: 207\n",
      "End prob: 81.82%\n"
     ]
    }
   ],
   "source": [
    "import torch.nn.functional as F\n",
    "\n",
    "for i, paragraph in enumerate(paragraphs):\n",
    "    print(paragraph)\n",
    "    for question in questions[i]:    \n",
    "        inputs = tokenizer(question, paragraph, return_tensors=\"pt\")\n",
    "        print(inputs.keys())\n",
    "        with torch.no_grad():\n",
    "            outputs = model(**inputs)\n",
    "        \n",
    "        start_probs = F.softmax(outputs.start_logits[0], dim=-1)\n",
    "        start_prob = start_probs.max().item()\n",
    "        \n",
    "        end_probs = F.softmax(outputs.end_logits[0], dim=-1)\n",
    "        end_prob = start_probs.max().item()\n",
    "        \n",
    "        answer_start_index = torch.argmax(outputs.start_logits)\n",
    "        answer_end_index = torch.argmax(outputs.end_logits)\n",
    "        \n",
    "        predict_answer_tokens = inputs.input_ids[0, answer_start_index : answer_end_index + 1]\n",
    "        answer = tokenizer.decode(predict_answer_tokens)\n",
    "        \n",
    "        print(f\"Question: {question}\")\n",
    "        print(f\"Answer: {answer}\\n\")\n",
    "        print(f\"Start: {answer_start_index}\")\n",
    "        print(f\"Start prob: {start_prob:.2%}\")\n",
    "        print(f\"End: {answer_end_index}\")\n",
    "        print(f\"End prob: {end_prob:.2%}\")"
   ]
  },
  {
   "cell_type": "markdown",
   "id": "0742687d",
   "metadata": {},
   "source": [
    "Some of the answers do not match, which tells us that pipeline's implementation does something different \n",
    "from what we did. Two things to note:\n",
    "1. A different tokenization procedure seems to have been used, as the answer to the first question appears\n",
    "without spaces in the pipeline result, and with spaces for the tokenizer + model output.\n",
    "2. The start/end indices in the pipeline model are the character start/end indices, whereas the indices we\n",
    "computed in the tokenizer + model code are the indices of the input tokens."
   ]
  },
  {
   "cell_type": "markdown",
   "id": "d029fbcd",
   "metadata": {},
   "source": [
    "## Evaluation\n",
    "\n",
    "Evaluation in extractive QA is done by comparing the token-level overlap between the reference answer (sometimes also called *ground truth* or *gold answer*) and the model's answer. We first compute the precision $P$ (\"how many tokens in the model's answer also appear in the reference?\") and the recall $R$ (\"how many tokens in the reference also appear in the model's answer?\"). Their harmonic mean is also called F1 score, which is our evaluation metric.\n",
    "\n",
    "$$\n",
    "\\begin{align}\n",
    "\\text{P} &= \\frac{\\text{number of tokens in both answers}}{\\text{number of tokens in the model's answer}} \\\\\n",
    "\\text{R} &= \\frac{\\text{number of tokens in both answers}}{\\text{number of tokens in the reference answer}} \\\\\n",
    "\\text{F1} &= 2 \\frac{PR}{P + R} \\\\\n",
    "\\end{align}\n",
    "$$\n",
    "\n",
    "**Task:** Define your own solution to three of the questions above, then compute the word-level F1 score for one of the model's answers for each of them. The final result is the average over all questions."
   ]
  },
  {
   "cell_type": "markdown",
   "id": "13f89055",
   "metadata": {},
   "source": [
    "**Answer:**\n",
    "\n",
    "1. Question: To what industries is New York a center?\n",
    "    Gold answer: cultural, financial, and media\n",
    "    Model's answer: financial, and media"
   ]
  },
  {
   "cell_type": "markdown",
   "source": [
    "Precision = 3/3 = 100%\n",
    "Recall = 3/4 = 75%\n"
   ],
   "metadata": {
    "collapsed": false
   },
   "id": "90cd951862986ea8"
  },
  {
   "cell_type": "code",
   "execution_count": 38,
   "outputs": [
    {
     "name": "stdout",
     "output_type": "stream",
     "text": [
      "85.71%\n"
     ]
    }
   ],
   "source": [
    "precision_q1 = 3/3\n",
    "recall_q1 = 3/4\n",
    "f1 = 2 * (precision_q1 * recall_q1) / (precision_q1 + recall_q1)\n",
    "print(f\"{f1:.2%}\")"
   ],
   "metadata": {
    "collapsed": false,
    "ExecuteTime": {
     "end_time": "2024-11-06T14:00:56.757504Z",
     "start_time": "2024-11-06T14:00:56.750761Z"
    }
   },
   "id": "c66db1b9fb3ec595"
  },
  {
   "cell_type": "markdown",
   "source": [
    "2. Question: What is the size of groups that the capybara lives in?\n",
    "    Gold answer: 10-20\n",
    "    Model's answer: 10-20 individuals"
   ],
   "metadata": {
    "collapsed": false
   },
   "id": "98a9e8b33e550358"
  },
  {
   "cell_type": "code",
   "execution_count": 39,
   "outputs": [
    {
     "name": "stdout",
     "output_type": "stream",
     "text": [
      "66.67%\n"
     ]
    }
   ],
   "source": [
    "precision_q2 = 1/2\n",
    "recall_q2 = 1/1\n",
    "f1 = 2 * (precision_q2 * recall_q2) / (precision_q2 + recall_q2)\n",
    "print(f\"{f1:.2%}\")"
   ],
   "metadata": {
    "collapsed": false,
    "ExecuteTime": {
     "end_time": "2024-11-06T14:00:57.107386Z",
     "start_time": "2024-11-06T14:00:57.103337Z"
    }
   },
   "id": "9c2ffade4104aaf6"
  },
  {
   "cell_type": "markdown",
   "source": [
    "2. Question: How does a team score points?\n",
    "    Gold answer: touchdown or field goal\n",
    "    Model's answer: advancing the ball into the opposing team's end zone for a touchdown"
   ],
   "metadata": {
    "collapsed": false
   },
   "id": "309caad50f0508ca"
  },
  {
   "cell_type": "code",
   "execution_count": 40,
   "outputs": [
    {
     "name": "stdout",
     "output_type": "stream",
     "text": [
      "12.50%\n"
     ]
    }
   ],
   "source": [
    "precision_q3 = 1/12\n",
    "recall_q3 = 1/4\n",
    "f1 = 2 * (precision_q3 * recall_q3) / (precision_q3 + recall_q3)\n",
    "print(f\"{f1:.2%}\")"
   ],
   "metadata": {
    "collapsed": false,
    "ExecuteTime": {
     "end_time": "2024-11-06T14:02:17.426501Z",
     "start_time": "2024-11-06T14:02:17.401671Z"
    }
   },
   "id": "9664603356457d35"
  },
  {
   "cell_type": "code",
   "execution_count": null,
   "outputs": [],
   "source": [],
   "metadata": {
    "collapsed": false
   },
   "id": "c3aaa5e93823bf36"
  }
 ],
 "metadata": {
  "kernelspec": {
   "display_name": "Python 3 (ipykernel)",
   "language": "python",
   "name": "python3"
  },
  "language_info": {
   "codemirror_mode": {
    "name": "ipython",
    "version": 3
   },
   "file_extension": ".py",
   "mimetype": "text/x-python",
   "name": "python",
   "nbconvert_exporter": "python",
   "pygments_lexer": "ipython3",
   "version": "3.12.5"
  }
 },
 "nbformat": 4,
 "nbformat_minor": 5
}
