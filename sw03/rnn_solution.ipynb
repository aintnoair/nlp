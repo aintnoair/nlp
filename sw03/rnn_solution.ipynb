{
 "cells": [
  {
   "cell_type": "markdown",
   "id": "d3a1078d",
   "metadata": {},
   "source": [
    "# Recurrent Neural Networks\n",
    "In this exercise, we will implement a simple one-layer recurrent neural network. We will use the formula for an [Elman RNN](https://en.wikipedia.org/wiki/Recurrent_neural_network#Elman_networks_and_Jordan_networks), one of the most basic and classical RNNs. The hidden state update and output at time $t$ are defined like this:\n",
    "\n",
    "$$\n",
    "\\begin{align}\n",
    "h_t &= \\tanh(W_h x_t + U_h h_{t-1} + b_h) \\\\\n",
    "y_t &= \\tanh(W_y h_t + b_y)\n",
    "\\end{align}\n",
    "$$"
   ]
  },
  {
   "cell_type": "code",
   "execution_count": 1,
   "id": "cd53e848",
   "metadata": {},
   "outputs": [],
   "source": [
    "import torch\n",
    "import torch.nn as nn"
   ]
  },
  {
   "cell_type": "markdown",
   "id": "96717180",
   "metadata": {},
   "source": [
    "We start by defining the RNN as a subclass of `nn.Module`. The network's parameters are created in the `__init__` method. Use `input_dim`, `hidden_dim` and `output_dim` as arguments that define the dimensionality of the input/hidden/output vectors. Define your parameters as `nn.Parameter` with the appropriate dimensions. The documentation of `torch.nn` can be found [here](https://pytorch.org/docs/stable/nn.html)."
   ]
  },
  {
   "cell_type": "code",
   "execution_count": 2,
   "id": "3046a484",
   "metadata": {},
   "outputs": [],
   "source": [
    "class RNN(nn.Module):\n",
    "    \n",
    "    def __init__(self, input_dim, hidden_dim, output_dim):\n",
    "        super().__init__()  # run the nn.Module init\n",
    "        self.input_dim = input_dim\n",
    "        self.hidden_dim = hidden_dim\n",
    "        self.w_h = nn.Parameter(torch.zeros(hidden_dim, input_dim))\n",
    "        self.u_h = nn.Parameter(torch.zeros(hidden_dim, hidden_dim))\n",
    "        self.b_h = nn.Parameter(torch.zeros(hidden_dim))\n",
    "        self.w_y = nn.Parameter(torch.empty(output_dim, hidden_dim))  # can also use torch.empty\n",
    "        self.b_y = nn.Parameter(torch.zeros(output_dim))"
   ]
  },
  {
   "cell_type": "markdown",
   "id": "2f1d42c7",
   "metadata": {},
   "source": [
    "Add a function `reset_parameters` that initializes your parameters. Pick a suitable distribution from [nn.init](https://pytorch.org/docs/stable/nn.init.html)."
   ]
  },
  {
   "cell_type": "code",
   "execution_count": 3,
   "id": "0f7f786e",
   "metadata": {},
   "outputs": [],
   "source": [
    "import math\n",
    "\n",
    "def reset_parameters(self):\n",
    "    # PyTorch's RNN initialization\n",
    "    stdv = 1.0 / math.sqrt(self.hidden_dim)\n",
    "    for weight in self.parameters():\n",
    "        nn.init.uniform_(weight, -stdv, stdv)\n",
    "\n",
    "RNN.reset_parameters = reset_parameters"
   ]
  },
  {
   "cell_type": "markdown",
   "id": "b2f8081d",
   "metadata": {},
   "source": [
    "Add a `forward` function that takes an input and the previous hidden state $h_{t-1}$ and returns the updated hidden state $h_t$ and output $y$ as outputs."
   ]
  },
  {
   "cell_type": "code",
   "execution_count": 4,
   "id": "be12dc16",
   "metadata": {},
   "outputs": [],
   "source": [
    "def forward(self, x, hidden_state):\n",
    "    hidden_state = torch.tanh(\n",
    "        torch.matmul(self.w_h, x)\n",
    "        + torch.matmul(self.u_h, hidden_state)\n",
    "        + self.b_h\n",
    "    )\n",
    "    y = torch.tanh(torch.matmul(self.w_y, hidden_state) + self.b_y)\n",
    "    return y, hidden_state\n",
    "\n",
    "RNN.forward = forward"
   ]
  },
  {
   "cell_type": "markdown",
   "id": "79bfa8a9",
   "metadata": {},
   "source": [
    "Test your RNN with a single input. The initial hidden state $h_0$ can be initialized randomly/to all zeros."
   ]
  },
  {
   "cell_type": "code",
   "execution_count": 5,
   "id": "8521f93b",
   "metadata": {},
   "outputs": [
    {
     "name": "stdout",
     "output_type": "stream",
     "text": [
      "y shape: torch.Size([10])\n",
      "y: tensor([-0.0942,  0.2157, -0.1932, -0.0863,  0.2586, -0.2111, -0.3795, -0.1257,\n",
      "        -0.0737,  0.0977], grad_fn=<TanhBackward0>)\n",
      "h shape: torch.Size([20])\n"
     ]
    }
   ],
   "source": [
    "input_dim = 5\n",
    "hidden_dim = 20\n",
    "output_dim = 10\n",
    "rnn = RNN(input_dim, hidden_dim, output_dim)\n",
    "rnn.reset_parameters()  # initialize parameters\n",
    "x = torch.randn(input_dim)\n",
    "h0 = torch.zeros(hidden_dim)\n",
    "y, new_hidden_state = rnn(x, h0)\n",
    "print('y shape:', y.shape)\n",
    "print('y:', y)\n",
    "print('h shape:', new_hidden_state.shape)"
   ]
  },
  {
   "cell_type": "markdown",
   "id": "bcbd792b",
   "metadata": {},
   "source": [
    "Now create an input sequence and run it through your RNN."
   ]
  },
  {
   "cell_type": "code",
   "execution_count": 6,
   "id": "f7570b70",
   "metadata": {},
   "outputs": [
    {
     "name": "stdout",
     "output_type": "stream",
     "text": [
      "Final output shape: torch.Size([10])\n",
      "Final output: tensor([ 0.2384,  0.0625, -0.2640, -0.0279, -0.1201, -0.1379, -0.2457, -0.1157,\n",
      "         0.0913,  0.1543], grad_fn=<TanhBackward0>)\n",
      "Final hidden state shape: torch.Size([20])\n",
      "Final hidden state: tensor([-0.4002,  0.3011,  0.1140,  0.1071, -0.2995,  0.0858,  0.3285,  0.1874,\n",
      "         0.5416,  0.4066,  0.3935, -0.4461,  0.2086, -0.2570, -0.1168,  0.0769,\n",
      "         0.1403,  0.0268, -0.2610, -0.3753], grad_fn=<TanhBackward0>)\n"
     ]
    }
   ],
   "source": [
    "seq_length = 4\n",
    "inputs = [torch.randn(input_dim) for _ in range(seq_length)]\n",
    "hidden_state = h0\n",
    "outputs = []\n",
    "for x in inputs:\n",
    "    y, new_hidden_state = rnn(x, hidden_state)\n",
    "    outputs.append(y)\n",
    "    hidden_state = new_hidden_state\n",
    "print('Final output shape:', y.shape)\n",
    "print('Final output:', y)\n",
    "print('Final hidden state shape:', hidden_state.shape)\n",
    "print('Final hidden state:', hidden_state)"
   ]
  },
  {
   "cell_type": "markdown",
   "id": "9c258a2f",
   "metadata": {},
   "source": [
    "The final hidden state encodes all the information present in the input sequence. It can be used as a feature for classification, or to initialize a decoder RNN to do translation, for example.\n",
    "\n",
    "Now look at PyTorch's documentation for the [`nn.RNN`](https://pytorch.org/docs/stable/generated/torch.nn.RNN.html) and the [`nn.RNNCell`](https://pytorch.org/docs/stable/generated/torch.nn.RNNCell.html) classes. What is the difference between the two? What is the difference to the definition from Wikipedia we used above? Run your input sequence through both the `nn.RNN` and the `nn.RNNCell`."
   ]
  },
  {
   "cell_type": "code",
   "execution_count": 7,
   "id": "7c5ce3f8",
   "metadata": {},
   "outputs": [
    {
     "name": "stdout",
     "output_type": "stream",
     "text": [
      "RNN cell output: 4 torch.Size([20])\n",
      "RNN output: torch.Size([4, 20])\n"
     ]
    }
   ],
   "source": [
    "# RNNCell is only the hidden state update\n",
    "rnn_cell = nn.RNNCell(input_dim, hidden_dim)\n",
    "x = torch.randn(seq_length, input_dim)\n",
    "hx = torch.randn(hidden_dim)\n",
    "output = []\n",
    "for i in range(seq_length):\n",
    "    hx = rnn_cell(x[i], hx)\n",
    "    output.append(hx)\n",
    "print('RNN cell output:', len(output), output[0].shape)\n",
    "    \n",
    "# RNN automatically handles the sequence as well\n",
    "num_layers = 1\n",
    "torch_rnn = nn.RNN(input_dim, hidden_dim, num_layers)\n",
    "x = torch.randn(seq_length, input_dim)\n",
    "h0 = torch.randn(num_layers, hidden_dim)\n",
    "output, hn = torch_rnn(x, h0)\n",
    "print('RNN output:', output.shape)"
   ]
  }
 ],
 "metadata": {
  "kernelspec": {
   "display_name": "Python 3 (ipykernel)",
   "language": "python",
   "name": "python3"
  },
  "language_info": {
   "codemirror_mode": {
    "name": "ipython",
    "version": 3
   },
   "file_extension": ".py",
   "mimetype": "text/x-python",
   "name": "python",
   "nbconvert_exporter": "python",
   "pygments_lexer": "ipython3",
   "version": "3.12.5"
  }
 },
 "nbformat": 4,
 "nbformat_minor": 5
}
