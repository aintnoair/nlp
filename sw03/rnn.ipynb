{
 "cells": [
  {
   "cell_type": "markdown",
   "id": "d3a1078d",
   "metadata": {},
   "source": [
    "# Recurrent Neural Networks\n",
    "In this exercise, we will implement a simple one-layer recurrent neural network. We will use the formula for an [Elman RNN](https://en.wikipedia.org/wiki/Recurrent_neural_network#Elman_networks_and_Jordan_networks), one of the most basic and classical RNNs. The hidden state update and output at time $t$ are defined like this:\n",
    "\n",
    "$$\n",
    "\\begin{align}\n",
    "h_t &= \\tanh(W_h x_t + U_h h_{t-1} + b_h) \\\\\n",
    "y_t &= \\tanh(W_y h_t + b_y)\n",
    "\\end{align}\n",
    "$$"
   ]
  },
  {
   "cell_type": "code",
   "execution_count": 1,
   "id": "cd53e848",
   "metadata": {
    "ExecuteTime": {
     "end_time": "2024-10-02T11:48:51.679702Z",
     "start_time": "2024-10-02T11:48:50.627166Z"
    }
   },
   "outputs": [],
   "source": [
    "import torch\n",
    "import torch.nn as nn"
   ]
  },
  {
   "cell_type": "markdown",
   "id": "96717180",
   "metadata": {},
   "source": [
    "We start by defining the RNN as a subclass of `nn.Module`. The network's parameters are created in the `__init__` method. Use `input_dim`, `hidden_dim` and `output_dim` as arguments that define the dimensionality of the input/hidden/output vectors. Define your parameters as `nn.Parameter` with the appropriate dimensions. The documentation of `torch.nn` can be found [here](https://pytorch.org/docs/stable/nn.html)."
   ]
  },
  {
   "cell_type": "code",
   "execution_count": 37,
   "id": "3046a484",
   "metadata": {
    "ExecuteTime": {
     "end_time": "2024-10-02T12:55:51.635675Z",
     "start_time": "2024-10-02T12:55:51.621879Z"
    }
   },
   "outputs": [],
   "source": [
    "class RNN(nn.Module):\n",
    "    def __init__(self, input_dim, hidden_dim, output_dim):\n",
    "        super().__init__()\n",
    "        \n",
    "        self.input_dim = input_dim\n",
    "        self.hidden_dim = hidden_dim\n",
    "        self.output_dim = output_dim\n",
    "        \n",
    "        self.W_h = nn.Parameter(torch.randn(hidden_dim, input_dim))  # Weight matrix for input to hidden state\n",
    "        self.U_h = nn.Parameter(torch.randn(hidden_dim, hidden_dim))  # Weight matrix for hidden to hidden state\n",
    "        self.b_h = nn.Parameter(torch.zeros(hidden_dim))  # Bias for hidden state\n",
    "        \n",
    "        self.W_y = nn.Parameter(torch.randn(output_dim, hidden_dim))  # Weight matrix for hidden to output state\n",
    "        self.b_y = nn.Parameter(torch.zeros(output_dim))  # Bias for output state\n",
    "        \n",
    "    def reset_parameters(self):\n",
    "        for weight in self.parameters():\n",
    "            nn.init.uniform(weight, -1, 1)\n",
    "        \n",
    "    def forward(self, x, h_previous):\n",
    "        h_t = torch.tanh(self.W_h @ x + self.U_h @ h_previous + self.b_h)\n",
    "        y_t = torch.tanh(self.W_y @ h_t + self.b_y)\n",
    "        \n",
    "        return y_t, h_t\n",
    "        "
   ]
  },
  {
   "cell_type": "markdown",
   "id": "2f1d42c7",
   "metadata": {},
   "source": [
    "Add a function `reset_parameters` that initializes your parameters. Pick a suitable distribution from [nn.init](https://pytorch.org/docs/stable/nn.init.html)."
   ]
  },
  {
   "cell_type": "code",
   "execution_count": 37,
   "id": "0f7f786e",
   "metadata": {
    "ExecuteTime": {
     "end_time": "2024-10-02T12:55:51.943077Z",
     "start_time": "2024-10-02T12:55:51.940231Z"
    }
   },
   "outputs": [],
   "source": []
  },
  {
   "cell_type": "markdown",
   "id": "b2f8081d",
   "metadata": {},
   "source": [
    "Add a `forward` function that takes an input and a starting hidden state $h_{t-1}$ and returns the updated hidden state $h_t$ and output $y$ as outputs. The initial hidden state $h_0$ can be initialized randomly/to all zeros."
   ]
  },
  {
   "cell_type": "code",
   "execution_count": 37,
   "id": "be12dc16",
   "metadata": {
    "ExecuteTime": {
     "end_time": "2024-10-02T12:55:52.310781Z",
     "start_time": "2024-10-02T12:55:52.308105Z"
    }
   },
   "outputs": [],
   "source": []
  },
  {
   "cell_type": "markdown",
   "id": "79bfa8a9",
   "metadata": {},
   "source": [
    "Test your RNN with a single input."
   ]
  },
  {
   "cell_type": "code",
   "execution_count": 40,
   "id": "8521f93b",
   "metadata": {
    "ExecuteTime": {
     "end_time": "2024-10-02T12:56:10.222978Z",
     "start_time": "2024-10-02T12:56:10.207564Z"
    }
   },
   "outputs": [
    {
     "name": "stdout",
     "output_type": "stream",
     "text": [
      "tensor([-1.0000, -0.9990,  1.0000,  1.0000,  0.9927, -1.0000,  1.0000,  1.0000,\n",
      "         0.6235,  0.9701], grad_fn=<TanhBackward0>)\n",
      "tensor([ 1.0000,  0.9682,  1.0000, -1.0000,  1.0000, -0.9999, -0.9948, -0.9818,\n",
      "        -0.9997,  0.8280,  1.0000,  0.9997,  1.0000,  1.0000,  0.9999,  1.0000,\n",
      "         1.0000, -1.0000, -0.9995,  0.9982,  0.9999,  1.0000, -1.0000,  0.9106,\n",
      "        -0.9234,  0.9924, -0.9999, -0.9977, -0.5818,  1.0000, -1.0000,  1.0000,\n",
      "         1.0000,  1.0000, -0.1461, -0.7147,  0.9377,  0.9633,  1.0000,  0.9998,\n",
      "         0.9904,  1.0000, -0.9965, -1.0000,  1.0000, -0.6506,  0.2831, -1.0000,\n",
      "         1.0000,  0.9994, -1.0000, -0.9972, -1.0000,  1.0000, -0.5986,  1.0000,\n",
      "        -1.0000,  0.9998, -0.7417, -0.9985,  0.9891,  1.0000,  0.9832, -0.8445,\n",
      "        -1.0000,  1.0000, -1.0000, -0.9122, -1.0000, -0.9999,  0.9995, -0.7235,\n",
      "        -1.0000, -1.0000,  1.0000,  1.0000,  1.0000,  1.0000,  1.0000,  1.0000,\n",
      "        -0.9980,  1.0000, -0.9993,  1.0000,  1.0000, -0.9917, -0.4566,  0.9984,\n",
      "         1.0000,  1.0000,  1.0000, -0.9517, -0.9999, -0.9813,  0.8125, -0.0652,\n",
      "        -0.9970,  0.9211, -1.0000, -0.9997,  0.9995,  1.0000,  0.9988, -1.0000,\n",
      "        -1.0000,  0.9969, -1.0000, -1.0000,  1.0000,  1.0000, -0.9859,  0.9999,\n",
      "        -0.9362, -0.9996,  1.0000,  0.9990, -1.0000,  1.0000,  1.0000, -1.0000,\n",
      "        -1.0000, -0.9984,  1.0000,  0.9311, -1.0000, -1.0000,  1.0000, -1.0000],\n",
      "       grad_fn=<TanhBackward0>)\n"
     ]
    }
   ],
   "source": [
    "net_input_dim = 100\n",
    "net_hidden_dim = 128\n",
    "net_output_dim = 10\n",
    "\n",
    "net_rnn = RNN(net_input_dim, net_hidden_dim, net_output_dim)\n",
    "\n",
    "test_input = torch.randn(net_input_dim)\n",
    "hidden_input = torch.zeros(net_hidden_dim)\n",
    "\n",
    "y, h = net_rnn(test_input, hidden_input)\n",
    "print(y)\n",
    "print(h)"
   ]
  },
  {
   "cell_type": "markdown",
   "id": "bcbd792b",
   "metadata": {},
   "source": [
    "Now create an input sequence and run it through your RNN."
   ]
  },
  {
   "cell_type": "code",
   "execution_count": 41,
   "id": "f7570b70",
   "metadata": {
    "ExecuteTime": {
     "end_time": "2024-10-02T12:56:12.392352Z",
     "start_time": "2024-10-02T12:56:12.383605Z"
    }
   },
   "outputs": [
    {
     "name": "stdout",
     "output_type": "stream",
     "text": [
      "10\n",
      "torch.Size([10])\n"
     ]
    }
   ],
   "source": [
    "sequence_size = 10\n",
    "test_sequence = torch.randn(sequence_size, net_input_dim)\n",
    "\n",
    "outputs = []\n",
    "h = hidden_input\n",
    "for x in test_sequence:\n",
    "    y, h = net_rnn(x, h)\n",
    "    outputs.append(y)\n",
    "\n",
    "print(len(outputs))\n",
    "print(outputs[0].shape)"
   ]
  },
  {
   "cell_type": "markdown",
   "id": "9c258a2f",
   "metadata": {},
   "source": [
    "The final hidden state encodes all the information present in the input sequence. It can be used as a feature for classification, or to initialize a decoder RNN to do translation, for example.\n",
    "\n",
    "Now look at PyTorch's documentation for the [`nn.RNN`](https://pytorch.org/docs/stable/generated/torch.nn.RNN.html) and the [`nn.RNNCell`](https://pytorch.org/docs/stable/generated/torch.nn.RNNCell.html) classes. What is the difference between the two? What is the difference to the definition from Wikipedia we used above? Run your input sequence through both the `nn.RNN` and the `nn.RNNCell`."
   ]
  },
  {
   "cell_type": "code",
   "execution_count": null,
   "id": "7c5ce3f8",
   "metadata": {},
   "outputs": [],
   "source": []
  }
 ],
 "metadata": {
  "kernelspec": {
   "display_name": "Python 3 (ipykernel)",
   "language": "python",
   "name": "python3"
  },
  "language_info": {
   "codemirror_mode": {
    "name": "ipython",
    "version": 3
   },
   "file_extension": ".py",
   "mimetype": "text/x-python",
   "name": "python",
   "nbconvert_exporter": "python",
   "pygments_lexer": "ipython3",
   "version": "3.12.5"
  }
 },
 "nbformat": 4,
 "nbformat_minor": 5
}
