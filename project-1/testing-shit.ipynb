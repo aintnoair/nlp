{
 "cells": [
  {
   "cell_type": "markdown",
   "id": "2af98235081195f5",
   "metadata": {
    "collapsed": false
   },
   "source": [
    "# NLP - Word Embeddings - Pascal Thürig"
   ]
  },
  {
   "cell_type": "markdown",
   "source": [
    "## Introduction\n",
    "Starting point for this project is the following key requirements:\n",
    "1. Use the BoolQ Dataset from Hugging Face\n",
    "2. Use pre-trained model for word embeddings (word2vec, GloVe or fastText)\n",
    "3. Train a 2-layer classifier with ReLU non-linearity\n",
    "\n",
    "In this project I will be using pre-trained embeddings from word2vec and a simple 2-layer neural network to do the reading comprehension task on the BoolQ dataset.\n",
    "I will document every decision made, from preprocessing to model training and evaluation. The goal is to classify each BoolQ question-answer pair as either 'Yes' or 'No'."
   ],
   "metadata": {
    "collapsed": false
   },
   "id": "bc0b9a787988edcb"
  },
  {
   "cell_type": "markdown",
   "source": [
    "## Setup\n",
    "Importing necessary libraries:\n",
    "- datasets\n",
    "- gensim\n",
    "- transformers\n",
    "- numpy\n",
    "- torch\n",
    "- wandb\n",
    "- sklearn"
   ],
   "metadata": {
    "collapsed": false
   },
   "id": "7923605f52ff9399"
  },
  {
   "cell_type": "markdown",
   "source": [
    "First up the BoolQ dataset is loaded"
   ],
   "metadata": {
    "collapsed": false
   },
   "id": "f7004488f0ec3eb3"
  },
  {
   "cell_type": "code",
   "execution_count": null,
   "outputs": [],
   "source": [
    "# dataset import"
   ],
   "metadata": {
    "collapsed": false
   },
   "id": "290a1930d5aa00db"
  },
  {
   "cell_type": "markdown",
   "source": [
    "For easy access I like to define the model parameters at the top of my notebooks"
   ],
   "metadata": {
    "collapsed": false
   },
   "id": "d5e81ed52db754a8"
  },
  {
   "cell_type": "code",
   "execution_count": null,
   "outputs": [],
   "source": [
    "# model parameters go here"
   ],
   "metadata": {
    "collapsed": false
   },
   "id": "27891755da01cbdd"
  },
  {
   "cell_type": "markdown",
   "source": [
    "Now the pre-trained embeddings are downloaded to the project dir, or loaded if already present"
   ],
   "metadata": {
    "collapsed": false
   },
   "id": "8ac159201e4f8349"
  },
  {
   "cell_type": "code",
   "execution_count": null,
   "outputs": [],
   "source": [
    "# (down-)load word2vec - word2vec-google-news-300"
   ],
   "metadata": {
    "collapsed": false
   },
   "id": "ca7cd134842c8958"
  },
  {
   "cell_type": "markdown",
   "source": [
    "## Preprocessing\n",
    "\n",
    "The BoolQ data will be processed in the following way:\n",
    "1. Tokenizing the input questions and passages using a subword tokenizer\n",
    "2. Lowercasing the text for simplicity and to reduce the total vocabulary size\n",
    "4. Removing stop words (as this is commonly done for nlp tasks [source article]()\n",
    "5. Truncating the input text tot a maximum of 512 tokens\n",
    "6. Padding the sequences to ensure all inputs have the same length in each batch\n",
    "\n",
    "**TLDR: Decisions for Preprocessing**\n",
    "- Tokenize with subword tokenizer\n",
    "- Lowercase everything\n",
    "- Removing stop words\n",
    "- Truncate to max length of 512 tokens\n",
    "- Padding sequences to consistent length"
   ],
   "metadata": {
    "collapsed": false
   },
   "id": "f45ae072eeb522f9"
  },
  {
   "cell_type": "markdown",
   "source": [
    "1. Tokenize using the AutoTokenizer for subword tokenization "
   ],
   "metadata": {
    "collapsed": false
   },
   "id": "80e5c0360f3733c8"
  },
  {
   "cell_type": "code",
   "execution_count": null,
   "outputs": [],
   "source": [
    "# tokenize w/ AutoTokenizer.from_pretrained(\"bert-base-uncased\")"
   ],
   "metadata": {
    "collapsed": false
   },
   "id": "33f5bbffdb41ff92"
  },
  {
   "cell_type": "markdown",
   "source": [],
   "metadata": {
    "collapsed": false
   },
   "id": "4afb45d935e577dc"
  },
  {
   "cell_type": "code",
   "execution_count": null,
   "outputs": [],
   "source": [],
   "metadata": {
    "collapsed": false
   },
   "id": "f8718b756b58eb0f"
  },
  {
   "cell_type": "markdown",
   "source": [],
   "metadata": {
    "collapsed": false
   },
   "id": "b668490c2f22c73e"
  },
  {
   "cell_type": "code",
   "execution_count": null,
   "outputs": [],
   "source": [],
   "metadata": {
    "collapsed": false
   },
   "id": "da27021cbde658ea"
  },
  {
   "cell_type": "markdown",
   "source": [
    "## Model\n"
   ],
   "metadata": {
    "collapsed": false
   },
   "id": "41588a415c4a9457"
  },
  {
   "cell_type": "markdown",
   "source": [
    "## Training\n"
   ],
   "metadata": {
    "collapsed": false
   },
   "id": "b51ec1f99091f2bf"
  },
  {
   "cell_type": "markdown",
   "source": [
    "## Evaluation\n"
   ],
   "metadata": {
    "collapsed": false
   },
   "id": "cc1ab994789284b0"
  },
  {
   "cell_type": "markdown",
   "source": [
    "## Interpretation\n"
   ],
   "metadata": {
    "collapsed": false
   },
   "id": "60dffd5636dc69ec"
  },
  {
   "cell_type": "markdown",
   "source": [],
   "metadata": {
    "collapsed": false
   },
   "id": "a9b96486a85e80c9"
  },
  {
   "cell_type": "markdown",
   "source": [],
   "metadata": {
    "collapsed": false
   },
   "id": "ea9950e307d08fda"
  },
  {
   "cell_type": "markdown",
   "source": [],
   "metadata": {
    "collapsed": false
   },
   "id": "4c4bbbd6c5b7821e"
  },
  {
   "cell_type": "code",
   "execution_count": null,
   "id": "a7d15ded-f6ec-4ccb-8a7c-7718d161c8bf",
   "metadata": {
    "ExecuteTime": {
     "end_time": "2024-09-29T12:25:51.835253Z",
     "start_time": "2024-09-29T12:25:51.830430Z"
    }
   },
   "outputs": [],
   "source": []
  },
  {
   "cell_type": "code",
   "execution_count": null,
   "id": "506b645f-848a-4316-961b-f0e3aa4724e6",
   "metadata": {
    "ExecuteTime": {
     "end_time": "2024-09-29T12:25:51.838256Z",
     "start_time": "2024-09-29T12:25:51.834655Z"
    }
   },
   "outputs": [],
   "source": []
  },
  {
   "cell_type": "code",
   "execution_count": null,
   "id": "bb1f664e-5649-4da6-97e3-b1cd00359ea0",
   "metadata": {
    "ExecuteTime": {
     "end_time": "2024-09-29T12:25:51.838425Z",
     "start_time": "2024-09-29T12:25:51.834936Z"
    }
   },
   "outputs": [],
   "source": []
  },
  {
   "cell_type": "code",
   "execution_count": null,
   "id": "1c09ebde-73e4-4981-b0d3-b69989dae360",
   "metadata": {
    "ExecuteTime": {
     "end_time": "2024-09-29T12:25:51.841062Z",
     "start_time": "2024-09-29T12:25:51.837988Z"
    }
   },
   "outputs": [],
   "source": []
  },
  {
   "cell_type": "code",
   "execution_count": null,
   "id": "64c9366e-f4b8-4543-8a2e-246ad9411678",
   "metadata": {
    "ExecuteTime": {
     "end_time": "2024-09-29T12:25:51.841410Z",
     "start_time": "2024-09-29T12:25:51.839551Z"
    }
   },
   "outputs": [],
   "source": []
  },
  {
   "cell_type": "code",
   "execution_count": null,
   "id": "711a9b6e-b821-406b-a77e-65817a56b52f",
   "metadata": {
    "ExecuteTime": {
     "end_time": "2024-09-29T12:25:51.854372Z",
     "start_time": "2024-09-29T12:25:51.841802Z"
    }
   },
   "outputs": [],
   "source": []
  },
  {
   "cell_type": "code",
   "execution_count": null,
   "id": "d536696d-09ff-45d9-8f6c-9518c4bc36b4",
   "metadata": {
    "ExecuteTime": {
     "end_time": "2024-09-29T12:25:51.854712Z",
     "start_time": "2024-09-29T12:25:51.844351Z"
    }
   },
   "outputs": [],
   "source": []
  },
  {
   "cell_type": "code",
   "execution_count": null,
   "id": "e57d7f61-cf3c-464b-afe5-c13e664499f2",
   "metadata": {
    "ExecuteTime": {
     "end_time": "2024-09-29T12:25:51.854831Z",
     "start_time": "2024-09-29T12:25:51.846709Z"
    }
   },
   "outputs": [],
   "source": []
  },
  {
   "cell_type": "code",
   "execution_count": null,
   "id": "e80a9dc6-8eae-4416-8964-69d4779b22eb",
   "metadata": {
    "ExecuteTime": {
     "end_time": "2024-09-29T12:25:51.854960Z",
     "start_time": "2024-09-29T12:25:51.849467Z"
    }
   },
   "outputs": [],
   "source": []
  },
  {
   "cell_type": "code",
   "execution_count": null,
   "id": "636a6da4-484b-4b26-aafc-575436b2da74",
   "metadata": {
    "ExecuteTime": {
     "end_time": "2024-09-29T12:25:51.857229Z",
     "start_time": "2024-09-29T12:25:51.854569Z"
    }
   },
   "outputs": [],
   "source": []
  },
  {
   "cell_type": "code",
   "execution_count": null,
   "id": "212ae18f-d872-4892-9600-acb7deff9f38",
   "metadata": {
    "ExecuteTime": {
     "end_time": "2024-09-29T12:25:51.857443Z",
     "start_time": "2024-09-29T12:25:51.856179Z"
    }
   },
   "outputs": [],
   "source": []
  },
  {
   "cell_type": "code",
   "execution_count": null,
   "id": "6fd6ddbe-e0b1-4fe9-9afb-b34128033fe8",
   "metadata": {
    "ExecuteTime": {
     "end_time": "2024-09-29T12:25:51.874913Z",
     "start_time": "2024-09-29T12:25:51.858013Z"
    }
   },
   "outputs": [],
   "source": []
  },
  {
   "cell_type": "code",
   "execution_count": null,
   "id": "c4134b0d-40ce-4426-9ede-2a4d7cc389a6",
   "metadata": {
    "ExecuteTime": {
     "end_time": "2024-09-29T12:25:51.875134Z",
     "start_time": "2024-09-29T12:25:51.859281Z"
    }
   },
   "outputs": [],
   "source": []
  },
  {
   "cell_type": "code",
   "execution_count": null,
   "id": "28508f16-8023-4957-a1c5-7c080796e456",
   "metadata": {
    "ExecuteTime": {
     "end_time": "2024-09-29T12:25:51.875241Z",
     "start_time": "2024-09-29T12:25:51.861521Z"
    }
   },
   "outputs": [],
   "source": []
  },
  {
   "cell_type": "code",
   "execution_count": null,
   "id": "057b0cbf-15c6-409c-9d0a-dd1165cf02ad",
   "metadata": {
    "ExecuteTime": {
     "end_time": "2024-09-29T12:25:51.875328Z",
     "start_time": "2024-09-29T12:25:51.863368Z"
    }
   },
   "outputs": [],
   "source": []
  },
  {
   "cell_type": "code",
   "execution_count": null,
   "id": "a28e93ca-fdaf-4314-862f-fe58f6a7bd23",
   "metadata": {
    "ExecuteTime": {
     "end_time": "2024-09-29T12:25:51.875417Z",
     "start_time": "2024-09-29T12:25:51.866853Z"
    }
   },
   "outputs": [],
   "source": []
  },
  {
   "cell_type": "code",
   "execution_count": null,
   "id": "a3c3af4d-a9b0-42d4-abd6-49f648fb2aeb",
   "metadata": {
    "ExecuteTime": {
     "end_time": "2024-09-29T12:25:51.875812Z",
     "start_time": "2024-09-29T12:25:51.869060Z"
    }
   },
   "outputs": [],
   "source": []
  },
  {
   "cell_type": "code",
   "execution_count": null,
   "id": "424f5cae-e90f-4d07-8196-71f1a1282df0",
   "metadata": {
    "ExecuteTime": {
     "end_time": "2024-09-29T12:25:51.875923Z",
     "start_time": "2024-09-29T12:25:51.871305Z"
    }
   },
   "outputs": [],
   "source": []
  },
  {
   "cell_type": "code",
   "execution_count": null,
   "id": "93980bf1-6bba-4de2-9f79-47875622ac7b",
   "metadata": {
    "ExecuteTime": {
     "end_time": "2024-09-29T12:25:51.876006Z",
     "start_time": "2024-09-29T12:25:51.873269Z"
    }
   },
   "outputs": [],
   "source": []
  }
 ],
 "metadata": {
  "kernelspec": {
   "display_name": "Python 3 (ipykernel)",
   "language": "python",
   "name": "python3"
  },
  "language_info": {
   "codemirror_mode": {
    "name": "ipython",
    "version": 3
   },
   "file_extension": ".py",
   "mimetype": "text/x-python",
   "name": "python",
   "nbconvert_exporter": "python",
   "pygments_lexer": "ipython3",
   "version": "3.11.9"
  }
 },
 "nbformat": 4,
 "nbformat_minor": 5
}
