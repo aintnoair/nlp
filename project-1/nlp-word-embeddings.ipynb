{
 "cells": [
  {
   "cell_type": "markdown",
   "id": "2af98235081195f5",
   "metadata": {
    "collapsed": false
   },
   "source": [
    "# NLP Project - Word Embeddings"
   ]
  },
  {
   "cell_type": "code",
   "execution_count": 1,
   "id": "a7d15ded-f6ec-4ccb-8a7c-7718d161c8bf",
   "metadata": {
    "ExecuteTime": {
     "end_time": "2024-10-05T09:23:42.792932Z",
     "start_time": "2024-10-05T09:23:40.310567Z"
    }
   },
   "outputs": [],
   "source": [
    "from datasets import load_dataset\n",
    "import gensim.downloader as api\n",
    "import gensim\n",
    "import nltk\n",
    "import numpy as np\n",
    "import torch\n",
    "import torch.nn as nn\n",
    "import torch.optim as optim\n",
    "from torch.utils.data import DataLoader, Dataset\n",
    "import wandb"
   ]
  },
  {
   "cell_type": "code",
   "execution_count": 2,
   "id": "506b645f-848a-4316-961b-f0e3aa4724e6",
   "metadata": {
    "ExecuteTime": {
     "end_time": "2024-10-05T09:23:51.286321Z",
     "start_time": "2024-10-05T09:23:42.794135Z"
    }
   },
   "outputs": [
    {
     "name": "stdout",
     "output_type": "stream",
     "text": [
      "{'question': 'do iran and afghanistan speak the same language', 'answer': True, 'passage': 'Persian (/ˈpɜːrʒən, -ʃən/), also known by its endonym Farsi (فارسی fārsi (fɒːɾˈsiː) ( listen)), is one of the Western Iranian languages within the Indo-Iranian branch of the Indo-European language family. It is primarily spoken in Iran, Afghanistan (officially known as Dari since 1958), and Tajikistan (officially known as Tajiki since the Soviet era), and some other regions which historically were Persianate societies and considered part of Greater Iran. It is written in the Persian alphabet, a modified variant of the Arabic script, which itself evolved from the Aramaic alphabet.'}\n",
      "Number of training samples: 8427\n",
      "Number of validation samples: 1000\n",
      "Number of validation samples: 3270\n"
     ]
    }
   ],
   "source": [
    "# Load the BoolQ dataset\n",
    "dataset = load_dataset('google/boolq')\n",
    "train_data = load_dataset(\"google/boolq\", split=\"train[:-1000]\")\n",
    "validation_data = load_dataset(\"google/boolq\", split=\"train[-1000:]\")\n",
    "test_data = load_dataset(\"google/boolq\", split=\"validation\")\n",
    "\n",
    "print(train_data[0])\n",
    "print(f\"Number of training samples: {len(train_data)}\")\n",
    "print(f\"Number of validation samples: {len(validation_data)}\")\n",
    "print(f\"Number of validation samples: {len(test_data)}\")"
   ]
  },
  {
   "cell_type": "code",
   "execution_count": 3,
   "id": "bb1f664e-5649-4da6-97e3-b1cd00359ea0",
   "metadata": {
    "ExecuteTime": {
     "end_time": "2024-10-05T09:23:51.298725Z",
     "start_time": "2024-10-05T09:23:51.287241Z"
    }
   },
   "outputs": [],
   "source": [
    "# Define model and training parameters\n",
    "model_name = \"word2vec-google-news-300\"\n",
    "model_path = \"word2vec_google_news_300.model\"\n",
    "batch_size = 10\n",
    "n_epochs = 1\n",
    "learning_rate = 0.0001\n",
    "MAX_SEQ_LENGTH = 100"
   ]
  },
  {
   "cell_type": "code",
   "execution_count": 4,
   "id": "1c09ebde-73e4-4981-b0d3-b69989dae360",
   "metadata": {
    "ExecuteTime": {
     "end_time": "2024-10-05T09:24:11.320736Z",
     "start_time": "2024-10-05T09:23:51.290816Z"
    }
   },
   "outputs": [
    {
     "name": "stdout",
     "output_type": "stream",
     "text": [
      "Downloading Word2Vec model...\n",
      "Model downloaded and saved to local storage.\n"
     ]
    }
   ],
   "source": [
    "# Check if the model file exists\n",
    "try:\n",
    "    # Load the model if it exists locally\n",
    "    word2vec_model = gensim.models.KeyedVectors.load(model_path)\n",
    "    print(\"Model loaded from local storage.\")\n",
    "except FileNotFoundError:\n",
    "    # Download and save the model if it doesn't exist\n",
    "    print(\"Downloading Word2Vec model...\")\n",
    "    word2vec_model = api.load(model_name)\n",
    "    word2vec_model.save(model_path)  # Save the model locally\n",
    "    print(\"Model downloaded and saved to local storage.\")\n"
   ]
  },
  {
   "cell_type": "code",
   "execution_count": 5,
   "id": "632d7f6869333236",
   "metadata": {
    "collapsed": false,
    "ExecuteTime": {
     "end_time": "2024-10-05T09:24:11.752816Z",
     "start_time": "2024-10-05T09:24:11.321550Z"
    }
   },
   "outputs": [
    {
     "name": "stderr",
     "output_type": "stream",
     "text": [
      "/Library/Frameworks/Python.framework/Versions/3.11/lib/python3.11/site-packages/huggingface_hub/file_download.py:1142: FutureWarning: `resume_download` is deprecated and will be removed in version 1.0.0. Downloads always resume when possible. If you want to force a new download, use `force_download=True`.\n",
      "  warnings.warn(\n"
     ]
    }
   ],
   "source": [
    "from transformers import AutoTokenizer\n",
    "\n",
    "tokenizer = AutoTokenizer.from_pretrained(\"bert-base-uncased\")"
   ]
  },
  {
   "cell_type": "code",
   "execution_count": 9,
   "id": "64c9366e-f4b8-4543-8a2e-246ad9411678",
   "metadata": {
    "ExecuteTime": {
     "end_time": "2024-10-05T09:24:38.896167Z",
     "start_time": "2024-10-05T09:24:38.877508Z"
    }
   },
   "outputs": [
    {
     "name": "stdout",
     "output_type": "stream",
     "text": [
      "['do', 'iran', '<UNK>', 'afghanistan', 'speak', 'the', 'same', 'language', '<PAD>', '<PAD>', '<PAD>', '<PAD>', '<PAD>', '<PAD>', '<PAD>', '<PAD>', '<PAD>', '<PAD>', '<PAD>', '<PAD>', '<PAD>', '<PAD>', '<PAD>', '<PAD>', '<PAD>', '<PAD>', '<PAD>', '<PAD>', '<PAD>', '<PAD>', '<PAD>', '<PAD>', '<PAD>', '<PAD>', '<PAD>', '<PAD>', '<PAD>', '<PAD>', '<PAD>', '<PAD>', '<PAD>', '<PAD>', '<PAD>', '<PAD>', '<PAD>', '<PAD>', '<PAD>', '<PAD>', '<PAD>', '<PAD>', '<PAD>', '<PAD>', '<PAD>', '<PAD>', '<PAD>', '<PAD>', '<PAD>', '<PAD>', '<PAD>', '<PAD>', '<PAD>', '<PAD>', '<PAD>', '<PAD>', '<PAD>', '<PAD>', '<PAD>', '<PAD>', '<PAD>', '<PAD>', '<PAD>', '<PAD>', '<PAD>', '<PAD>', '<PAD>', '<PAD>', '<PAD>', '<PAD>', '<PAD>', '<PAD>', '<PAD>', '<PAD>', '<PAD>', '<PAD>', '<PAD>', '<PAD>', '<PAD>', '<PAD>', '<PAD>', '<PAD>', '<PAD>', '<PAD>', '<PAD>', '<PAD>', '<PAD>', '<PAD>', '<PAD>', '<PAD>', '<PAD>', '<PAD>']\n"
     ]
    }
   ],
   "source": [
    "# Preprocessing Functions\n",
    "def preprocess_text(text):\n",
    "    return text.lower()\n",
    "\n",
    "def tokenize_text(text):\n",
    "    return nltk.word_tokenize(text)\n",
    "\n",
    "def handle_oov_tokens(tokens, word2vec_model, oov_token=\"<UNK>\"):\n",
    "    \"\"\"Handle out-of-vocabulary tokens by replacing them with a specified token.\"\"\"\n",
    "    return [token if token in word2vec_model else oov_token for token in tokens]\n",
    "\n",
    "def pad_or_truncate(tokens, max_length, pad_token=\"<PAD>\"):\n",
    "    \"\"\"Pad or truncate the list of tokens to the specified maximum length.\"\"\"\n",
    "    if len(tokens) > max_length:\n",
    "        return tokens[:max_length]\n",
    "    else:\n",
    "        return tokens + [pad_token] * (max_length - len(tokens))\n",
    "\n",
    "def preprocess_pipeline(text, word2vec_model):\n",
    "    \"\"\"Pipeline for preprocessing text: cleaning, tokenizing, handling OOV tokens, and padding.\"\"\"\n",
    "    text = preprocess_text(text)\n",
    "    tokens = tokenize_text(text)\n",
    "    tokens = handle_oov_tokens(tokens, word2vec_model)\n",
    "    tokens = pad_or_truncate(tokens, MAX_SEQ_LENGTH)\n",
    "    return tokens\n",
    "\n",
    "test_question = train_data[0]['question']\n",
    "preprocessed_text = preprocess_pipeline(test_question, word2vec_model)\n",
    "print(preprocessed_text)\n",
    "\n"
   ]
  },
  {
   "cell_type": "code",
   "execution_count": 11,
   "id": "711a9b6e-b821-406b-a77e-65817a56b52f",
   "metadata": {
    "ExecuteTime": {
     "end_time": "2024-10-05T09:24:51.123724Z",
     "start_time": "2024-10-05T09:24:51.119776Z"
    }
   },
   "outputs": [
    {
     "name": "stdout",
     "output_type": "stream",
     "text": [
      "[[ 0.12304688  0.01281738  0.01940918 ... -0.06347656  0.02111816\n",
      "  -0.08251953]\n",
      " [-0.08203125  0.01586914  0.29296875 ...  0.03979492 -0.046875\n",
      "   0.24902344]\n",
      " [ 0.          0.          0.         ...  0.          0.\n",
      "   0.        ]\n",
      " ...\n",
      " [ 0.          0.          0.         ...  0.          0.\n",
      "   0.        ]\n",
      " [ 0.          0.          0.         ...  0.          0.\n",
      "   0.        ]\n",
      " [ 0.          0.          0.         ...  0.          0.\n",
      "   0.        ]]\n"
     ]
    }
   ],
   "source": [
    "# Convert tokens to embeddings\n",
    "def tokens_to_embeddings(tokens, word2vec_model, embedding_dim=300):\n",
    "    \"\"\"Convert a list of tokens to their corresponding embeddings.\"\"\"\n",
    "    embeddings = []\n",
    "    for token in tokens:\n",
    "        if token in word2vec_model:\n",
    "            embeddings.append(word2vec_model[token])\n",
    "        else:\n",
    "            embeddings.append(np.zeros(embedding_dim))  # Use zero vector for OOV\n",
    "    return np.array(embeddings)\n",
    "\n",
    "embedded_text = tokens_to_embeddings(preprocessed_text, word2vec_model)\n",
    "print(embedded_text)"
   ]
  },
  {
   "cell_type": "code",
   "execution_count": 8,
   "id": "d536696d-09ff-45d9-8f6c-9518c4bc36b4",
   "metadata": {},
   "outputs": [],
   "source": [
    "class BoolQDataset(Dataset):\n",
    "    def __init__(self, data, word2vec_model, max_seq_length=MAX_SEQ_LENGTH):\n",
    "        self.data = data\n",
    "        self.word2vec_model = word2vec_model\n",
    "        self.max_seq_length = max_seq_length\n",
    "\n",
    "    def __len__(self):\n",
    "        return len(self.data)\n",
    "\n",
    "    def __getitem__(self, idx):\n",
    "        question = self.data[idx]['question']\n",
    "        passage = self.data[idx]['passage']\n",
    "        \n",
    "        # Use 'answer' instead of 'label'\n",
    "        label = 1 if self.data[idx]['answer'] else 0  # Convert boolean to binary\n",
    "\n",
    "        # Preprocess the question and passage\n",
    "        question_tokens = preprocess_pipeline(question, self.word2vec_model)\n",
    "        passage_tokens = preprocess_pipeline(passage, self.word2vec_model)\n",
    "\n",
    "        # Convert tokens to embeddings\n",
    "        question_embeddings = tokens_to_embeddings(question_tokens, self.word2vec_model)\n",
    "        passage_embeddings = tokens_to_embeddings(passage_tokens, self.word2vec_model)\n",
    "\n",
    "        # Concatenate embeddings\n",
    "        embeddings = np.concatenate((question_embeddings, passage_embeddings), axis=0)\n",
    "\n",
    "        # Ensure correct shape for input (1, 60000) if MAX_SEQ_LENGTH is 10\n",
    "        return torch.tensor(embeddings, dtype=torch.float32), torch.tensor(label, dtype=torch.long)\n"
   ]
  },
  {
   "cell_type": "code",
   "execution_count": 9,
   "id": "e57d7f61-cf3c-464b-afe5-c13e664499f2",
   "metadata": {},
   "outputs": [],
   "source": [
    "# Create DataLoaders\n",
    "train_dataset = BoolQDataset(train_data, word2vec_model)\n",
    "val_dataset = BoolQDataset(validation_data, word2vec_model)\n",
    "\n",
    "train_loader = DataLoader(train_dataset, batch_size=batch_size, shuffle=True)\n",
    "val_loader = DataLoader(val_dataset, batch_size=batch_size, shuffle=False)\n"
   ]
  },
  {
   "cell_type": "code",
   "execution_count": 10,
   "id": "e80a9dc6-8eae-4416-8964-69d4779b22eb",
   "metadata": {},
   "outputs": [
    {
     "name": "stderr",
     "output_type": "stream",
     "text": [
      "Failed to detect the name of this notebook, you can set it manually with the WANDB_NOTEBOOK_NAME environment variable to enable code saving.\n",
      "\u001B[34m\u001B[1mwandb\u001B[0m: Using wandb-core as the SDK backend. Please refer to https://wandb.me/wandb-core for more information.\n",
      "\u001B[34m\u001B[1mwandb\u001B[0m: Currently logged in as: \u001B[33maintnoair\u001B[0m. Use \u001B[1m`wandb login --relogin`\u001B[0m to force relogin\n"
     ]
    },
    {
     "data": {
      "text/html": [
       "Tracking run with wandb version 0.18.2"
      ],
      "text/plain": [
       "<IPython.core.display.HTML object>"
      ]
     },
     "metadata": {},
     "output_type": "display_data"
    },
    {
     "data": {
      "text/html": [
       "Run data is saved locally in <code>/home/jovyan/nlp/project-1/wandb/run-20241001_090821-hd7djwxq</code>"
      ],
      "text/plain": [
       "<IPython.core.display.HTML object>"
      ]
     },
     "metadata": {},
     "output_type": "display_data"
    },
    {
     "data": {
      "text/html": [
       "Syncing run <strong><a href='https://wandb.ai/aintnoair/nlp-word-embeddings/runs/hd7djwxq' target=\"_blank\">test-run-1</a></strong> to <a href='https://wandb.ai/aintnoair/nlp-word-embeddings' target=\"_blank\">Weights & Biases</a> (<a href='https://wandb.me/run' target=\"_blank\">docs</a>)<br/>"
      ],
      "text/plain": [
       "<IPython.core.display.HTML object>"
      ]
     },
     "metadata": {},
     "output_type": "display_data"
    },
    {
     "data": {
      "text/html": [
       " View project at <a href='https://wandb.ai/aintnoair/nlp-word-embeddings' target=\"_blank\">https://wandb.ai/aintnoair/nlp-word-embeddings</a>"
      ],
      "text/plain": [
       "<IPython.core.display.HTML object>"
      ]
     },
     "metadata": {},
     "output_type": "display_data"
    },
    {
     "data": {
      "text/html": [
       " View run at <a href='https://wandb.ai/aintnoair/nlp-word-embeddings/runs/hd7djwxq' target=\"_blank\">https://wandb.ai/aintnoair/nlp-word-embeddings/runs/hd7djwxq</a>"
      ],
      "text/plain": [
       "<IPython.core.display.HTML object>"
      ]
     },
     "metadata": {},
     "output_type": "display_data"
    }
   ],
   "source": [
    "# Initialize WandB\n",
    "wandb.init(project='nlp-word-embeddings', name='test-run-1')\n",
    "wandb.config.learning_rate = learning_rate\n",
    "wandb.config.epochs = n_epochs\n",
    "wandb.config.batch_size = batch_size\n"
   ]
  },
  {
   "cell_type": "code",
   "execution_count": 11,
   "id": "636a6da4-484b-4b26-aafc-575436b2da74",
   "metadata": {},
   "outputs": [],
   "source": [
    "# Define the neural network model\n",
    "class TwoLayerNN(nn.Module):\n",
    "    def __init__(self, input_dim, hidden_dim, output_dim):\n",
    "        super(TwoLayerNN, self).__init__()\n",
    "\n",
    "        self.fc1 = nn.Linear(input_dim, hidden_dim)\n",
    "        self.relu = nn.ReLU()\n",
    "        self.fc2 = nn.Linear(hidden_dim, output_dim)\n",
    "\n",
    "    def forward(self, x):\n",
    "        x = self.fc1(x)\n",
    "        x = self.relu(x)\n",
    "        x = self.fc2(x)\n",
    "        return x\n"
   ]
  },
  {
   "cell_type": "code",
   "execution_count": 12,
   "id": "212ae18f-d872-4892-9600-acb7deff9f38",
   "metadata": {},
   "outputs": [],
   "source": [
    "# Model Parameters\n",
    "embedding_dim = 300\n",
    "sequence_length = MAX_SEQ_LENGTH * 2  # Concatenate question and passage\n",
    "input_dim = sequence_length * embedding_dim  # Adjusted input dimension\n",
    "hidden_dim = 128\n",
    "output_dim = 2  # Binary classification\n"
   ]
  },
  {
   "cell_type": "code",
   "execution_count": 28,
   "id": "6fd6ddbe-e0b1-4fe9-9afb-b34128033fe8",
   "metadata": {},
   "outputs": [
    {
     "name": "stdout",
     "output_type": "stream",
     "text": [
      "Using device: cuda:0\n"
     ]
    }
   ],
   "source": [
    "# Instantiate the model and move it to the appropriate device\n",
    "device = torch.device(\"cuda:0\" if torch.cuda.is_available() else \"cpu\")\n",
    "print(f\"Using device: {device}\")\n",
    "model = TwoLayerNN(input_dim, hidden_dim, output_dim).to(device)\n"
   ]
  },
  {
   "cell_type": "code",
   "execution_count": 19,
   "id": "c4134b0d-40ce-4426-9ede-2a4d7cc389a6",
   "metadata": {},
   "outputs": [],
   "source": [
    "# Loss and optimizer\n",
    "criterion = nn.CrossEntropyLoss()\n",
    "optimizer = optim.Adam(model.parameters(), lr=learning_rate)  # Lower learning rate\n"
   ]
  },
  {
   "cell_type": "code",
   "execution_count": 20,
   "id": "28508f16-8023-4957-a1c5-7c080796e456",
   "metadata": {},
   "outputs": [],
   "source": [
    "# Modify the training loop\n",
    "def train_model(model, train_loader, val_loader, criterion, optimizer, epochs):\n",
    "    model.train()\n",
    "    \n",
    "    for epoch in range(epochs):\n",
    "        running_loss = 0.0\n",
    "        \n",
    "        # Training\n",
    "        for i, data in enumerate(train_loader, 0):\n",
    "            inputs, labels = data\n",
    "            \n",
    "            # Flatten inputs\n",
    "            inputs = inputs.view(inputs.size(0), -1).to(device)  # Reshape to (batch_size, 30000)\n",
    "            labels = labels.to(device)  # Move labels to GPU\n",
    "            \n",
    "            # Zero the parameter gradients\n",
    "            optimizer.zero_grad()\n",
    "            \n",
    "            # Forward pass\n",
    "            outputs = model(inputs)  # Now inputs should be of shape (batch_size, 30000)\n",
    "            loss = criterion(outputs, labels)\n",
    "            \n",
    "            # Backward pass and optimize\n",
    "            loss.backward()\n",
    "            optimizer.step()\n",
    "            \n",
    "            running_loss += loss.item()\n",
    "\n",
    "            # Log the loss to WandB\n",
    "            if i % 10 == 0:  # Log every 10 steps\n",
    "                wandb.log({\"loss\": loss.item()})\n",
    "                print(f\"Step [{i}], Loss: {loss.item():.4f}\")\n",
    "        \n",
    "        # Log average loss for the epoch\n",
    "        wandb.log({\"epoch\": epoch + 1, \"average_loss\": running_loss / len(train_loader)})\n",
    "        print(f\"Epoch [{epoch+1}/{epochs}], Loss: {running_loss/len(train_loader):.4f}\")\n",
    "    \n",
    "    print(\"Finished Training\")"
   ]
  },
  {
   "cell_type": "code",
   "execution_count": null,
   "id": "057b0cbf-15c6-409c-9d0a-dd1165cf02ad",
   "metadata": {},
   "outputs": [],
   "source": []
  },
  {
   "cell_type": "code",
   "execution_count": 21,
   "id": "a28e93ca-fdaf-4314-862f-fe58f6a7bd23",
   "metadata": {},
   "outputs": [],
   "source": [
    "# Evaluation Function\n",
    "def evaluate_model(model, val_loader):\n",
    "    model.eval()\n",
    "    correct = 0\n",
    "    total = 0\n",
    "    \n",
    "    with torch.no_grad():\n",
    "        for inputs, labels in val_loader:\n",
    "            inputs, labels = inputs.to(device), labels.to(device)  # Move to device\n",
    "            outputs = model(inputs)\n",
    "            _, predicted = torch.max(outputs, 1)\n",
    "            total += labels.size(0)\n",
    "            correct += (predicted == labels).sum().item()\n",
    "    \n",
    "    accuracy = correct / total\n",
    "    print(f'Validation Accuracy: {accuracy * 100:.2f}%')\n",
    "    wandb.log({\"validation_accuracy\": accuracy})  # Log validation accuracy to WandB\n"
   ]
  },
  {
   "cell_type": "code",
   "execution_count": 22,
   "id": "a3c3af4d-a9b0-42d4-abd6-49f648fb2aeb",
   "metadata": {},
   "outputs": [
    {
     "name": "stdout",
     "output_type": "stream",
     "text": [
      "Step [0], Loss: 0.6971\n",
      "Step [10], Loss: 0.7019\n",
      "Step [20], Loss: 0.5298\n",
      "Step [30], Loss: 0.7995\n",
      "Step [40], Loss: 0.6569\n",
      "Step [50], Loss: 0.5568\n",
      "Step [60], Loss: 0.7894\n",
      "Step [70], Loss: 0.6749\n",
      "Step [80], Loss: 0.7163\n",
      "Step [90], Loss: 0.7148\n",
      "Step [100], Loss: 0.6453\n",
      "Step [110], Loss: 0.6288\n",
      "Step [120], Loss: 0.7307\n",
      "Step [130], Loss: 0.5939\n",
      "Step [140], Loss: 0.5997\n",
      "Step [150], Loss: 0.6549\n",
      "Step [160], Loss: 0.7431\n"
     ]
    },
    {
     "ename": "KeyboardInterrupt",
     "evalue": "",
     "output_type": "error",
     "traceback": [
      "\u001B[0;31m---------------------------------------------------------------------------\u001B[0m",
      "\u001B[0;31mKeyboardInterrupt\u001B[0m                         Traceback (most recent call last)",
      "Cell \u001B[0;32mIn[22], line 2\u001B[0m\n\u001B[1;32m      1\u001B[0m \u001B[38;5;66;03m# Train the model\u001B[39;00m\n\u001B[0;32m----> 2\u001B[0m \u001B[43mtrain_model\u001B[49m\u001B[43m(\u001B[49m\u001B[43mmodel\u001B[49m\u001B[43m,\u001B[49m\u001B[43m \u001B[49m\u001B[43mtrain_loader\u001B[49m\u001B[43m,\u001B[49m\u001B[43m \u001B[49m\u001B[43mval_loader\u001B[49m\u001B[43m,\u001B[49m\u001B[43m \u001B[49m\u001B[43mcriterion\u001B[49m\u001B[43m,\u001B[49m\u001B[43m \u001B[49m\u001B[43moptimizer\u001B[49m\u001B[43m,\u001B[49m\u001B[43m \u001B[49m\u001B[43mepochs\u001B[49m\u001B[38;5;241;43m=\u001B[39;49m\u001B[43mn_epochs\u001B[49m\u001B[43m)\u001B[49m\n",
      "Cell \u001B[0;32mIn[20], line 9\u001B[0m, in \u001B[0;36mtrain_model\u001B[0;34m(model, train_loader, val_loader, criterion, optimizer, epochs)\u001B[0m\n\u001B[1;32m      6\u001B[0m running_loss \u001B[38;5;241m=\u001B[39m \u001B[38;5;241m0.0\u001B[39m\n\u001B[1;32m      8\u001B[0m \u001B[38;5;66;03m# Training\u001B[39;00m\n\u001B[0;32m----> 9\u001B[0m \u001B[43m\u001B[49m\u001B[38;5;28;43;01mfor\u001B[39;49;00m\u001B[43m \u001B[49m\u001B[43mi\u001B[49m\u001B[43m,\u001B[49m\u001B[43m \u001B[49m\u001B[43mdata\u001B[49m\u001B[43m \u001B[49m\u001B[38;5;129;43;01min\u001B[39;49;00m\u001B[43m \u001B[49m\u001B[38;5;28;43menumerate\u001B[39;49m\u001B[43m(\u001B[49m\u001B[43mtrain_loader\u001B[49m\u001B[43m,\u001B[49m\u001B[43m \u001B[49m\u001B[38;5;241;43m0\u001B[39;49m\u001B[43m)\u001B[49m\u001B[43m:\u001B[49m\n\u001B[1;32m     10\u001B[0m \u001B[43m    \u001B[49m\u001B[43minputs\u001B[49m\u001B[43m,\u001B[49m\u001B[43m \u001B[49m\u001B[43mlabels\u001B[49m\u001B[43m \u001B[49m\u001B[38;5;241;43m=\u001B[39;49m\u001B[43m \u001B[49m\u001B[43mdata\u001B[49m\n\u001B[1;32m     12\u001B[0m \u001B[43m    \u001B[49m\u001B[38;5;66;43;03m# Flatten inputs\u001B[39;49;00m\n",
      "File \u001B[0;32m/opt/conda/lib/python3.11/site-packages/torch/utils/data/dataloader.py:631\u001B[0m, in \u001B[0;36m_BaseDataLoaderIter.__next__\u001B[0;34m(self)\u001B[0m\n\u001B[1;32m    628\u001B[0m \u001B[38;5;28;01mif\u001B[39;00m \u001B[38;5;28mself\u001B[39m\u001B[38;5;241m.\u001B[39m_sampler_iter \u001B[38;5;129;01mis\u001B[39;00m \u001B[38;5;28;01mNone\u001B[39;00m:\n\u001B[1;32m    629\u001B[0m     \u001B[38;5;66;03m# TODO(https://github.com/pytorch/pytorch/issues/76750)\u001B[39;00m\n\u001B[1;32m    630\u001B[0m     \u001B[38;5;28mself\u001B[39m\u001B[38;5;241m.\u001B[39m_reset()  \u001B[38;5;66;03m# type: ignore[call-arg]\u001B[39;00m\n\u001B[0;32m--> 631\u001B[0m data \u001B[38;5;241m=\u001B[39m \u001B[38;5;28;43mself\u001B[39;49m\u001B[38;5;241;43m.\u001B[39;49m\u001B[43m_next_data\u001B[49m\u001B[43m(\u001B[49m\u001B[43m)\u001B[49m\n\u001B[1;32m    632\u001B[0m \u001B[38;5;28mself\u001B[39m\u001B[38;5;241m.\u001B[39m_num_yielded \u001B[38;5;241m+\u001B[39m\u001B[38;5;241m=\u001B[39m \u001B[38;5;241m1\u001B[39m\n\u001B[1;32m    633\u001B[0m \u001B[38;5;28;01mif\u001B[39;00m \u001B[38;5;28mself\u001B[39m\u001B[38;5;241m.\u001B[39m_dataset_kind \u001B[38;5;241m==\u001B[39m _DatasetKind\u001B[38;5;241m.\u001B[39mIterable \u001B[38;5;129;01mand\u001B[39;00m \\\n\u001B[1;32m    634\u001B[0m         \u001B[38;5;28mself\u001B[39m\u001B[38;5;241m.\u001B[39m_IterableDataset_len_called \u001B[38;5;129;01mis\u001B[39;00m \u001B[38;5;129;01mnot\u001B[39;00m \u001B[38;5;28;01mNone\u001B[39;00m \u001B[38;5;129;01mand\u001B[39;00m \\\n\u001B[1;32m    635\u001B[0m         \u001B[38;5;28mself\u001B[39m\u001B[38;5;241m.\u001B[39m_num_yielded \u001B[38;5;241m>\u001B[39m \u001B[38;5;28mself\u001B[39m\u001B[38;5;241m.\u001B[39m_IterableDataset_len_called:\n",
      "File \u001B[0;32m/opt/conda/lib/python3.11/site-packages/torch/utils/data/dataloader.py:675\u001B[0m, in \u001B[0;36m_SingleProcessDataLoaderIter._next_data\u001B[0;34m(self)\u001B[0m\n\u001B[1;32m    673\u001B[0m \u001B[38;5;28;01mdef\u001B[39;00m \u001B[38;5;21m_next_data\u001B[39m(\u001B[38;5;28mself\u001B[39m):\n\u001B[1;32m    674\u001B[0m     index \u001B[38;5;241m=\u001B[39m \u001B[38;5;28mself\u001B[39m\u001B[38;5;241m.\u001B[39m_next_index()  \u001B[38;5;66;03m# may raise StopIteration\u001B[39;00m\n\u001B[0;32m--> 675\u001B[0m     data \u001B[38;5;241m=\u001B[39m \u001B[38;5;28;43mself\u001B[39;49m\u001B[38;5;241;43m.\u001B[39;49m\u001B[43m_dataset_fetcher\u001B[49m\u001B[38;5;241;43m.\u001B[39;49m\u001B[43mfetch\u001B[49m\u001B[43m(\u001B[49m\u001B[43mindex\u001B[49m\u001B[43m)\u001B[49m  \u001B[38;5;66;03m# may raise StopIteration\u001B[39;00m\n\u001B[1;32m    676\u001B[0m     \u001B[38;5;28;01mif\u001B[39;00m \u001B[38;5;28mself\u001B[39m\u001B[38;5;241m.\u001B[39m_pin_memory:\n\u001B[1;32m    677\u001B[0m         data \u001B[38;5;241m=\u001B[39m _utils\u001B[38;5;241m.\u001B[39mpin_memory\u001B[38;5;241m.\u001B[39mpin_memory(data, \u001B[38;5;28mself\u001B[39m\u001B[38;5;241m.\u001B[39m_pin_memory_device)\n",
      "File \u001B[0;32m/opt/conda/lib/python3.11/site-packages/torch/utils/data/_utils/fetch.py:51\u001B[0m, in \u001B[0;36m_MapDatasetFetcher.fetch\u001B[0;34m(self, possibly_batched_index)\u001B[0m\n\u001B[1;32m     49\u001B[0m         data \u001B[38;5;241m=\u001B[39m \u001B[38;5;28mself\u001B[39m\u001B[38;5;241m.\u001B[39mdataset\u001B[38;5;241m.\u001B[39m__getitems__(possibly_batched_index)\n\u001B[1;32m     50\u001B[0m     \u001B[38;5;28;01melse\u001B[39;00m:\n\u001B[0;32m---> 51\u001B[0m         data \u001B[38;5;241m=\u001B[39m \u001B[43m[\u001B[49m\u001B[38;5;28;43mself\u001B[39;49m\u001B[38;5;241;43m.\u001B[39;49m\u001B[43mdataset\u001B[49m\u001B[43m[\u001B[49m\u001B[43midx\u001B[49m\u001B[43m]\u001B[49m\u001B[43m \u001B[49m\u001B[38;5;28;43;01mfor\u001B[39;49;00m\u001B[43m \u001B[49m\u001B[43midx\u001B[49m\u001B[43m \u001B[49m\u001B[38;5;129;43;01min\u001B[39;49;00m\u001B[43m \u001B[49m\u001B[43mpossibly_batched_index\u001B[49m\u001B[43m]\u001B[49m\n\u001B[1;32m     52\u001B[0m \u001B[38;5;28;01melse\u001B[39;00m:\n\u001B[1;32m     53\u001B[0m     data \u001B[38;5;241m=\u001B[39m \u001B[38;5;28mself\u001B[39m\u001B[38;5;241m.\u001B[39mdataset[possibly_batched_index]\n",
      "File \u001B[0;32m/opt/conda/lib/python3.11/site-packages/torch/utils/data/_utils/fetch.py:51\u001B[0m, in \u001B[0;36m<listcomp>\u001B[0;34m(.0)\u001B[0m\n\u001B[1;32m     49\u001B[0m         data \u001B[38;5;241m=\u001B[39m \u001B[38;5;28mself\u001B[39m\u001B[38;5;241m.\u001B[39mdataset\u001B[38;5;241m.\u001B[39m__getitems__(possibly_batched_index)\n\u001B[1;32m     50\u001B[0m     \u001B[38;5;28;01melse\u001B[39;00m:\n\u001B[0;32m---> 51\u001B[0m         data \u001B[38;5;241m=\u001B[39m [\u001B[38;5;28;43mself\u001B[39;49m\u001B[38;5;241;43m.\u001B[39;49m\u001B[43mdataset\u001B[49m\u001B[43m[\u001B[49m\u001B[43midx\u001B[49m\u001B[43m]\u001B[49m \u001B[38;5;28;01mfor\u001B[39;00m idx \u001B[38;5;129;01min\u001B[39;00m possibly_batched_index]\n\u001B[1;32m     52\u001B[0m \u001B[38;5;28;01melse\u001B[39;00m:\n\u001B[1;32m     53\u001B[0m     data \u001B[38;5;241m=\u001B[39m \u001B[38;5;28mself\u001B[39m\u001B[38;5;241m.\u001B[39mdataset[possibly_batched_index]\n",
      "Cell \u001B[0;32mIn[8], line 19\u001B[0m, in \u001B[0;36mBoolQDataset.__getitem__\u001B[0;34m(self, idx)\u001B[0m\n\u001B[1;32m     17\u001B[0m \u001B[38;5;66;03m# Preprocess the question and passage\u001B[39;00m\n\u001B[1;32m     18\u001B[0m question_tokens \u001B[38;5;241m=\u001B[39m preprocess_pipeline(question, \u001B[38;5;28mself\u001B[39m\u001B[38;5;241m.\u001B[39mword2vec_model)\n\u001B[0;32m---> 19\u001B[0m passage_tokens \u001B[38;5;241m=\u001B[39m \u001B[43mpreprocess_pipeline\u001B[49m\u001B[43m(\u001B[49m\u001B[43mpassage\u001B[49m\u001B[43m,\u001B[49m\u001B[43m \u001B[49m\u001B[38;5;28;43mself\u001B[39;49m\u001B[38;5;241;43m.\u001B[39;49m\u001B[43mword2vec_model\u001B[49m\u001B[43m)\u001B[49m\n\u001B[1;32m     21\u001B[0m \u001B[38;5;66;03m# Convert tokens to embeddings\u001B[39;00m\n\u001B[1;32m     22\u001B[0m question_embeddings \u001B[38;5;241m=\u001B[39m tokens_to_embeddings(question_tokens, \u001B[38;5;28mself\u001B[39m\u001B[38;5;241m.\u001B[39mword2vec_model)\n",
      "Cell \u001B[0;32mIn[6], line 22\u001B[0m, in \u001B[0;36mpreprocess_pipeline\u001B[0;34m(text, word2vec_model)\u001B[0m\n\u001B[1;32m     20\u001B[0m \u001B[38;5;250m\u001B[39m\u001B[38;5;124;03m\"\"\"Pipeline for preprocessing text: cleaning, tokenizing, handling OOV tokens, and padding.\"\"\"\u001B[39;00m\n\u001B[1;32m     21\u001B[0m text \u001B[38;5;241m=\u001B[39m preprocess_text(text)\n\u001B[0;32m---> 22\u001B[0m tokens \u001B[38;5;241m=\u001B[39m \u001B[43mtokenize_text\u001B[49m\u001B[43m(\u001B[49m\u001B[43mtext\u001B[49m\u001B[43m)\u001B[49m\n\u001B[1;32m     23\u001B[0m tokens \u001B[38;5;241m=\u001B[39m handle_oov_tokens(tokens, word2vec_model)\n\u001B[1;32m     24\u001B[0m tokens \u001B[38;5;241m=\u001B[39m pad_or_truncate(tokens, MAX_SEQ_LENGTH)\n",
      "Cell \u001B[0;32mIn[6], line 6\u001B[0m, in \u001B[0;36mtokenize_text\u001B[0;34m(text)\u001B[0m\n\u001B[1;32m      5\u001B[0m \u001B[38;5;28;01mdef\u001B[39;00m \u001B[38;5;21mtokenize_text\u001B[39m(text):\n\u001B[0;32m----> 6\u001B[0m     \u001B[38;5;28;01mreturn\u001B[39;00m \u001B[43mnltk\u001B[49m\u001B[38;5;241;43m.\u001B[39;49m\u001B[43mword_tokenize\u001B[49m\u001B[43m(\u001B[49m\u001B[43mtext\u001B[49m\u001B[43m)\u001B[49m\n",
      "File \u001B[0;32m/opt/conda/lib/python3.11/site-packages/nltk/tokenize/__init__.py:143\u001B[0m, in \u001B[0;36mword_tokenize\u001B[0;34m(text, language, preserve_line)\u001B[0m\n\u001B[1;32m    128\u001B[0m \u001B[38;5;250m\u001B[39m\u001B[38;5;124;03m\"\"\"\u001B[39;00m\n\u001B[1;32m    129\u001B[0m \u001B[38;5;124;03mReturn a tokenized copy of *text*,\u001B[39;00m\n\u001B[1;32m    130\u001B[0m \u001B[38;5;124;03musing NLTK's recommended word tokenizer\u001B[39;00m\n\u001B[0;32m   (...)\u001B[0m\n\u001B[1;32m    140\u001B[0m \u001B[38;5;124;03m:type preserve_line: bool\u001B[39;00m\n\u001B[1;32m    141\u001B[0m \u001B[38;5;124;03m\"\"\"\u001B[39;00m\n\u001B[1;32m    142\u001B[0m sentences \u001B[38;5;241m=\u001B[39m [text] \u001B[38;5;28;01mif\u001B[39;00m preserve_line \u001B[38;5;28;01melse\u001B[39;00m sent_tokenize(text, language)\n\u001B[0;32m--> 143\u001B[0m \u001B[38;5;28;01mreturn\u001B[39;00m \u001B[43m[\u001B[49m\n\u001B[1;32m    144\u001B[0m \u001B[43m    \u001B[49m\u001B[43mtoken\u001B[49m\u001B[43m \u001B[49m\u001B[38;5;28;43;01mfor\u001B[39;49;00m\u001B[43m \u001B[49m\u001B[43msent\u001B[49m\u001B[43m \u001B[49m\u001B[38;5;129;43;01min\u001B[39;49;00m\u001B[43m \u001B[49m\u001B[43msentences\u001B[49m\u001B[43m \u001B[49m\u001B[38;5;28;43;01mfor\u001B[39;49;00m\u001B[43m \u001B[49m\u001B[43mtoken\u001B[49m\u001B[43m \u001B[49m\u001B[38;5;129;43;01min\u001B[39;49;00m\u001B[43m \u001B[49m\u001B[43m_treebank_word_tokenizer\u001B[49m\u001B[38;5;241;43m.\u001B[39;49m\u001B[43mtokenize\u001B[49m\u001B[43m(\u001B[49m\u001B[43msent\u001B[49m\u001B[43m)\u001B[49m\n\u001B[1;32m    145\u001B[0m \u001B[43m\u001B[49m\u001B[43m]\u001B[49m\n",
      "File \u001B[0;32m/opt/conda/lib/python3.11/site-packages/nltk/tokenize/__init__.py:144\u001B[0m, in \u001B[0;36m<listcomp>\u001B[0;34m(.0)\u001B[0m\n\u001B[1;32m    128\u001B[0m \u001B[38;5;250m\u001B[39m\u001B[38;5;124;03m\"\"\"\u001B[39;00m\n\u001B[1;32m    129\u001B[0m \u001B[38;5;124;03mReturn a tokenized copy of *text*,\u001B[39;00m\n\u001B[1;32m    130\u001B[0m \u001B[38;5;124;03musing NLTK's recommended word tokenizer\u001B[39;00m\n\u001B[0;32m   (...)\u001B[0m\n\u001B[1;32m    140\u001B[0m \u001B[38;5;124;03m:type preserve_line: bool\u001B[39;00m\n\u001B[1;32m    141\u001B[0m \u001B[38;5;124;03m\"\"\"\u001B[39;00m\n\u001B[1;32m    142\u001B[0m sentences \u001B[38;5;241m=\u001B[39m [text] \u001B[38;5;28;01mif\u001B[39;00m preserve_line \u001B[38;5;28;01melse\u001B[39;00m sent_tokenize(text, language)\n\u001B[1;32m    143\u001B[0m \u001B[38;5;28;01mreturn\u001B[39;00m [\n\u001B[0;32m--> 144\u001B[0m     token \u001B[38;5;28;01mfor\u001B[39;00m sent \u001B[38;5;129;01min\u001B[39;00m sentences \u001B[38;5;28;01mfor\u001B[39;00m token \u001B[38;5;129;01min\u001B[39;00m \u001B[43m_treebank_word_tokenizer\u001B[49m\u001B[38;5;241;43m.\u001B[39;49m\u001B[43mtokenize\u001B[49m\u001B[43m(\u001B[49m\u001B[43msent\u001B[49m\u001B[43m)\u001B[49m\n\u001B[1;32m    145\u001B[0m ]\n",
      "File \u001B[0;32m/opt/conda/lib/python3.11/site-packages/nltk/tokenize/destructive.py:182\u001B[0m, in \u001B[0;36mNLTKWordTokenizer.tokenize\u001B[0;34m(self, text, convert_parentheses, return_str)\u001B[0m\n\u001B[1;32m    179\u001B[0m     text \u001B[38;5;241m=\u001B[39m regexp\u001B[38;5;241m.\u001B[39msub(substitution, text)\n\u001B[1;32m    181\u001B[0m \u001B[38;5;28;01mfor\u001B[39;00m regexp \u001B[38;5;129;01min\u001B[39;00m \u001B[38;5;28mself\u001B[39m\u001B[38;5;241m.\u001B[39mCONTRACTIONS2:\n\u001B[0;32m--> 182\u001B[0m     text \u001B[38;5;241m=\u001B[39m \u001B[43mregexp\u001B[49m\u001B[38;5;241;43m.\u001B[39;49m\u001B[43msub\u001B[49m\u001B[43m(\u001B[49m\u001B[38;5;124;43mr\u001B[39;49m\u001B[38;5;124;43m\"\u001B[39;49m\u001B[38;5;124;43m \u001B[39;49m\u001B[38;5;124;43m\\\u001B[39;49m\u001B[38;5;124;43m1 \u001B[39;49m\u001B[38;5;124;43m\\\u001B[39;49m\u001B[38;5;124;43m2 \u001B[39;49m\u001B[38;5;124;43m\"\u001B[39;49m\u001B[43m,\u001B[49m\u001B[43m \u001B[49m\u001B[43mtext\u001B[49m\u001B[43m)\u001B[49m\n\u001B[1;32m    183\u001B[0m \u001B[38;5;28;01mfor\u001B[39;00m regexp \u001B[38;5;129;01min\u001B[39;00m \u001B[38;5;28mself\u001B[39m\u001B[38;5;241m.\u001B[39mCONTRACTIONS3:\n\u001B[1;32m    184\u001B[0m     text \u001B[38;5;241m=\u001B[39m regexp\u001B[38;5;241m.\u001B[39msub(\u001B[38;5;124mr\u001B[39m\u001B[38;5;124m\"\u001B[39m\u001B[38;5;124m \u001B[39m\u001B[38;5;124m\\\u001B[39m\u001B[38;5;124m1 \u001B[39m\u001B[38;5;124m\\\u001B[39m\u001B[38;5;124m2 \u001B[39m\u001B[38;5;124m\"\u001B[39m, text)\n",
      "\u001B[0;31mKeyboardInterrupt\u001B[0m: "
     ]
    }
   ],
   "source": [
    "# Train the model\n",
    "train_model(model, train_loader, val_loader, criterion, optimizer, epochs=n_epochs)\n"
   ]
  },
  {
   "cell_type": "code",
   "execution_count": null,
   "id": "424f5cae-e90f-4d07-8196-71f1a1282df0",
   "metadata": {},
   "outputs": [],
   "source": [
    "# Evaluate the model\n",
    "evaluate_model(model, val_loader)\n"
   ]
  },
  {
   "cell_type": "code",
   "execution_count": null,
   "id": "93980bf1-6bba-4de2-9f79-47875622ac7b",
   "metadata": {},
   "outputs": [],
   "source": [
    "# Finish the WandB run\n",
    "wandb.finish()\n"
   ]
  },
  {
   "cell_type": "code",
   "execution_count": null,
   "id": "99eef39f-8434-45e9-a3cf-ddd8abb0436f",
   "metadata": {},
   "outputs": [],
   "source": []
  }
 ],
 "metadata": {
  "kernelspec": {
   "display_name": "Python 3 (ipykernel)",
   "language": "python",
   "name": "python3"
  },
  "language_info": {
   "codemirror_mode": {
    "name": "ipython",
    "version": 3
   },
   "file_extension": ".py",
   "mimetype": "text/x-python",
   "name": "python",
   "nbconvert_exporter": "python",
   "pygments_lexer": "ipython3",
   "version": "3.11.9"
  }
 },
 "nbformat": 4,
 "nbformat_minor": 5
}
