{
 "cells": [
  {
   "cell_type": "markdown",
   "id": "f47b1b6f",
   "metadata": {},
   "source": [
    "# PyTorch\n",
    "In this exercise, we will look at some basic functionality of PyTorch. Your are free to use other DL frameworks for your exercises and your project. However, the master solutions and code examples will be in PyTorch.\n",
    "\n",
    "The [PyTorch documentation](https://pytorch.org/docs/stable/index.html) offers information on its functionality. A lot of the time, your specific question will also have been asked on the [PyTorch Forum](https://discuss.pytorch.org/), often with competent answers by the core developers (Google will find the relevant thread for you).\n",
    "\n",
    "First, we have to install PyTorch. We will install the basic version for this exercise. For your project, if you want to run on a GPU, you'll have to make sure to have a PyTorch version installed that is compatible with the CUDA version of your NVIDIA drivers. PyTorch has an [installation guide](https://pytorch.org/get-started/locally/) that will help you with getting the right version."
   ]
  },
  {
   "cell_type": "code",
   "execution_count": 20,
   "id": "15a1efca",
   "metadata": {},
   "outputs": [
    {
     "name": "stdout",
     "output_type": "stream",
     "text": [
      "Note: you may need to restart the kernel to use updated packages.\n",
      "Note: you may need to restart the kernel to use updated packages.\n"
     ]
    }
   ],
   "source": [
    "%pip install -q numpy\n",
    "%pip install -q torch ipywidgets"
   ]
  },
  {
   "cell_type": "code",
   "execution_count": 21,
   "id": "2c05320f",
   "metadata": {},
   "outputs": [],
   "source": [
    "import torch\n",
    "import numpy as np"
   ]
  },
  {
   "cell_type": "markdown",
   "id": "42ec5791",
   "metadata": {},
   "source": [
    "## Tensor operations\n",
    "Most of PyTorch's operations have the same name as in NumPy. The basic object for storing data is the `torch.tensor`, the equivalent of the `np.array`. With the help of the [Tensor tutorial](https://pytorch.org/tutorials/beginner/blitz/tensor_tutorial.html), do the following:\n",
    "\n",
    "- Create a `torch.tensor` with the elements `[[1, 2], [3, 4]]`\n",
    "- Create an `np.array` with the same elements\n",
    "- Convert from one to the other\n",
    "- Check how the values of one change when you change the other\n",
    "- Create a tensor of ones/zeros with the same shape and dtype\n",
    "- Create a random tensor of the same shape\n",
    "- Print the tensor's shape, data type and device\n",
    "- Try to move it to the GPU\n",
    "- Check out indexing/slicing operations, and how you can assign values to a slice.\n",
    "- Combine tensors with `torch.cat` and `torch.stack`. What are the differences?\n",
    "- Multiply tensors, element-wise and with matrix multiplication."
   ]
  },
  {
   "cell_type": "code",
   "execution_count": 25,
   "id": "c90229fe",
   "metadata": {},
   "outputs": [
    {
     "name": "stdout",
     "output_type": "stream",
     "text": [
      "tensor([[1, 2],\n",
      "        [3, 4]])\n",
      "tensor([[2, 3],\n",
      "        [4, 5]])\n",
      "tensor([[1, 1],\n",
      "        [1, 1]])\n",
      "torch.int64\n",
      "tensor([[0., 0.],\n",
      "        [1., 0.]])\n",
      "tensor([[1, 2],\n",
      "        [3, 4]])\n",
      "tensor([[2, 3],\n",
      "        [4, 5]])\n"
     ]
    },
    {
     "data": {
      "text/plain": [
       "tensor([[10, 13],\n",
       "        [22, 29]])"
      ]
     },
     "execution_count": 25,
     "metadata": {},
     "output_type": "execute_result"
    }
   ],
   "source": [
    "data = [[1, 2], [3, 4]]\n",
    "x_data = torch.tensor(data)\n",
    "np_array = np.array(data)\n",
    "x_data.numpy() # convert to numpy array from tensor\n",
    "x_np = torch.from_numpy(np_array) # convert to tensor from numpy array\n",
    "print(x_np)\n",
    "np.add(np_array, 1, out=np_array)\n",
    "print(x_np)\n",
    "x_ones = torch.ones_like(x_data)\n",
    "print(x_ones)\n",
    "print(x_data.dtype)\n",
    "torch.rand_like(x_data, dtype=torch.float32)\n",
    "torch.rand(3, 4)\n",
    "x_data.shape, x_data.dtype, x_data.device\n",
    "\n",
    "if torch.cuda.is_available():\n",
    "    device = 'cuda'\n",
    "\n",
    "tensor = torch.eye(4, 4)\n",
    "print(tensor[:2, 1:3])\n",
    "\n",
    "print(x_data)\n",
    "\n",
    "# element-wise multiply\n",
    "print(x_data + 1)\n",
    "\n",
    "# matrix multiply\n",
    "x_data * (x_data + 1)\n",
    "x_data.matmul(x_data + 1)\n",
    "torch.matmul(x_data, x_data + 1)\n",
    "\n"
   ]
  },
  {
   "cell_type": "markdown",
   "id": "3d36d91f",
   "metadata": {},
   "source": [
    "## Neural Network Basics\n",
    "Solve the followings tasks with the help of the [Neural networks tutorial](https://pytorch.org/tutorials/beginner/blitz/neural_networks_tutorial.html).\n",
    "\n",
    "The `nn.Module` is the basic class for layers, networks and models. All parameters of an `nn.Module` are automatically discovered by PyTorch and updated by back-propagation.\n",
    "\n",
    "First, define a neural network (as a subclass of `nn.Module`) with two linear layers and a ReLU non-linearity in between. Make the input, output, and inner dimensions parameters of your network."
   ]
  },
  {
   "cell_type": "code",
   "execution_count": 26,
   "id": "a5284525",
   "metadata": {},
   "outputs": [],
   "source": [
    "import torch.nn as nn"
   ]
  },
  {
   "cell_type": "code",
   "execution_count": 40,
   "id": "e66e191c",
   "metadata": {},
   "outputs": [],
   "source": [
    "class MyNetwork(nn.Module):\n",
    "\n",
    "    def __init__(self, input_dim, output_dim, inner_dim):\n",
    "        super(MyNetwork, self).__init__()\n",
    "        # 2 linear layers with ReLU\n",
    "        self._model = nn.Sequential(\n",
    "            nn.Linear(input_dim, inner_dim),\n",
    "            nn.ReLU(),\n",
    "            nn.Linear(inner_dim, output_dim)\n",
    "        )\n",
    "    \n",
    "    def forward(self, x):\n",
    "        return self._model(x)\n",
    "\n",
    "my_net = MyNetwork(10, 2, 5).to(device)\n",
    "        "
   ]
  },
  {
   "cell_type": "markdown",
   "id": "0b22867b",
   "metadata": {},
   "source": [
    "Print the parameters of your network."
   ]
  },
  {
   "cell_type": "code",
   "execution_count": 41,
   "id": "77e3383e",
   "metadata": {},
   "outputs": [
    {
     "name": "stdout",
     "output_type": "stream",
     "text": [
      "_model.0.weight torch.Size([5, 10])\n",
      "_model.0.bias torch.Size([5])\n",
      "_model.2.weight torch.Size([2, 5])\n",
      "_model.2.bias torch.Size([2])\n"
     ]
    },
    {
     "data": {
      "text/plain": [
       "[Parameter containing:\n",
       " tensor([[ 0.3041, -0.1274,  0.2942,  0.2161,  0.2629, -0.2483, -0.0860, -0.2185,\n",
       "           0.0674,  0.0713],\n",
       "         [-0.2970, -0.2218,  0.0132, -0.2014, -0.0238, -0.1338,  0.2794,  0.1872,\n",
       "          -0.1216, -0.0619],\n",
       "         [ 0.0428,  0.0579, -0.1894, -0.2215,  0.2458, -0.1753, -0.2024, -0.0506,\n",
       "           0.0124,  0.1499],\n",
       "         [-0.2182,  0.2671, -0.2178, -0.2616,  0.1253,  0.1028, -0.3122,  0.0724,\n",
       "          -0.1263,  0.1842],\n",
       "         [-0.2644,  0.0302,  0.2926,  0.2210,  0.2716, -0.1307, -0.1425,  0.0403,\n",
       "          -0.0054, -0.0876]], device='cuda:0', requires_grad=True),\n",
       " Parameter containing:\n",
       " tensor([ 0.1777, -0.0502, -0.0702,  0.0805,  0.2809], device='cuda:0',\n",
       "        requires_grad=True),\n",
       " Parameter containing:\n",
       " tensor([[ 0.0451, -0.3512, -0.0914,  0.2857, -0.4289],\n",
       "         [-0.2651, -0.1095, -0.4458,  0.0309,  0.3867]], device='cuda:0',\n",
       "        requires_grad=True),\n",
       " Parameter containing:\n",
       " tensor([-0.2056,  0.0957], device='cuda:0', requires_grad=True)]"
      ]
     },
     "execution_count": 41,
     "metadata": {},
     "output_type": "execute_result"
    }
   ],
   "source": [
    "params = list(my_net.parameters())\n",
    "\n",
    "for name, param in my_net.named_parameters():\n",
    "    print(name, param.shape)\n",
    "\n",
    "params"
   ]
  },
  {
   "cell_type": "markdown",
   "id": "2f403132",
   "metadata": {},
   "source": [
    "Run a single forward-pass with a random input."
   ]
  },
  {
   "cell_type": "code",
   "execution_count": 42,
   "id": "f3370725",
   "metadata": {},
   "outputs": [
    {
     "name": "stdout",
     "output_type": "stream",
     "text": [
      "torch.Size([4, 2])\n",
      "tensor([[-0.4049,  0.1651],\n",
      "        [-0.3828,  0.1206],\n",
      "        [-0.4466,  0.2066],\n",
      "        [-0.4405,  0.1808]], device='cuda:0', grad_fn=<AddmmBackward0>)\n"
     ]
    }
   ],
   "source": [
    "x = torch.rand(4, 10).to(device)\n",
    "out = my_net(x)\n",
    "print(out.shape)\n",
    "print(out)"
   ]
  },
  {
   "cell_type": "markdown",
   "id": "2c6d2cb7",
   "metadata": {},
   "source": [
    "Define a `nn.MSELoss` and a random target."
   ]
  },
  {
   "cell_type": "code",
   "execution_count": 43,
   "id": "bd1983de",
   "metadata": {},
   "outputs": [],
   "source": [
    "criterion = nn.MSELoss()\n",
    "y = torch.rand(4,2).to(device)"
   ]
  },
  {
   "cell_type": "markdown",
   "id": "39785fbe",
   "metadata": {},
   "source": [
    "Compute the loss and run backpropagation."
   ]
  },
  {
   "cell_type": "code",
   "execution_count": 44,
   "id": "53d5cc3b",
   "metadata": {},
   "outputs": [
    {
     "name": "stdout",
     "output_type": "stream",
     "text": [
      "tensor(0.4108, device='cuda:0', grad_fn=<MseLossBackward0>)\n"
     ]
    }
   ],
   "source": [
    "loss = criterion(out, y)\n",
    "print(loss)\n",
    "\n",
    "my_net.zero_grad()\n",
    "loss.backward()"
   ]
  },
  {
   "cell_type": "markdown",
   "id": "e278bd02",
   "metadata": {},
   "source": [
    "Update the parameters of your network with a learning rate of 0.01."
   ]
  },
  {
   "cell_type": "code",
   "execution_count": 45,
   "id": "4fe16c21",
   "metadata": {},
   "outputs": [],
   "source": [
    "learning_rate = 0.01\n",
    "for param in my_net.parameters():\n",
    "    param.data = param.data - learning_rate * param.grad.data"
   ]
  },
  {
   "cell_type": "markdown",
   "id": "927bd19f",
   "metadata": {},
   "source": [
    "Use the `AdamOptimizer` instead to update your parameters (see the [torch.optim documentation](https://pytorch.org/docs/stable/optim.html))."
   ]
  },
  {
   "cell_type": "code",
   "execution_count": 46,
   "id": "054db4ec",
   "metadata": {},
   "outputs": [],
   "source": [
    "optimizer = torch.optim.Adam(my_net.parameters(), lr=learning_rate)\n",
    "\n",
    "out = my_net(x)\n",
    "loss = criterion(out, y)\n",
    "optimizer.zero_grad()\n",
    "loss.backward()\n",
    "optimizer.step()"
   ]
  },
  {
   "cell_type": "code",
   "execution_count": null,
   "id": "0bb02c7b-e8da-4574-a3c3-600421218ff5",
   "metadata": {},
   "outputs": [],
   "source": []
  }
 ],
 "metadata": {
  "kernelspec": {
   "display_name": "Python 3 (ipykernel)",
   "language": "python",
   "name": "python3"
  },
  "language_info": {
   "codemirror_mode": {
    "name": "ipython",
    "version": 3
   },
   "file_extension": ".py",
   "mimetype": "text/x-python",
   "name": "python",
   "nbconvert_exporter": "python",
   "pygments_lexer": "ipython3",
   "version": "3.11.9"
  }
 },
 "nbformat": 4,
 "nbformat_minor": 5
}
