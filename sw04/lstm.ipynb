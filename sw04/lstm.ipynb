{
 "cells": [
  {
   "cell_type": "markdown",
   "id": "20bae9b5",
   "metadata": {},
   "source": [
    "# Long Short-Term Memory\n",
    "In this exercise, we will implement an LSTM. In the class, we have already seen the definition of the LSTM update rules at time step $t$:\n",
    "\n",
    "$$\n",
    "\\begin{align}\n",
    "f_t &= \\sigma(W_f h_{t-1} + U_f x_t + b_f) \\\\\n",
    "i_t &= \\sigma(W_i h_{t-1} + U_i x_t + b_i) \\\\\n",
    "o_t &= \\sigma(W_o h_{t-1} + U_o x_t + b_o) \\\\\n",
    "\\tilde{c}_t &= \\tanh(W_c h_{t-1} + U_c x_t + b_c) \\\\\n",
    "c_t &= f_t * c_{t-1} + i_t * \\tilde{c}_t \\\\\n",
    "h_t &= o_t * \\tanh(c_t)\n",
    "\\end{align}\n",
    "$$"
   ]
  },
  {
   "cell_type": "code",
   "execution_count": null,
   "id": "e7619e77",
   "metadata": {},
   "outputs": [],
   "source": [
    "import torch\n",
    "import torch.nn as nn"
   ]
  },
  {
   "cell_type": "markdown",
   "id": "c18fa802",
   "metadata": {},
   "source": [
    "Implement this original version of the LSTM as an `LSTMCell`."
   ]
  },
  {
   "cell_type": "code",
   "execution_count": null,
   "id": "5b7cf7f3",
   "metadata": {},
   "outputs": [],
   "source": [
    "class LSTMCell(nn.Module):\n",
    "    def __init__(self, input_dim, hidden_dim):\n",
    "        super().__init__()\n",
    "        \n",
    "        self.W_f = nn.Linear(hidden_dim, input_dim, bias=False)\n",
    "        self.U_f = nn.Linear(input_dim, hidden_dim, bias=False)\n",
    "        self.b_f = nn.Parameter(torch.randn(hidden_dim))\n",
    "        self.W_i = nn.Linear(hidden_dim, hidden_dim, bias=False)\n",
    "        self.U_i = nn.Linear(input_dim, hidden_dim, bias=False)\n",
    "        self.b_i = nn.Parameter(torch.randn(hidden_dim))\n",
    "        self.W_o = nn.Linear(hidden_dim, hidden_dim, bias=False)\n",
    "        self.U_o = nn.Linear(input_dim, hidden_dim, bias=False)\n",
    "        self.b_o = nn.Parameter(torch.randn(hidden_dim))\n",
    "        self.W_c = nn.Linear(hidden_dim, hidden_dim, bias=False)\n",
    "        self.U_c = nn.Linear(input_dim, hidden_dim, bias=False)\n",
    "        self.b_c = nn.Parameter(torch.randn(hidden_dim))\n",
    "    \n",
    "    def reset_parameters(self):\n",
    "        for name, weight in self.named_parameters():\n",
    "            nn.init.normal_(weight, mean=0, std=1.0)\n",
    "    \n",
    "    def forward(self, x, c, h):\n",
    "        #with nn.Parameter: forget_gate = self.W_f @h + self.U_f @x + self.b_f\n",
    "        forget_gate = torch.sigmoid(self.W_f(h) + self.U_f(x) + self.b_f)\n",
    "        input_gate = torch.sigmoid(self.W_i(h) + self.U_i(x) + self.b_i)\n",
    "        output_gate = torch.sigmoid(self.W_o(h) + self.U_o(x) + self.b_o)\n",
    "        new_cell_memory = torch.tanh(self.W_c(h) + self.U_c(x) + self.b_c)\n",
    "        new_cell_state = forget_gate * input_gate * new_cell_memory\n",
    "        new_hidden_state = output_gate * torch.tanh(new_cell_state)\n",
    "        return new_cell_state, new_hidden_state"
   ]
  },
  {
   "cell_type": "markdown",
   "id": "f49ac90b",
   "metadata": {},
   "source": [
    "Create a 2-layer LSTM from your LSTMCell base class and run a forward pass with a random input sequence to test that all your dimensions are correct."
   ]
  },
  {
   "cell_type": "code",
   "execution_count": null,
   "id": "1562d0bb",
   "metadata": {},
   "outputs": [],
   "source": [
    "class LSTM(nn.Module):\n",
    "    def __init__(self, input_dim, hidden_dim, n_layers):\n",
    "        super().__init__()\n",
    "        self.layers = nn.ModuleList([])\n",
    "        for i in range(n_layers):\n",
    "            in_dim = input_dim if i == 0 else hidden_dim\n",
    "            self.layers.append(LSTMCell(in_dim, hidden_dim))\n",
    "        \n",
    "    def reset_parameters(self):\n",
    "        for layer in self.layers:\n",
    "            layer.reset_parameters()\n",
    "        \n",
    "    def forward(self, x, c, h):\n",
    "        \"\"\"\n",
    "        x.shape: [sequence_length, input_dim]\n",
    "        c.shape: [n_layers, hidden_dim]\n",
    "        h.shape: [n_layers, hidden_dim]\n",
    "        \"\"\"\n",
    "        outputs = []\n",
    "        # iteration over time steps\n",
    "        for x_i in x:\n",
    "            # x_i.shape: [input_dim]\n",
    "            # iteration over layers\n",
    "            for layer_i, layer in enumerate(self.layers):\n",
    "                # LSTMCell forward pass\n",
    "                c[layer_i], h[layer_i] = layer(x_i, c[layer_i], h[layer_i])\n",
    "                x_i = h[layer_i]\n",
    "            outputs.append(x_i)   \n",
    "        return outputs, (c, h)\n",
    "        \n",
    "        sequence_length = 10\n",
    "        input_dim = 300\n",
    "        hidden_dim = 20\n",
    "        n_layers = 2\n",
    "        inputs = torch.randn(sequence_length, input_dim)\n",
    "        c0 = torch.zeros(n_layers, hidden_dim)\n",
    "        h0 = torch.zeros(n_layers, hidden_dim)\n",
    "        lstm = LSTM(input_dim, hidden_dim, n_layers)\n",
    "        lstm.reset_parameters()\n",
    "        outputs, (cn, hn) = lstm(inputs, c0, h0)\n",
    "        print(len(outputs), outputs[0].shape)\n",
    "        print(cn.shape)\n",
    "        print(hn.shape)"
   ]
  },
  {
   "cell_type": "markdown",
   "id": "dbc4028e",
   "metadata": {},
   "source": [
    "Implement a subclass of your LSTM that uses a coupled forget and input gate, i.e. the cell state update becomes:\n",
    "\n",
    "$$c_t = f_t * c_{t-1} + (1-f_t) * \\tilde{c}_t$$"
   ]
  },
  {
   "cell_type": "code",
   "execution_count": null,
   "id": "821ee42c",
   "metadata": {},
   "outputs": [],
   "source": [
    "class CoupledLSTMCell(LSTMCell):\n",
    "    def __init__(self, input_dim, hidden_dim):\n",
    "        super().__init__(input_dim, hidden_dim)\n",
    "        \n",
    "        self.W_i = None\n",
    "        self.U_i = None\n",
    "        self.b_i = None\n",
    "        \n",
    "    def forward(self, x, c, h):\n",
    "        forget_gate = torch.sigmoid(self.W_f(h) + self.U_f(x) + self.b_f)\n",
    "        output_gate = torch.sigmoid(self.W_o(h) + self.U_o(x) + self.b_o)\n",
    "        new_cell_memory = torch.tanh(self.W_c(h) + self.U_c(x) + self.b_c)\n",
    "        new_cell_state = forget_gate * c + (1 - forget_gate) * new_cell_memory\n",
    "        new_hidden_state = output_gate * torch.tanh(new_cell_state)\n",
    "        return new_cell_state, new_hidden_state\n",
    "    \n",
    "class CoupledLSTM(LSTM):\n",
    "    def __init__(self, input_dim, hidden_dim, n_layers):\n",
    "        super().__init__(input_dim, hidden_dim, n_layers)\n",
    "        self.layers = nn.ModuleList([])\n",
    "        for i in range(n_layers):\n",
    "            in_dim = input_dim if i == 0 else hidden_dim\n",
    "            self.layers.append(CoupledLSTMCell(in_dim, hidden_dim))\n",
    "            \n",
    "\n",
    "coupled_lstm = CoupledLSTM()\n",
    "        "
   ]
  },
  {
   "cell_type": "markdown",
   "id": "371c955b",
   "metadata": {},
   "source": [
    "**Bonus:** Implement *peephole connections* as described at the start of the Section *Variants on Long Short Term Memory* in [this blog post explaining LSTMs](https://colah.github.io/posts/2015-08-Understanding-LSTMs/).\n",
    "\n",
    "The gate update definitions get an additional term that looks at the cell state:\n",
    "$$\n",
    "\\begin{align}\n",
    "f_t &= \\sigma(W_f h_{t-1} + U_f x_t + b_f \\boldsymbol{+ V_f c_{t-1}}) \\\\\n",
    "i_t &= \\sigma(W_i h_{t-1} + U_i x_t + b_i \\boldsymbol{+ V_i c_{t-1}}) \\\\\n",
    "o_t &= \\sigma(W_o h_{t-1} + U_o x_t + b_o \\boldsymbol{+ V_o c_t})\n",
    "\\end{align}\n",
    "$$\n",
    "\n",
    "To make the task a bit easier, we will implement the last equation with the cell state of the previous time step $t-1$ as $$o_t = \\sigma(W_o h_{t-1} + U_o x_t + b_o \\boldsymbol{+ V_o c_{t-1}})$$ instead."
   ]
  },
  {
   "cell_type": "code",
   "execution_count": null,
   "id": "97f33705",
   "metadata": {},
   "outputs": [],
   "source": []
  }
 ],
 "metadata": {
  "kernelspec": {
   "display_name": "Python 3 (ipykernel)",
   "language": "python",
   "name": "python3"
  },
  "language_info": {
   "codemirror_mode": {
    "name": "ipython",
    "version": 3
   },
   "file_extension": ".py",
   "mimetype": "text/x-python",
   "name": "python",
   "nbconvert_exporter": "python",
   "pygments_lexer": "ipython3",
   "version": "3.12.5"
  }
 },
 "nbformat": 4,
 "nbformat_minor": 5
}
