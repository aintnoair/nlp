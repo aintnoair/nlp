{
 "cells": [
  {
   "cell_type": "markdown",
   "id": "53d81604-025d-4fe1-a130-6a978f5ba135",
   "metadata": {},
   "source": [
    "# Topic Modeling\n",
    "In this exercise, we will do topic modeling with gensim. Use the [topics and transformations tutorial](https://radimrehurek.com/gensim/auto_examples/core/run_topics_and_transformations.html) as a reference."
   ]
  },
  {
   "cell_type": "code",
   "execution_count": 1,
   "id": "e45876ae-0f77-4bf8-8da4-b18618005327",
   "metadata": {
    "ExecuteTime": {
     "end_time": "2024-09-25T09:14:03.795778Z",
     "start_time": "2024-09-25T09:14:03.171067Z"
    }
   },
   "outputs": [],
   "source": [
    "import os\n",
    "from collections import defaultdict\n",
    "\n",
    "import gensim\n",
    "import nltk"
   ]
  },
  {
   "cell_type": "markdown",
   "id": "91e6efd1",
   "metadata": {},
   "source": [
    "For tokenizing words and stopword removal, download the NLTK punkt tokenizer and stopwords list."
   ]
  },
  {
   "cell_type": "code",
   "execution_count": 2,
   "id": "edf524f8",
   "metadata": {
    "ExecuteTime": {
     "end_time": "2024-09-25T09:14:03.887219Z",
     "start_time": "2024-09-25T09:14:03.796472Z"
    }
   },
   "outputs": [
    {
     "name": "stderr",
     "output_type": "stream",
     "text": [
      "[nltk_data] Error loading punkt_tab: <urlopen error [SSL:\n",
      "[nltk_data]     CERTIFICATE_VERIFY_FAILED] certificate verify failed:\n",
      "[nltk_data]     unable to get local issuer certificate (_ssl.c:1006)>\n",
      "[nltk_data] Error loading stopwords: <urlopen error [SSL:\n",
      "[nltk_data]     CERTIFICATE_VERIFY_FAILED] certificate verify failed:\n",
      "[nltk_data]     unable to get local issuer certificate (_ssl.c:1006)>\n"
     ]
    },
    {
     "data": {
      "text/plain": [
       "False"
      ]
     },
     "execution_count": 2,
     "metadata": {},
     "output_type": "execute_result"
    }
   ],
   "source": [
    "nltk.download('punkt_tab')\n",
    "nltk.download('stopwords')"
   ]
  },
  {
   "cell_type": "markdown",
   "id": "cee84f40-20bf-47da-b0b4-a0ff28f9b5cd",
   "metadata": {},
   "source": [
    "First, we load the [Lee Background Corpus](https://hekyll.services.adelaide.edu.au/dspace/bitstream/2440/28910/1/hdl_28910.pdf) included with gensim that contains 300 news articles of the Australian Broadcasting Corporation."
   ]
  },
  {
   "cell_type": "code",
   "execution_count": 3,
   "id": "24d72e97",
   "metadata": {
    "ExecuteTime": {
     "end_time": "2024-09-25T09:14:03.927193Z",
     "start_time": "2024-09-25T09:14:03.884348Z"
    }
   },
   "outputs": [],
   "source": [
    "from gensim.test.utils import datapath\n",
    "train_file = datapath('lee_background.cor')\n",
    "articles_orig = open(train_file).read().splitlines()"
   ]
  },
  {
   "cell_type": "markdown",
   "id": "d4b2e56f",
   "metadata": {},
   "source": [
    "Preprocess the text by lowercasing, removing stopwords, stemming, and removing rare words."
   ]
  },
  {
   "cell_type": "code",
   "execution_count": 4,
   "id": "88a870af-9f6b-43ea-940f-558e9a21bb71",
   "metadata": {
    "ExecuteTime": {
     "end_time": "2024-09-25T09:14:04.116234Z",
     "start_time": "2024-09-25T09:14:03.925294Z"
    }
   },
   "outputs": [],
   "source": [
    "# define stopword list\n",
    "stopwords = set(nltk.corpus.stopwords.words('english'))\n",
    "stopwords = stopwords | {'\\\"', '\\'', '\\'\\'', '`', '``', '\\'s'}\n",
    "\n",
    "# initialize stemmer\n",
    "stemmer = nltk.stem.PorterStemmer()\n",
    "\n",
    "def preprocess(article):\n",
    "    # tokenize\n",
    "    article = nltk.word_tokenize(article)  # TODO\n",
    "\n",
    "    # lowercase all words\n",
    "    article = [word.lower() for word in article]  # TODO\n",
    "\n",
    "    # remove stopwords\n",
    "    article = [word for word in article if word not in stopwords]  # TODO\n",
    "\n",
    "    # optional: stem\n",
    "    # article = [stemmer.stem(word) for word in article]\n",
    "    return article\n",
    "\n",
    "articles = [preprocess(article) for article in articles_orig]\n",
    "\n",
    "# create the dictionary and corpus objects that gensim uses for topic modeling\n",
    "dictionary = gensim.corpora.Dictionary(articles)\n",
    "\n",
    "# remove words that occur in less than 2 documents, or more than 50% of documents\n",
    "dictionary.filter_extremes(no_below=2, no_above=0.5)\n",
    "temp = dictionary[0]  # load the dictionary by calling it once\n",
    "corpus_bow = [dictionary.doc2bow(article) for article in articles]"
   ]
  },
  {
   "cell_type": "markdown",
   "id": "9d5ae61a",
   "metadata": {},
   "source": [
    "\n",
    "Now we create a TF-IDF model and transform the corpus into TF-IDF vectors."
   ]
  },
  {
   "cell_type": "code",
   "execution_count": 5,
   "id": "fab13db5",
   "metadata": {
    "ExecuteTime": {
     "end_time": "2024-09-25T09:14:04.126848Z",
     "start_time": "2024-09-25T09:14:04.122427Z"
    }
   },
   "outputs": [
    {
     "name": "stdout",
     "output_type": "stream",
     "text": [
      "[(0, 0.045163832296308125), (1, 0.049004990699027966), (2, 0.09398031720792203), (3, 0.06797874731615453), (4, 0.08637534553463992), (5, 0.10158528888120417), (6, 0.058872481173046734), (7, 0.045871696227162966), (8, 0.04660732651093343), (9, 0.03476708703034139), (10, 0.09174339245432593), (11, 0.06379342938648586), (12, 0.08097953226203827), (13, 0.08637534553463992), (14, 0.06576958891547403), (15, 0.05748249959948285), (16, 0.07679421433236962), (17, 0.09398031720792203), (18, 0.04197717742438698), (19, 0.06379342938648586), (20, 0.09398031720792203), (21, 0.07679421433236962), (22, 0.08097953226203827), (23, 0.058872481173046734), (24, 0.05497796237027076), (25, 0.05497796237027076), (26, 0.07337456058875615), (27, 0.05497796237027076), (28, 0.08637534553463992), (29, 0.058872481173046734), (30, 0.062005775644911734), (31, 0.08637534553463992), (32, 0.09398031720792203), (33, 0.04737299069698862), (34, 0.07048328454536662), (35, 0.09398031720792203), (36, 0.09398031720792203), (37, 0.07679421433236962), (38, 0.06379342938648586), (39, 0.09398031720792203), (40, 0.05276880396959025), (41, 0.3161468260741569), (42, 0.06576958891547403), (43, 0.06576958891547403), (44, 0.04197717742438698), (45, 0.1860173269347352), (46, 0.08637534553463992), (47, 0.09398031720792203), (48, 0.17275069106927984), (49, 0.15358842866473923), (50, 0.1973087667464221), (51, 0.19138028815945754), (52, 0.06379342938648586), (53, 0.18796063441584407), (54, 0.07679421433236962), (55, 0.05384087678041912), (56, 0.07679421433236962), (57, 0.07679421433236962), (58, 0.08637534553463992), (59, 0.04318767276731996), (60, 0.13595749463230905), (61, 0.07048328454536662), (62, 0.06797874731615453), (63, 0.04318767276731996), (64, 0.08637534553463992), (65, 0.04448171465359908), (66, 0.049877527926200725), (67, 0.07337456058875615), (68, 0.05175471008582299), (69, 0.029876861457627475), (70, 0.043823535964961836), (71, 0.07337456058875615), (72, 0.1663540992526395), (73, 0.048171245973727274), (74, 0.09398031720792203), (75, 0.062005775644911734), (76, 0.04274284161044218), (77, 0.07337456058875615), (78, 0.06037377564287238), (79, 0.18796063441584407), (80, 0.09398031720792203), (81, 0.06379342938648586), (82, 0.23038264299710884), (83, 0.05618845771320373), (84, 0.08097953226203827), (85, 0.06379342938648586), (86, 0.07048328454536662), (87, 0.05384087678041912), (88, 0.06797874731615453), (89, 0.14342796675805272), (90, 0.07679421433236962), (91, 0.10995592474054151), (92, 0.06379342938648586), (93, 0.03976801902370649), (94, 0.0360042057531442), (95, 0.06797874731615453), (96, 0.07679421433236962), (97, 0.058872481173046734), (98, 0.11930405707111948), (99, 0.07679421433236962), (100, 0.030502124955654616), (101, 0.1860173269347352), (102, 0.05618845771320373), (103, 0.058872481173046734), (104, 0.08097953226203827), (105, 0.17529414385984735), (106, 0.11237691542640746), (107, 0.045871696227162966), (108, 0.08097953226203827), (109, 0.06037377564287238), (110, 0.03398546693692743)]\n"
     ]
    }
   ],
   "source": [
    "from gensim import models\n",
    "\n",
    "tfidf = models.TfidfModel(corpus_bow)\n",
    "corpus_tfidf = tfidf[corpus_bow]\n",
    "print(corpus_tfidf[0])"
   ]
  },
  {
   "cell_type": "markdown",
   "id": "d24df8cb",
   "metadata": {},
   "source": [
    "Now we train an [LDA model](https://radimrehurek.com/gensim/auto_examples/tutorials/run_lda.html) with 10 topics on the TF-IDF corpus. Save it to a variable `model_lda`."
   ]
  },
  {
   "cell_type": "code",
   "execution_count": 6,
   "id": "7ded6b2d",
   "metadata": {
    "ExecuteTime": {
     "end_time": "2024-09-25T09:14:04.529387Z",
     "start_time": "2024-09-25T09:14:04.140415Z"
    }
   },
   "outputs": [],
   "source": [
    "model_lda = models.LsiModel(\n",
    "    corpus_tfidf,\n",
    "    id2word=dictionary,\n",
    "    num_topics=100\n",
    ")"
   ]
  },
  {
   "cell_type": "markdown",
   "id": "91845654",
   "metadata": {},
   "source": [
    "Let's inspect the first 5 topics of our model."
   ]
  },
  {
   "cell_type": "code",
   "execution_count": 7,
   "id": "ca3a357e",
   "metadata": {
    "ExecuteTime": {
     "end_time": "2024-09-25T09:14:04.539340Z",
     "start_time": "2024-09-25T09:14:04.530189Z"
    }
   },
   "outputs": [
    {
     "data": {
      "text/plain": [
       "[(0,\n",
       "  '-0.256*\"palestinian\" + -0.175*\"arafat\" + -0.163*\"israeli\" + -0.127*\"mr\" + -0.108*\"israel\" + -0.106*\"afghanistan\" + -0.103*\"hamas\" + -0.096*\"us\" + -0.094*\"government\" + -0.091*\"attacks\"'),\n",
       " (1,\n",
       "  '0.404*\"palestinian\" + 0.277*\"arafat\" + 0.257*\"israeli\" + 0.170*\"israel\" + 0.167*\"hamas\" + 0.145*\"gaza\" + 0.126*\"sharon\" + 0.110*\"suicide\" + -0.099*\"afghanistan\" + -0.098*\"qantas\"'),\n",
       " (2,\n",
       "  '0.250*\"qantas\" + -0.213*\"afghanistan\" + -0.209*\"bin\" + -0.206*\"laden\" + 0.198*\"workers\" + -0.161*\"al\" + -0.161*\"qaeda\" + -0.138*\"tora\" + -0.138*\"bora\" + 0.136*\"industrial\"'),\n",
       " (3,\n",
       "  '-0.332*\"qantas\" + -0.256*\"workers\" + 0.251*\"test\" + -0.180*\"industrial\" + 0.164*\"south\" + -0.160*\"unions\" + -0.157*\"maintenance\" + 0.146*\"africa\" + -0.124*\"dispute\" + 0.116*\"waugh\"'),\n",
       " (4,\n",
       "  '-0.232*\"test\" + -0.158*\"qantas\" + -0.139*\"africa\" + 0.135*\"river\" + 0.122*\"fire\" + -0.112*\"waugh\" + 0.112*\"guides\" + 0.109*\"canyoning\" + -0.108*\"workers\" + 0.104*\"adventure\"')]"
      ]
     },
     "execution_count": 7,
     "metadata": {},
     "output_type": "execute_result"
    }
   ],
   "source": [
    "model_lda.print_topics(5)"
   ]
  },
  {
   "cell_type": "markdown",
   "id": "138ce453",
   "metadata": {},
   "source": [
    "We see the 5 topics with the highest importance. For each topic, the 10 most important words are shown, together with their coefficient of \"alignment\" to the topic.\n",
    "\n",
    "## Document Similarity\n",
    "We now use our LDA model to compare the similarity of new documents (*queries*) to documents in our collection.\n",
    "\n",
    "First, create an index of the news articles in our corpus. Use the `MatrixSimilarity` transformation as described in gensim's [similarity queries tutorial](https://radimrehurek.com/gensim/auto_examples/core/run_similarity_queries.html)."
   ]
  },
  {
   "cell_type": "code",
   "execution_count": 8,
   "id": "4eb44cb8",
   "metadata": {
    "ExecuteTime": {
     "end_time": "2024-09-25T09:14:04.658046Z",
     "start_time": "2024-09-25T09:14:04.544353Z"
    }
   },
   "outputs": [],
   "source": [
    "from gensim import similarities\n",
    "\n",
    "index = similarities.MatrixSimilarity(model_lda[corpus_tfidf])"
   ]
  },
  {
   "cell_type": "markdown",
   "id": "de7b2c1f",
   "metadata": {},
   "source": [
    "Now, write a function that takes a query string as input and returns the LDA representation for it. Make sure to apply the same preprocessing as we did to the documents."
   ]
  },
  {
   "cell_type": "code",
   "execution_count": 9,
   "id": "dabf9dfd",
   "metadata": {
    "ExecuteTime": {
     "end_time": "2024-09-25T09:14:04.667741Z",
     "start_time": "2024-09-25T09:14:04.658908Z"
    }
   },
   "outputs": [
    {
     "name": "stdout",
     "output_type": "stream",
     "text": [
      "[(0, -0.03213616814593185), (1, -0.014216068744702336), (2, -0.009263189325339068), (3, -0.003663589720304929), (4, 0.02087933745311699), (5, 0.020982025430939886), (6, -0.031368670536165356), (7, -0.015777024118179515), (8, 0.023397708297488433), (9, 0.000852916929276271), (10, -0.006852492871940254), (11, 0.005771291772283533), (12, -0.024219241788723797), (13, -0.02769962525342491), (14, 0.036966597742016695), (15, 0.027731261848940394), (16, 0.0012665565675291993), (17, 0.029555511338381156), (18, 0.01204054413599529), (19, 0.021656190078206076), (20, -0.018458663750750226), (21, -0.014238400445925203), (22, -0.0014801973703616016), (23, 0.04282279769695785), (24, -0.04428804167229525), (25, -0.01757267308809045), (26, -0.04823066004899685), (27, 0.008890126662761934), (28, -0.00928100229141298), (29, -0.024719086986037576), (30, -0.006015124731031865), (31, -0.033120883519865765), (32, -0.005031921733230446), (33, -0.04869540296059207), (34, 0.015470187494727774), (35, -0.030412698010976187), (36, -0.005811946356523918), (37, 0.012213488044588699), (38, 0.03842451590985063), (39, 0.058860886163869086), (40, -0.04526842771150369), (41, 0.0054729659116174705), (42, 0.032472389565343436), (43, -0.01534372986138804), (44, -0.020889333561811115), (45, -0.007061414824173077), (46, -0.01310461819365854), (47, -0.02041783863332858), (48, 0.0028953198905202586), (49, 0.03143557367349772), (50, 0.025851198860690938), (51, -0.057673664948994494), (52, 0.019105949590942216), (53, 0.011100890008720199), (54, -0.01095457465893197), (55, -0.01196536511291922), (56, -0.020564706168441665), (57, 0.016656407691552248), (58, -0.03918528577369604), (59, 0.015363261557627066), (60, 0.00909272001757697), (61, 0.010929532152592118), (62, -0.013650830418170891), (63, -0.004241747452182893), (64, 0.031216058182507233), (65, 0.0009647426864338622), (66, 0.008852817187741556), (67, 0.011016701448143616), (68, -0.0010909790116394955), (69, 0.011919378632139342), (70, -0.0017341503245523538), (71, 0.016214652220340398), (72, -0.017366090108776454), (73, 0.014379769581819565), (74, -0.0019592902846376874), (75, 0.03205606696549307), (76, -0.023515040541186125), (77, -0.013874294624090552), (78, -0.013374294397672822), (79, -0.007792424001285087), (80, -0.01709625228350204), (81, 0.022573299877885394), (82, 0.02067587146137106), (83, -0.012295284234047127), (84, 0.0023285935741820143), (85, 0.005025697666520487), (86, -0.00300908393128265), (87, -0.008387578611498782), (88, -0.03906419894654356), (89, 0.010269702198104701), (90, 0.019014517128926996), (91, 0.0013307339566009796), (92, 0.0288423748845536), (93, 0.01774905416214612), (94, -0.013566278854723286), (95, 0.018430583453883355), (96, 0.000977295777012421), (97, 0.0045266752197230175), (98, -0.022006587826975434), (99, 0.017318804135867137)]\n"
     ]
    }
   ],
   "source": [
    "query = (\"Who is president?\")\n",
    "\n",
    "def get_lda_vector(text):\n",
    "    text = preprocess(text)\n",
    "    bow = dictionary.doc2bow(text)\n",
    "    tfidf_vector = tfidf[bow]\n",
    "    lda_vector = model_lda[tfidf_vector]\n",
    "    return lda_vector\n",
    "\n",
    "query_vector = get_lda_vector(query)\n",
    "print(query_vector)\n",
    "    "
   ]
  },
  {
   "cell_type": "markdown",
   "id": "b77753be",
   "metadata": {},
   "source": [
    "Print the top 5 most similar documents, together with their similarities, using your index created above."
   ]
  },
  {
   "cell_type": "code",
   "execution_count": 10,
   "id": "7696f2f3",
   "metadata": {
    "ExecuteTime": {
     "end_time": "2024-09-25T09:14:04.676446Z",
     "start_time": "2024-09-25T09:14:04.668699Z"
    }
   },
   "outputs": [
    {
     "name": "stdout",
     "output_type": "stream",
     "text": [
      "0.5046015 At least four people, including two policemen, have been killed during an attempted coup in Haiti overnight. Armed commandos had stormed the national palace in the Haitian capital after midnight, local time and seized control of radio communications equipment. The attackers, understood to be former members of the Haitian military, fired at security guards as they entered the palace - the official residence of President Jean Bertrand Aristide. But the President was at another home in the capital Port-au-Prince during the attack. It is understood some of the gunmen have been arrested and the Haitian Government says it is now back in control. President Aristide was deposed in a coup 10 years ago, but was returned to power in 1994 after a United States invasion. He was recently re-elected for five years. \n",
      "0.44464743 A director of a defunct Swiss company that organised a canyoning trip in 1999 that ended with 21 people dying, 14 of them Australians, has denied responsibility for the tragedy. Along with two co-directors who are also charged with manslaughter, Adventure World director Stephan Friedli appeared in court on the first day of their trial. He described the deaths of 21 people in the Saxeten River Gorge as an accident that was unforeseeable and not preventable. Friedli said he was aware of the possibility the river could flood, but when asked whether his company carried out risk analysis he replied: \"We know the region, we live here\". To the question, \"you know what you are accused of, have you made any mistakes?\", Mr Friedli replied: \"No, I don't think so\". \n",
      "0.44464743 A director of a defunct Swiss company that organised a canyoning trip in 1999 that ended with 21 people dying, 14 of them Australians, has denied responsibility for the tragedy. Along with two co-directors who are also charged with manslaughter, Adventure World director Stephan Friedli appeared in court on the first day of their trial. He described the deaths of 21 people in the Saxeten River Gorge as an accident that was unforeseeable and not preventable. Friedli said he was aware of the possibility the river could flood, but when asked whether his company carried out risk analysis he replied: \"We know the region, we live here\". To the question, \"you know what you are accused of, have you made any mistakes?\", Mr Friedli replied: \"No, I don't think so\". \n",
      "0.41057724 The Prime Minister, John Howard, has revealed he will go to Indonesia for a summit meeting with Indonesian President Megawati Sukarnoputri. There have been talks underway since Mr Howard was re-elected on the timing and venue for the summit. Mr Howard has now revealed he expects to travel to Indonesia for the top level meeting in February or March. It will be his second visit to Jakarta within a year. The two leaders met in Jakarta in August shortly after President Megawati took on the role. Australia and Indonesia are co-hosting an international summit on people smuggling issues in February and those issues are expected to again be a key part of the bilateral talks. Australia and Indonesia are also discussing the resumption of military ties. President Megawati signalled the relationship between the two nations had strengthened by sending a congratulatory letter to Mr Howard after the election. \n",
      "0.38016796 A French Moroccan man has been charged in the United States with conspiracy in the terrorist attacks of September 11. It is the first indictment directly related to the suicide hijackings. News of the charge came as President George W Bush delivered a major foreign policy speech. Zaccarias Moussaoui sought flying lessons a month before the hijackings. Attorney-General John Ashcroft claims he was an active participant in the attacks. \"Moussaoui is charged with undergoing the same training, receiving the same funding and pledging the same commitment to kill Americans as the hijackers,\" he said. Three months to the day since the attacks and President Bush says missile defence is now more essential than ever before. \"We must protect America and our friends against all forms of terror, including the terror that could arrive on a missile,\" he said. President Bush says the United States now needs a dramatically retooled military, armed with hi-tech weapons and real-time intelligence. \n"
     ]
    }
   ],
   "source": [
    "document_similarities = index[query_vector]\n",
    "\n",
    "sorted_documents = sorted(enumerate(document_similarities), key=lambda x: x[1], reverse=True)\n",
    "for doc_idx, doc_similarity in sorted_documents[:5]:\n",
    "    print(doc_similarity, articles_orig[doc_idx])\n"
   ]
  },
  {
   "cell_type": "markdown",
   "id": "56e05dba",
   "metadata": {},
   "source": [
    "Run your code again, now training an LDA model with 100 topics. Do you see a qualitative difference in the top-5 most similar documents?"
   ]
  },
  {
   "cell_type": "code",
   "execution_count": 10,
   "id": "b8b2c7de72cc0551",
   "metadata": {
    "ExecuteTime": {
     "end_time": "2024-09-25T09:14:04.716627Z",
     "start_time": "2024-09-25T09:14:04.676770Z"
    },
    "collapsed": false,
    "jupyter": {
     "outputs_hidden": false
    }
   },
   "outputs": [],
   "source": []
  }
 ],
 "metadata": {
  "kernelspec": {
   "display_name": "Python 3 (ipykernel)",
   "language": "python",
   "name": "python3"
  },
  "language_info": {
   "codemirror_mode": {
    "name": "ipython",
    "version": 3
   },
   "file_extension": ".py",
   "mimetype": "text/x-python",
   "name": "python",
   "nbconvert_exporter": "python",
   "pygments_lexer": "ipython3",
   "version": "3.11.9"
  }
 },
 "nbformat": 4,
 "nbformat_minor": 5
}
